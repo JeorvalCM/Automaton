{
 "cells": [
  {
   "cell_type": "markdown",
   "metadata": {},
   "source": [
    "# Pushdowm Automata"
   ]
  },
  {
   "cell_type": "code",
   "execution_count": 1,
   "metadata": {},
   "outputs": [],
   "source": [
    "import warnings\n",
    "\n",
    "class pushdown_automata:\n",
    "    \n",
    "    def __init__(self, q = None, sigma = None, sigma_stack = None, delta = None, q0 = None, empty_symbol = \"lambda\", f = None):\n",
    "        \"\"\"\n",
    "        Class initializar\n",
    "        \n",
    "        self.q receives all the states that conform the pushdown automata\n",
    "        \n",
    "        self.sigma are all the variables defined in the pushdown automata\n",
    "        \n",
    "        self.sigma_stack all the variables defined for the stack\n",
    "        \n",
    "        self.delta all are the operation defined, i.e- is a dictionary contating a tuple as key\n",
    "        where the left values of the tuple is the current state and the right value the variable pass and the value obtain by\n",
    "        accessing to with the key is to which state goes.\n",
    "        \n",
    "        self.q0 is the initial state\n",
    "        \n",
    "        self.empty_symbol is the symbol in which is represent the empty value, for instance, it is lambda bout could be epsilon\n",
    "        or another symbol, but it has to be defined, it is not receive from txt.\n",
    "        \n",
    "        self.f are all the final states\n",
    "        \n",
    "        self.stack_operation \n",
    "        \n",
    "        self.stack list saving the stack elements\n",
    "        \n",
    "        self.actual_state is the state which the dfa finish after proccessing a word, if no word proccess the actual state is q0\n",
    "        and it is reset at start proccessing a new word\n",
    "        \"\"\"\n",
    "        self.q = q\n",
    "        self.sigma = sigma\n",
    "        self.sigma_stack = sigma_stack\n",
    "        self.delta = delta\n",
    "        self.q0 = q0\n",
    "        self.empty_symbol = empty_symbol\n",
    "        self.f = f\n",
    "        \n",
    "        \n",
    "        self.stack = list()\n",
    "        self.stack_operation = None\n",
    "        self.actual_state = q0\n",
    "        \n",
    "        \n",
    "        self.trampa = False\n",
    "        \n",
    "        try:\n",
    "            if self.is_valid():\n",
    "                pass\n",
    "\n",
    "            else:\n",
    "                warnings.warn(\"Not valid automaton\")\n",
    "\n",
    "        except:\n",
    "            warnings.warn(\"Not valid automaton\")\n",
    "            \n",
    "        \n",
    "        \n",
    "        \n",
    "    def load_from_file(self, path, delta_separator = \"-\"):\n",
    "        \"\"\"\n",
    "        Function to read a file that contains an automaton\n",
    "        \n",
    "        path: path file\n",
    "        \"\"\"\n",
    "        \n",
    "        #dictionary to save the parts of the automaton\n",
    "        variables = {\"q\": None,\n",
    "             \"sigma\": None,\n",
    "             \"sigma_stack\": None,\n",
    "             \"delta\": None,\n",
    "             \"q0\": None,\n",
    "             \"f\": None    \n",
    "        }\n",
    "        \n",
    "        stack_operations = dict()\n",
    "        \n",
    "        with open(path) as file:\n",
    "            #parsing the document\n",
    "            for line, variable in zip(file, variables):\n",
    "                    line = line.replace(\"{\", \"\")\n",
    "                    line = line.replace(\"}\", \"\")\n",
    "                    line = line.replace(\"\\n\", \"\")\n",
    "                    line = line.replace(\" \", \"\")\n",
    "                    value = list(line.split(\",\"))\n",
    "                    variables[variable] = value\n",
    "                    \n",
    "            #conditional to verify there is only one initial state        \n",
    "            if len(variables[\"q0\"]) > 1 or len(variables[\"q0\"]) == 0:\n",
    "                raise Exception('There are more than one initial state')\n",
    "                \n",
    "            variables[\"delta\"] = [values.split(delta_separator) for values in variables[\"delta\"]]\n",
    "            \n",
    "            for i in variables[\"delta\"]:\n",
    "                if (i[0],i[1],i[2]) in stack_operations:\n",
    "                    stack_operations[(i[0],i[1],i[2])].append(i[3])\n",
    "                else:\n",
    "                    stack_operations[(i[0],i[1],i[2])] = [i[3]]\n",
    "        \n",
    "        \n",
    "            new_delta = dict()\n",
    "            \n",
    "            for i in variables[\"delta\"]:\n",
    "                if (i[0],i[1],i[2]) in new_delta:\n",
    "                    new_delta[(i[0],i[1],i[2])].append(i[4])\n",
    "                    \n",
    "                else:\n",
    "                    new_delta[(i[0],i[1],i[2])] = [i[4]]\n",
    "        \n",
    "        \n",
    "            \n",
    "            \n",
    "            #getting q0\n",
    "            variables[\"q0\"] = variables[\"q0\"][0]\n",
    "            \n",
    "            #assigning the attributos of the class to the values obtained from the file\n",
    "            self.q = variables[\"q\"]\n",
    "            self.sigma = variables[\"sigma\"]\n",
    "            self.delta = new_delta\n",
    "            self.q0 = variables[\"q0\"] \n",
    "            self.f = variables[\"f\"]\n",
    "            self.sigma_stack = variables['sigma_stack']\n",
    "            self.stack_operation = stack_operations\n",
    "            self.actual_state = variables[\"q0\"]\n",
    "            \n",
    "            if self.is_valid():\n",
    "                pass\n",
    "            \n",
    "            else:\n",
    "                raise ErrorConfiguration(\"Not valid automaton\")\n",
    "            \n",
    "            \n",
    "            \n",
    "    def is_valid(self):\n",
    "        \n",
    "        \"\"\"\n",
    "        Funtion to validate whether the pushdown is valid or not\n",
    "        \n",
    "        Uses the attributes of the class\n",
    "        \"\"\"\n",
    "        \n",
    "        \n",
    "        #get the values of the stack operations\n",
    "        all_to_go_states = [value for value in self.delta.values()]\n",
    "        \n",
    "        all_to_go_states = [item for sublist in all_to_go_states for item in sublist ]\n",
    "        \n",
    "        #get the values of the deltas\n",
    "        all_to_stack_to_push = [value for value in self.stack_operation.values()]\n",
    "        \n",
    "        all_to_stack_to_push = [item for sublist in all_to_stack_to_push for item in sublist if item != self.empty_symbol]\n",
    "        \n",
    "        #gets the left value of the tuple\n",
    "        all_states_to_receive = set([state[0] for state in list(self.delta.keys())])\n",
    "        \n",
    "        #gets the right value of the tuple\n",
    "        all_variables_to_receive = set([state[1] for state in list(self.delta.keys())])\n",
    "        \n",
    "        #get the value of the stack element to consume\n",
    "        all_variables_to_consume = set([state[2] for state in list(self.delta.keys()) if state[2] != self.empty_symbol])\n",
    "        \n",
    "        #conditional to check if the final states are subsets of q, which is the variable containing all the states\n",
    "        if set(self.f).issubset(set(self.q)):\n",
    "            pass\n",
    "        \n",
    "        else:\n",
    "            raise TypeError(\"States of F are not a subset of states q\")\n",
    "            \n",
    "            \n",
    "        #conditional to check if the inital state is a subsets of q, which is the variable containing all the states    \n",
    "        if self.q0 in set(self.q):\n",
    "            pass\n",
    "        \n",
    "        else:\n",
    "            raise TypeError(\"q0 is not a subset of states q\")\n",
    "            \n",
    "        \n",
    "        #checking if the left value of the tuple is subset of q and the right value is subset of sigma\n",
    "        if set(all_states_to_receive).issubset(set(self.q)):\n",
    "            pass\n",
    "        \n",
    "        else:\n",
    "            raise TypeError(\"The state before a applying the transiction is not a subset of q\")\n",
    "            \n",
    "        sigmas = set(self.sigma)\n",
    "        sigmas.add(self.empty_symbol)\n",
    "        if set(all_variables_to_receive).issubset(sigmas):\n",
    "            pass\n",
    "        \n",
    "        else:\n",
    "            print(all_variables_to_receive)\n",
    "            print(self.sigma)\n",
    "            raise TypeError(\"The variable which is apply to the transiction is not a subset of sigma\")\n",
    "        \n",
    "        #checking if all the transictions of delta are subsets of q\n",
    "        if set(all_to_go_states).issubset(set(self.q)):\n",
    "            pass\n",
    "        \n",
    "        else:\n",
    "            raise TypeError(\"The state resultant of a transiction is not a subset of states q\")\n",
    "            \n",
    "         #checking if all the transictions of delta are subsets of q\n",
    "        if set(all_variables_to_consume).issubset(set(self.sigma_stack)):\n",
    "            pass\n",
    "        \n",
    "        else:\n",
    "            raise TypeError(\"The stack element to consume does not belong to the variables for the stack\")\n",
    "            \n",
    "        \n",
    "        #checking if all the transictions of delta are subsets of q\n",
    "        if set(all_to_stack_to_push).issubset(set(self.sigma_stack)):\n",
    "            pass\n",
    "        \n",
    "        else:\n",
    "            raise TypeError(\"The stack element to push does not belong to the variables for the stack\")\n",
    "            \n",
    "        return True\n",
    "            \n",
    "            \n",
    "    def empty_transitions(self, state, stack_element = None):\n",
    "        \"\"\"\n",
    "        Function to find all reachable states from an initial state just passing empty symbols\n",
    "\n",
    "        Input:\n",
    "        Current State\n",
    "        stack_element: is an stack element consumed in the stack in order to apply that empty transition, this stack element could be \n",
    "        an empty symbol as well.\n",
    "\n",
    "        Output:\n",
    "        return a tuple of 2 elements that each one is a list of value of a given key\n",
    "        \"\"\"\n",
    "        #case where a stack element was not passed, so it\n",
    "        if stack_element == None:\n",
    "            stack_element = self.empty_symbol\n",
    "        \n",
    "        #check if the state belongs to the automata states\n",
    "        if state in set(self.q):\n",
    "            pass\n",
    "        else:\n",
    "            raise Exception(\"The given state does not belong to this automaton\")\n",
    "\n",
    "        \n",
    "        if stack_element != self.empty_symbol:\n",
    "            #check if the stack element belongs to the variables of the stack of the automata\n",
    "            if stack_element in set(self.sigma_stack):\n",
    "                pass\n",
    "            else:\n",
    "                raise Exception(\"The given stack element does not belong to this automaton\")\n",
    "\n",
    "        \n",
    "        try:\n",
    "            path = self.delta[(state, self.empty_symbol, stack_element)]\n",
    "            element_to_stack = self.stack_operation[(state, self.empty_symbol, stack_element)]\n",
    "\n",
    "            return path, element_to_stack\n",
    "        \n",
    "        except:\n",
    "            raise ErrorConfiguration(\"That transiction does not exist\")\n",
    "    \n",
    "    \n",
    "    \n",
    "    def process_symbol(self, state, symbol, stack_element):\n",
    "        \"\"\"\n",
    "        Function to find all the states you can reach from one state processing a symbol and an stack element\n",
    "        \n",
    "        Input:\n",
    "        state: current state\n",
    "        \n",
    "        symbol: variable belonging to sigma\n",
    "        \n",
    "        stack_element: element of the stack\n",
    "        \n",
    "        showing_backtracking: boolean to know whether to print the path or not\n",
    "        \n",
    "        Output:\n",
    "        return a tuple of 2 elements that each one is a list of value of a given key\n",
    "        \"\"\"\n",
    "    \n",
    "        try:\n",
    "            path = self.delta[(state, symbol, stack_element)]\n",
    "            element_to_stack = self.stack_operation[(state, symbol, stack_element)]\n",
    "\n",
    "            return path, element_to_stack\n",
    "\n",
    "        except:\n",
    "            raise ErrorConfiguration(\"That transiction does not exist\")\n",
    "        \n",
    "        \n",
    "    def _process_empty_string(self, state, paths = [], showing_backtrack = True):\n",
    "        \"\"\"\n",
    "        Function to check if an empty string or '' is valid for the automaton\n",
    "        \n",
    "        if it is possible that '' is accepted by the automata, thus return a True and the path that it takes\n",
    "        \"\"\"\n",
    "        paths.append(state)\n",
    "        \n",
    "        #reach a final state\n",
    "        if state in self.f:\n",
    "            self.trampa = True\n",
    "            return \n",
    "        \n",
    "        conditional = False\n",
    "        \n",
    "        stack_memory_primal = self.stack[:]\n",
    "        \n",
    "        #case when only consuming empty symbol\n",
    "        if (state, self.empty_symbol, self.empty_symbol) in self.delta:\n",
    "            conditional = True\n",
    "            \n",
    "            path, element_to_stack = self.empty_transitions(state, self.empty_symbol)\n",
    "\n",
    "            for path_, element_ in zip(path, element_to_stack):\n",
    "                paths.append(\"{}, {} --> {}\".format(self.empty_symbol, self.empty_symbol, element_))\n",
    "                paths.append(path_)\n",
    "                if showing_backtrack:\n",
    "                    print(paths)\n",
    "                if element_ != self.empty_symbol:\n",
    "                    self.stack.append(element_)\n",
    "\n",
    "\n",
    "                stack_memory = self.stack[:]\n",
    "                self._process_empty_string(path_, paths, showing_backtrack)\n",
    "                if self.trampa:\n",
    "                    return\n",
    "\n",
    "                self.stack = stack_memory[:]\n",
    "\n",
    "                paths.pop()\n",
    "                paths.pop()\n",
    "                \n",
    "            self.stack = stack_memory_primal[:]\n",
    "              \n",
    "        #case consuming an element of the stack\n",
    "        if (state, self.empty_symbol, self.stack[-1]):\n",
    "            conditional = True\n",
    "            \n",
    "            path, element_to_stack = self.empty_transitions(state, self.stack[-1])\n",
    "            \n",
    "            memory = self.stack[-1]\n",
    "            \n",
    "            self.stack.pop(-1)\n",
    "\n",
    "            for path_, element_ in zip(path, element_to_stack):\n",
    "                paths.append(\"{}, {} --> {}\".format(self.empty_symbol, memory, element_))\n",
    "                paths.append(path_)\n",
    "                if showing_backtrack:\n",
    "                    print(paths)\n",
    "                if element_ != self.empty_symbol:\n",
    "                    self.stack.append(element_)\n",
    "\n",
    "\n",
    "                stack_memory = self.stack[:]\n",
    "                self._process_empty_string(path_, paths, showing_backtrack)\n",
    "                if self.trampa:\n",
    "                    return\n",
    "\n",
    "                self.stack = stack_memory[:]\n",
    "\n",
    "                paths.pop()\n",
    "                paths.pop()\n",
    "                \n",
    "            stack_memory_primal = self.stack[:]\n",
    "            \n",
    "        if not(conditional):\n",
    "            return\n",
    "            \n",
    "            \n",
    "    def process_word(self, word, showing_backtrack = True):\n",
    "        \"\"\"\n",
    "        Function to determine if a word belong to the language of the ndfa\n",
    "        \n",
    "        input:\n",
    "        Word: word to be proccessed\n",
    "        \n",
    "        Output:\n",
    "        return a tuple of 2 elements, the first one is a boolean to know if the word has been processed or not, and the second element is the\n",
    "        path of the processed word if True.\n",
    "        \"\"\" \n",
    "\n",
    "        #memory\n",
    "        paths = []\n",
    "        \n",
    "        #reset the stack\n",
    "        self.stack = []\n",
    "        \n",
    "        #case to check if an empty string is acceptable or not\n",
    "        if word == '':\n",
    "            self._process_empty_string(self.q0, paths, showing_backtrack)\n",
    "                \n",
    "            if self.trampa:\n",
    "                return self.trampa, paths\n",
    "            else:\n",
    "                return False\n",
    "        \n",
    "        #transforming the word into a str\n",
    "        word = str(word)\n",
    "        \n",
    "        #check the word given is valid\n",
    "        self.valid_string(word)\n",
    "        \n",
    "         \n",
    "        #reseting attributes\n",
    "        self.trampa = False\n",
    "        \n",
    "          \n",
    "        #adding to the backtracking\n",
    "        paths.append(self.q0)\n",
    "        #going into recursive\n",
    "        self._process_word_recursive(word, self.q0 ,paths, showing_backtrack)\n",
    "        \n",
    "        \n",
    "        if self.trampa:\n",
    "            return self.trampa, paths\n",
    "            \n",
    "        else:\n",
    "            return self.trampa\n",
    "        \n",
    "    def _process_word_recursive(self,word,current_state,paths = [], showing_backtrack = True):\n",
    "        \"\"\"\n",
    "        Function to determine if a word belong to the language of the ndfa\n",
    "        \n",
    "        input:\n",
    "        Word: word to be proccessed\n",
    "        \n",
    "        Output:\n",
    "        return a bolean whether if the word is proccessed by the automaton or not\n",
    "        \"\"\" \n",
    "\n",
    "        #check if the word is not empty\n",
    "        try:\n",
    "        \n",
    "            letter = word[0]\n",
    "        \n",
    "        #case where is no more variables to consume\n",
    "        except:\n",
    "            #checking if the last state is in final states\n",
    "            if current_state in list(self.f):\n",
    "                if showing_backtrack:\n",
    "                    print(\"---------------------------valid-----------------------\\n\\n\")\n",
    "                #saving that the word is valid   \n",
    "                self.trampa = True\n",
    "                #actul state to use in function str\n",
    "                self.actual_state = current_state\n",
    "                return \n",
    "            \n",
    "            else:\n",
    "                \n",
    "\n",
    "                #case when the stack has elements left, so check if the automata can still move\n",
    "                if len(self.stack) != 0:\n",
    "                    \n",
    "                    #reversing stack\n",
    "                    for element in reversed(self.stack):\n",
    "                        \n",
    "                        #check if has reacheable states\n",
    "                        if (current_state, self.empty_symbol, element) in self.delta:\n",
    "                            path, element_to_stack = self.empty_transitions(current_state, element)\n",
    "\n",
    "                            #eliminating element of the stack\n",
    "                            self.stack.pop(-1)\n",
    "\n",
    "                            current_state = path\n",
    "\n",
    "                            #check if the given reacheable states are valid\n",
    "                            for _state, _element in zip(current_state, element_to_stack):\n",
    "                                if _state in self.f:\n",
    "                                    paths.append(\"{}, {} --> {}\".format(self.empty_symbol, element, _element))\n",
    "                                    paths.append(_state)\n",
    "                                    if showing_backtrack:\n",
    "                                        print(paths)\n",
    "                                    self.actual_state = current_state\n",
    "                                    self.trampa = True\n",
    "                                    return\n",
    "                                \n",
    "                        else:\n",
    "                            if showing_backtrack:\n",
    "                                print(\"---------------------------Unvalid---------------------------\\n\\n\")\n",
    "                            self.actual_state = current_state\n",
    "                            return\n",
    "                        \n",
    "                \n",
    "                #not valid \n",
    "                else:\n",
    "                    if showing_backtrack:\n",
    "                        print(\"---------------------------Unvalid---------------------------\\n\\n\")\n",
    "                        #the same as the part latter\n",
    "                        \n",
    "                    self.actual_state = current_state\n",
    "                    return\n",
    "            \n",
    "            \n",
    "        #check if the stack has no elements\n",
    "        if len(self.stack) == 0:\n",
    "            \n",
    "            conditional = False\n",
    "            #check if the combination of the current state consuming a letter of the word and an epsilon of the stack has reacheable states\n",
    "            if (current_state, letter, self.empty_symbol) in self.delta:\n",
    "                conditional = True\n",
    "                \n",
    "                path, element_to_stack = self.process_symbol(current_state, letter, self.empty_symbol)\n",
    "                \n",
    "                #check all the reacheable states with its element to push in the stack\n",
    "                for path_, element_ in zip(path, element_to_stack):\n",
    "                    \n",
    "                    paths.append(\"{}, {} --> {}\".format(letter, self.empty_symbol, element_))\n",
    "                    paths.append(path_)\n",
    "                    if showing_backtrack:\n",
    "                        print(paths)\n",
    "                    if element_ != self.empty_symbol:\n",
    "                        self.stack.append(element_)\n",
    "\n",
    "                    #memory to not lose the information of the stack in the recursive function\n",
    "                    stack_memory = self.stack[:]\n",
    "                    self._process_word_recursive(word[1:], path_, paths, showing_backtrack)\n",
    "                    \n",
    "                    if self.trampa:\n",
    "                        return\n",
    "\n",
    "                    self.stack = stack_memory[:]\n",
    "                    paths.pop()\n",
    "                    paths.pop()\n",
    "                    \n",
    "                    \n",
    "            self.stack = []\n",
    "            #option when is an empty transition\n",
    "            if (current_state, self.empty_symbol, self.empty_symbol) in self.delta:\n",
    "                \n",
    "                conditional = True\n",
    "                path, element_to_stack = self.empty_transitions(current_state)\n",
    "\n",
    "                for path_, element_ in zip(path, element_to_stack):\n",
    "                    paths.append(\"{}, {} --> {}\".format(self.empty_symbol, self.empty_symbol, element_))\n",
    "                    paths.append(path_)\n",
    "                    if showing_backtrack:\n",
    "                        print(paths)\n",
    "                    if element_ != self.empty_symbol:\n",
    "                        self.stack.append(element_)\n",
    "\n",
    "                    stack_memory = self.stack[:]\n",
    "                    self._process_word_recursive(word, path_, paths, showing_backtrack)\n",
    "                    \n",
    "                    if self.trampa:\n",
    "                        return\n",
    "                    self.stack = stack_memory[:]\n",
    "                    paths.pop()\n",
    "                    paths.pop()\n",
    "                    \n",
    "\n",
    "            #case does not have reacheable states\n",
    "            if not(conditional):\n",
    "                return\n",
    "\n",
    "        else:\n",
    "            #element for the case when there is not case there it gets a new state to reach\n",
    "            conditional = False\n",
    "            \n",
    "            #memory before going to each possible if\n",
    "            primal_stack_memory = self.stack[:]\n",
    "            \n",
    "            #case when consumes a leter and an stack element\n",
    "            if (current_state, letter, self.stack[-1]) in self.delta:\n",
    "                conditional = True\n",
    "                path, element_to_stack = self.process_symbol(current_state, letter, self.stack[-1])\n",
    "\n",
    "                memory = self.stack[-1]\n",
    "                self.stack.pop(-1) \n",
    "                \n",
    "                for path_, element_ in zip(path, element_to_stack):\n",
    "                    paths.append(\"{}, {} --> {}\".format(letter, memory, element_))\n",
    "                    paths.append(path_)\n",
    "                    if showing_backtrack:\n",
    "                        print(paths)\n",
    "                    \n",
    "                    if element_ != self.empty_symbol:\n",
    "                        self.stack.append(element_)\n",
    "           \n",
    "                    stack_memory = self.stack[:]\n",
    "                    self._process_word_recursive(word[1:], path_, paths, showing_backtrack)\n",
    "                    if self.trampa:\n",
    "                        return\n",
    "                    self.stack = stack_memory[:]\n",
    "                    paths.pop()\n",
    "                    paths.pop()\n",
    "                    \n",
    "                self.stack = primal_stack_memory[:]\n",
    "                    \n",
    "            #case when consumes an empty symbol and an stack elemeten\n",
    "            if (current_state, self.empty_symbol, self.stack[-1]) in self.delta:\n",
    "\n",
    "                conditional = True\n",
    "                \n",
    "                path, element_to_stack = self.empty_transitions(current_state, self.stack[-1])\n",
    "\n",
    "                memory = self.stack[-1]\n",
    "                self.stack.pop(-1)\n",
    "\n",
    "                for path_, element_ in zip(path, element_to_stack):\n",
    "                    paths.append(\"{}, {} --> {}\".format(self.empty_symbol, memory, element_))\n",
    "                    paths.append(path_)\n",
    "                    if showing_backtrack:\n",
    "                        print(paths)\n",
    "                    if element_ != self.empty_symbol:\n",
    "                        self.stack.append(element_)\n",
    "                        \n",
    "                        \n",
    "                    stack_memory = self.stack[:]\n",
    "                    self._process_word_recursive(word, path_, paths, showing_backtrack)\n",
    "                    if self.trampa:\n",
    "                        return\n",
    "                    self.stack = stack_memory[:]\n",
    "                    paths.pop()\n",
    "                    paths.pop()\n",
    "                    \n",
    "                self.stack = primal_stack_memory[:]\n",
    "                    \n",
    "            #case when consumes a letter but not an stack element\n",
    "            if (current_state, letter, self.empty_symbol) in self.delta:\n",
    "            \n",
    "                conditional = True\n",
    "                \n",
    "                path, element_to_stack = self.process_symbol(current_state, letter, self.empty_symbol)\n",
    "\n",
    "                for path_, element_ in zip(path, element_to_stack):\n",
    "                    paths.append(\"{}, {} --> {}\".format(letter, self.empty_symbol, element_))\n",
    "                    paths.append(path_)\n",
    "                    if showing_backtrack:\n",
    "                        print(paths)\n",
    "                    if element_ != self.empty_symbol:\n",
    "                        self.stack.append(element_)\n",
    "                        \n",
    "                        \n",
    "                        \n",
    "                    stack_memory = self.stack[:]\n",
    "                    self._process_word_recursive(word[1:], path_, paths, showing_backtrack)\n",
    "                    if self.trampa:\n",
    "                        return\n",
    "                    self.stack = stack_memory[:]\n",
    "                    \n",
    "                    paths.pop()\n",
    "                    paths.pop()\n",
    "                    \n",
    "                self.stack = primal_stack_memory[:]\n",
    "                    \n",
    "            #case of empty transition\n",
    "            if (current_state, self.empty_symbol, self.empty_symbol) in self.delta:\n",
    "                \n",
    "                conditional = True\n",
    "                \n",
    "                path, element_to_stack = self.empty_transitions(current_state, self.empty_symbol)\n",
    "\n",
    "                for path_, element_ in zip(path, element_to_stack):\n",
    "                    paths.append(\"{}, {} --> {}\".format(self.empty_symbol, self.empty_symbol, element_))\n",
    "                    paths.append(path_)\n",
    "                    if showing_backtrack:\n",
    "                        print(paths)\n",
    "                    if element_ != self.empty_symbol:\n",
    "                        self.stack.append(element_)\n",
    "                        \n",
    "                        \n",
    "                    stack_memory = self.stack[:]\n",
    "                    self._process_word_recursive(word, path_, paths, showing_backtrack)\n",
    "                    if self.trampa:\n",
    "                        return\n",
    "                    \n",
    "                    self.stack = stack_memory[:]\n",
    "                    \n",
    "                    paths.pop()\n",
    "                    paths.pop()\n",
    "                    \n",
    "                self.stack = primal_stack_memory[:]\n",
    "\n",
    "            #not reacheable states\n",
    "            if not(conditional):\n",
    "                return\n",
    "            \n",
    "            \n",
    "   \n",
    "        \n",
    "            \n",
    "    \n",
    "    def valid_string(self, word):\n",
    "        \n",
    "        if set(word).issubset(set(self.sigma)):\n",
    "            return\n",
    "        else:\n",
    "            raise Exception(\"Not valid word, contains variables that are not part of the language\")\n",
    "            \n",
    "            \n",
    "    def __str__(self):\n",
    "        \n",
    "        \n",
    "        cadena = \"Grammar: \\n q: {} \\n sigma: {}, sigma stack: {},delta: {}, q0: {}, f: {}, current_sate: {}, empty_symbol: {}\".format(\n",
    "                                                                                    self.q , \n",
    "                                                                                    self.sigma,\n",
    "                                                                                    self.sigma_stack,\n",
    "                                                                                    self.delta, \n",
    "                                                                                    self.q0, \n",
    "                                                                                    self.f, \n",
    "                                                                                    self.actual_state,\n",
    "                                                                                    self.empty_symbol) \n",
    "        return cadena"
   ]
  },
  {
   "cell_type": "code",
   "execution_count": 2,
   "metadata": {},
   "outputs": [],
   "source": [
    "def fancy_printing(path):\n",
    "    \"\"\"\n",
    "    Function to print the path in a more understandable way\n",
    "    \n",
    "    \"\"\"\n",
    "    \n",
    "    for i in range(0,len(path),2):\n",
    "            \n",
    "        print(\"state: \", path[i])\n",
    "        \n",
    "        if i+1 < len(path):\n",
    "            print(\"operation: \", path[i+1])\n",
    "            print(\"\")\n",
    "        \n",
    "                "
   ]
  },
  {
   "cell_type": "markdown",
   "metadata": {},
   "source": [
    "# Implementation explanation"
   ]
  },
  {
   "cell_type": "markdown",
   "metadata": {},
   "source": [
    "This time the automaton is made using backtracking, however, this time when it gets a valid path, it stops, so it does not try to find all the possible paths, that way the automaton is faster.\n",
    "\n",
    "First, we are going only to explain the most importants methods."
   ]
  },
  {
   "cell_type": "markdown",
   "metadata": {},
   "source": [
    "### Empty transitions function"
   ]
  },
  {
   "cell_type": "markdown",
   "metadata": {},
   "source": [
    "```\n",
    "\n",
    "try:\n",
    "    path = self.delta[(state, self.empty_symbol, stack_element)]\n",
    "    element_to_stack = self.stack_operation[(state, self.empty_symbol, stack_element)]\n",
    "\n",
    "    return path, element_to_stack\n",
    "\n",
    "except:\n",
    "    raise ErrorConfiguration(\"That transiction does not exist\")\n",
    "    \n",
    "```"
   ]
  },
  {
   "cell_type": "markdown",
   "metadata": {},
   "source": [
    "Comparing to the ndfa we did, now we only use recursivity in the process word method, so in this way we can easily print the path to process the word. In empty_transition path gets all the reacheable states given a state, and consuming an empty symbol, and consuming from the stack a given element of the stack or a empty symbol. In element_to_stack is to get the elements to be pushed to the stack given the same elements as in path."
   ]
  },
  {
   "cell_type": "markdown",
   "metadata": {},
   "source": [
    "### Process symbol"
   ]
  },
  {
   "cell_type": "markdown",
   "metadata": {},
   "source": [
    "```\n",
    "\n",
    "try:\n",
    "    path = self.delta[(state, symbol, stack_element)]\n",
    "    element_to_stack = self.stack_operation[(state, symbol, stack_element)]\n",
    "\n",
    "    return path, element_to_stack\n",
    "\n",
    "except:\n",
    "    raise ErrorConfiguration(\"That transiction does not exist\")\n",
    "    \n",
    "```"
   ]
  },
  {
   "cell_type": "markdown",
   "metadata": {},
   "source": [
    "This function works as the last one, however, in this case we need a state, a symbol and stack elements, here empty symbols don't work."
   ]
  },
  {
   "cell_type": "markdown",
   "metadata": {},
   "source": [
    "### Process word"
   ]
  },
  {
   "cell_type": "markdown",
   "metadata": {},
   "source": [
    "Here we are going to explain the parts of the code that cannot be understood by reading the comments"
   ]
  },
  {
   "cell_type": "markdown",
   "metadata": {},
   "source": [
    "```\n",
    "\n",
    "if (current_state, self.empty_symbol, self.stack[-1]) in self.delta:\n",
    "\n",
    "    conditional = True\n",
    "\n",
    "    path, element_to_stack = self.empty_transitions(current_state, self.stack[-1])\n",
    "\n",
    "    memory = self.stack[-1]\n",
    "    self.stack.pop(-1)\n",
    "\n",
    "    for path_, element_ in zip(path, element_to_stack):\n",
    "        paths.append(\"{}, {} --> {}\".format(self.empty_symbol, memory, element_))\n",
    "        paths.append(path_)\n",
    "        if showing_backtrack:\n",
    "            print(paths)\n",
    "        if element_ != self.empty_symbol:\n",
    "            self.stack.append(element_)\n",
    "\n",
    "\n",
    "        stack_memory = self.stack[:]\n",
    "        self._process_word_recursive(word, path_, paths, showing_backtrack)\n",
    "        if self.trampa:\n",
    "            return\n",
    "        self.stack = stack_memory[:]\n",
    "        paths.pop()\n",
    "        paths.pop()\n",
    "\n",
    "    self.stack = primal_stack_memory[:]\n",
    "    \n",
    "```"
   ]
  },
  {
   "cell_type": "markdown",
   "metadata": {},
   "source": [
    "The function has a different *if* in which, the script to go through each one if possible, this if parts are almost equal the only differences are the elements, that recives, for example, one case is just processing empty symbol and using empty symbol of the stack, so each if is a specific case, the difference is that when the second element of the tuple within the if is empty_symbol in self._process_word_recursive it is passed word instead of word[1:], and another thing is that if the third element of the tuple is self.empty_symbol the last element of the stack is not eliminated, so if there is self.stack[-1] the last element of the stack is eliminated.\n",
    "\n",
    "\n",
    "The for within the ifs is for going through each reacheable state along its element to push.\n",
    "\n",
    "The stack_memory is to save the state of the stack before going to the recursive, so when it ends, it can go back to the original state before the recursivity, the primal stack memory is used for the stack to get to its original state before going to each if if self.trampa is used to cut the backtracking if a valid paths has been found"
   ]
  },
  {
   "cell_type": "markdown",
   "metadata": {},
   "source": [
    "# Implementation Example 1\n",
    "\n",
    "![image.png](images/pushdown.PNG)"
   ]
  },
  {
   "cell_type": "code",
   "execution_count": 3,
   "metadata": {},
   "outputs": [
    {
     "name": "stderr",
     "output_type": "stream",
     "text": [
      "<ipython-input-1-fa3ac6a68de9>:57: UserWarning: Not valid automaton\n",
      "  warnings.warn(\"Not valid automaton\")\n"
     ]
    }
   ],
   "source": [
    "example = pushdown_automata(empty_symbol = 'epsilon')"
   ]
  },
  {
   "cell_type": "code",
   "execution_count": 4,
   "metadata": {},
   "outputs": [],
   "source": [
    "example.load_from_file(\"pushdown_examples/pushdown.txt\")"
   ]
  },
  {
   "cell_type": "markdown",
   "metadata": {},
   "source": [
    "### checking the stack element after an operation"
   ]
  },
  {
   "cell_type": "code",
   "execution_count": 5,
   "metadata": {},
   "outputs": [
    {
     "data": {
      "text/plain": [
       "{('q1', 'epsilon', 'epsilon'): ['$'],\n",
       " ('q2', '0', 'epsilon'): ['0'],\n",
       " ('q2', '1', '0'): ['epsilon'],\n",
       " ('q3', '1', '0'): ['epsilon'],\n",
       " ('q3', 'epsilon', '$'): ['epsilon']}"
      ]
     },
     "execution_count": 5,
     "metadata": {},
     "output_type": "execute_result"
    }
   ],
   "source": [
    "example.stack_operation"
   ]
  },
  {
   "cell_type": "markdown",
   "metadata": {},
   "source": [
    "### Checking the operations"
   ]
  },
  {
   "cell_type": "code",
   "execution_count": 6,
   "metadata": {},
   "outputs": [
    {
     "data": {
      "text/plain": [
       "{('q1', 'epsilon', 'epsilon'): ['q2'],\n",
       " ('q2', '0', 'epsilon'): ['q2'],\n",
       " ('q2', '1', '0'): ['q3'],\n",
       " ('q3', '1', '0'): ['q3'],\n",
       " ('q3', 'epsilon', '$'): ['q4']}"
      ]
     },
     "execution_count": 6,
     "metadata": {},
     "output_type": "execute_result"
    }
   ],
   "source": [
    "example.delta"
   ]
  },
  {
   "cell_type": "markdown",
   "metadata": {},
   "source": [
    "### Methods examples"
   ]
  },
  {
   "cell_type": "code",
   "execution_count": 7,
   "metadata": {},
   "outputs": [
    {
     "data": {
      "text/plain": [
       "(['q2'], ['$'])"
      ]
     },
     "execution_count": 7,
     "metadata": {},
     "output_type": "execute_result"
    }
   ],
   "source": [
    "example.empty_transitions('q1')"
   ]
  },
  {
   "cell_type": "code",
   "execution_count": 8,
   "metadata": {},
   "outputs": [
    {
     "data": {
      "text/plain": [
       "(['q2'], ['0'])"
      ]
     },
     "execution_count": 8,
     "metadata": {},
     "output_type": "execute_result"
    }
   ],
   "source": [
    "example.process_symbol('q2','0', 'epsilon')"
   ]
  },
  {
   "cell_type": "code",
   "execution_count": 9,
   "metadata": {},
   "outputs": [],
   "source": [
    "x,y = example.process_word('000111', False)"
   ]
  },
  {
   "cell_type": "code",
   "execution_count": 10,
   "metadata": {},
   "outputs": [
    {
     "name": "stdout",
     "output_type": "stream",
     "text": [
      "state:  q1\n",
      "operation:  epsilon, epsilon --> $\n",
      "\n",
      "state:  q2\n",
      "operation:  0, epsilon --> 0\n",
      "\n",
      "state:  q2\n",
      "operation:  0, epsilon --> 0\n",
      "\n",
      "state:  q2\n",
      "operation:  0, epsilon --> 0\n",
      "\n",
      "state:  q2\n",
      "operation:  1, 0 --> epsilon\n",
      "\n",
      "state:  q3\n",
      "operation:  1, 0 --> epsilon\n",
      "\n",
      "state:  q3\n",
      "operation:  1, 0 --> epsilon\n",
      "\n",
      "state:  q3\n",
      "operation:  epsilon, $ --> epsilon\n",
      "\n",
      "state:  q4\n"
     ]
    }
   ],
   "source": [
    "fancy_printing(y)"
   ]
  },
  {
   "cell_type": "code",
   "execution_count": 11,
   "metadata": {},
   "outputs": [
    {
     "data": {
      "text/plain": [
       "\"Grammar: \\n q: ['q1', 'q2', 'q3', 'q4'] \\n sigma: ['0', '1'], sigma stack: ['0', '$'],delta: {('q1', 'epsilon', 'epsilon'): ['q2'], ('q2', '0', 'epsilon'): ['q2'], ('q2', '1', '0'): ['q3'], ('q3', '1', '0'): ['q3'], ('q3', 'epsilon', '$'): ['q4']}, q0: q1, f: ['q1', 'q4'], current_sate: ['q4'], empty_symbol: epsilon\""
      ]
     },
     "execution_count": 11,
     "metadata": {},
     "output_type": "execute_result"
    }
   ],
   "source": [
    "str(example)"
   ]
  },
  {
   "cell_type": "code",
   "execution_count": 12,
   "metadata": {},
   "outputs": [
    {
     "data": {
      "text/plain": [
       "['q4']"
      ]
     },
     "execution_count": 12,
     "metadata": {},
     "output_type": "execute_result"
    }
   ],
   "source": [
    "example.actual_state"
   ]
  },
  {
   "cell_type": "code",
   "execution_count": 13,
   "metadata": {},
   "outputs": [
    {
     "name": "stdout",
     "output_type": "stream",
     "text": [
      "['q1', 'epsilon, epsilon --> $', 'q2']\n",
      "['q1', 'epsilon, epsilon --> $', 'q2', '0, epsilon --> 0', 'q2']\n",
      "['q1', 'epsilon, epsilon --> $', 'q2', '0, epsilon --> 0', 'q2', '0, epsilon --> 0', 'q2']\n",
      "['q1', 'epsilon, epsilon --> $', 'q2', '0, epsilon --> 0', 'q2', '0, epsilon --> 0', 'q2', '1, 0 --> epsilon', 'q3']\n",
      "['q1', 'epsilon, epsilon --> $', 'q2', '0, epsilon --> 0', 'q2', '0, epsilon --> 0', 'q2', '1, 0 --> epsilon', 'q3', '1, 0 --> epsilon', 'q3']\n",
      "['q1', 'epsilon, epsilon --> $', 'q2', '0, epsilon --> 0', 'q2', '0, epsilon --> 0', 'q2', '1, 0 --> epsilon', 'q3', '1, 0 --> epsilon', 'q3', 'epsilon, $ --> epsilon', 'q4']\n"
     ]
    },
    {
     "data": {
      "text/plain": [
       "False"
      ]
     },
     "execution_count": 13,
     "metadata": {},
     "output_type": "execute_result"
    }
   ],
   "source": [
    "example.process_word('00111')"
   ]
  },
  {
   "cell_type": "markdown",
   "metadata": {},
   "source": [
    "As you can see that is not a valid word, however, in the backtraking shows a posible way of how can be a correct word, by deleting one 1"
   ]
  },
  {
   "cell_type": "code",
   "execution_count": 14,
   "metadata": {},
   "outputs": [
    {
     "data": {
      "text/plain": [
       "False"
      ]
     },
     "execution_count": 14,
     "metadata": {},
     "output_type": "execute_result"
    }
   ],
   "source": [
    "example.process_word('000001111', False)"
   ]
  },
  {
   "cell_type": "markdown",
   "metadata": {},
   "source": [
    "# Implementation example 2\n",
    "![image.png](images/pushdown2.PNG)"
   ]
  },
  {
   "cell_type": "code",
   "execution_count": 15,
   "metadata": {},
   "outputs": [
    {
     "name": "stderr",
     "output_type": "stream",
     "text": [
      "<ipython-input-1-fa3ac6a68de9>:57: UserWarning: Not valid automaton\n",
      "  warnings.warn(\"Not valid automaton\")\n"
     ]
    }
   ],
   "source": [
    "example2 = pushdown_automata(empty_symbol = 'epsilon')"
   ]
  },
  {
   "cell_type": "code",
   "execution_count": 16,
   "metadata": {},
   "outputs": [],
   "source": [
    "example2.load_from_file(\"pushdown_examples/pushdown2.txt\")"
   ]
  },
  {
   "cell_type": "markdown",
   "metadata": {},
   "source": [
    "#### case of an empty string"
   ]
  },
  {
   "cell_type": "code",
   "execution_count": 17,
   "metadata": {},
   "outputs": [
    {
     "name": "stdout",
     "output_type": "stream",
     "text": [
      "['q1', 'epsilon, epsilon --> $', 'q2']\n",
      "['q1', 'epsilon, epsilon --> $', 'q2', 'q2', 'epsilon, epsilon --> epsilon', 'q3']\n",
      "['q1', 'epsilon, epsilon --> $', 'q2', 'q2', 'epsilon, epsilon --> epsilon', 'q3', 'q3', 'epsilon, $ --> epsilon', 'q4']\n"
     ]
    }
   ],
   "source": [
    "boolean, path = example2.process_word('')"
   ]
  },
  {
   "cell_type": "code",
   "execution_count": 18,
   "metadata": {},
   "outputs": [
    {
     "name": "stdout",
     "output_type": "stream",
     "text": [
      "state:  q1\n",
      "operation:  epsilon, epsilon --> $\n",
      "\n",
      "state:  q2\n",
      "operation:  q2\n",
      "\n",
      "state:  epsilon, epsilon --> epsilon\n",
      "operation:  q3\n",
      "\n",
      "state:  q3\n",
      "operation:  epsilon, $ --> epsilon\n",
      "\n",
      "state:  q4\n",
      "operation:  q4\n",
      "\n"
     ]
    }
   ],
   "source": [
    "fancy_printing(path)"
   ]
  },
  {
   "cell_type": "code",
   "execution_count": 19,
   "metadata": {},
   "outputs": [
    {
     "name": "stdout",
     "output_type": "stream",
     "text": [
      "['q1', 'epsilon, epsilon --> $', 'q2']\n",
      "['q1', 'epsilon, epsilon --> $', 'q2', 'a, epsilon --> a', 'q2']\n",
      "['q1', 'epsilon, epsilon --> $', 'q2', 'a, epsilon --> a', 'q2', 'a, epsilon --> a', 'q2']\n",
      "['q1', 'epsilon, epsilon --> $', 'q2', 'a, epsilon --> a', 'q2', 'a, epsilon --> a', 'q2', 'epsilon, epsilon --> epsilon', 'q3']\n",
      "['q1', 'epsilon, epsilon --> $', 'q2', 'a, epsilon --> a', 'q2', 'a, epsilon --> a', 'q2', 'epsilon, epsilon --> epsilon', 'q3', 'b, a --> epsilon', 'q3']\n",
      "['q1', 'epsilon, epsilon --> $', 'q2', 'a, epsilon --> a', 'q2', 'a, epsilon --> a', 'q2', 'epsilon, epsilon --> epsilon', 'q3', 'b, a --> epsilon', 'q3', 'b, a --> epsilon', 'q3']\n",
      "['q1', 'epsilon, epsilon --> $', 'q2', 'a, epsilon --> a', 'q2', 'a, epsilon --> a', 'q2', 'epsilon, epsilon --> epsilon', 'q3', 'b, a --> epsilon', 'q3', 'b, a --> epsilon', 'q3', 'epsilon, $ --> epsilon', 'q4']\n",
      "['q1', 'epsilon, epsilon --> $', 'q2', 'a, epsilon --> a', 'q2', 'a, epsilon --> a', 'q2', 'epsilon, epsilon --> epsilon', 'q3', 'b, a --> epsilon', 'q3', 'b, a --> epsilon', 'q3', 'epsilon, $ --> epsilon', 'q4', 'c, epsilon --> epsilon', 'q4']\n",
      "---------------------------valid-----------------------\n",
      "\n",
      "\n"
     ]
    }
   ],
   "source": [
    "boolean, path = example2.process_word('aabbc')"
   ]
  },
  {
   "cell_type": "code",
   "execution_count": 20,
   "metadata": {},
   "outputs": [
    {
     "name": "stdout",
     "output_type": "stream",
     "text": [
      "state:  q1\n",
      "operation:  epsilon, epsilon --> $\n",
      "\n",
      "state:  q2\n",
      "operation:  a, epsilon --> a\n",
      "\n",
      "state:  q2\n",
      "operation:  a, epsilon --> a\n",
      "\n",
      "state:  q2\n",
      "operation:  epsilon, epsilon --> epsilon\n",
      "\n",
      "state:  q3\n",
      "operation:  b, a --> epsilon\n",
      "\n",
      "state:  q3\n",
      "operation:  b, a --> epsilon\n",
      "\n",
      "state:  q3\n",
      "operation:  epsilon, $ --> epsilon\n",
      "\n",
      "state:  q4\n",
      "operation:  c, epsilon --> epsilon\n",
      "\n",
      "state:  q4\n"
     ]
    }
   ],
   "source": [
    "fancy_printing(path)"
   ]
  },
  {
   "cell_type": "code",
   "execution_count": 21,
   "metadata": {},
   "outputs": [
    {
     "data": {
      "text/plain": [
       "'q4'"
      ]
     },
     "execution_count": 21,
     "metadata": {},
     "output_type": "execute_result"
    }
   ],
   "source": [
    "example2.actual_state"
   ]
  },
  {
   "cell_type": "code",
   "execution_count": 22,
   "metadata": {},
   "outputs": [
    {
     "data": {
      "text/plain": [
       "[]"
      ]
     },
     "execution_count": 22,
     "metadata": {},
     "output_type": "execute_result"
    }
   ],
   "source": [
    "example2.stack"
   ]
  },
  {
   "cell_type": "code",
   "execution_count": 23,
   "metadata": {},
   "outputs": [
    {
     "data": {
      "text/plain": [
       "(True,\n",
       " ['q1',\n",
       "  'epsilon, epsilon --> $',\n",
       "  'q2',\n",
       "  'a, epsilon --> a',\n",
       "  'q2',\n",
       "  'epsilon, epsilon --> epsilon',\n",
       "  'q5',\n",
       "  'b, epsilon --> epsilon',\n",
       "  'q5',\n",
       "  'b, epsilon --> epsilon',\n",
       "  'q5',\n",
       "  'epsilon, epsilon --> epsilon',\n",
       "  'q6',\n",
       "  'c, a --> epsilon',\n",
       "  'q6',\n",
       "  'epsilon, $ --> epsilon',\n",
       "  'q7'])"
      ]
     },
     "execution_count": 23,
     "metadata": {},
     "output_type": "execute_result"
    }
   ],
   "source": [
    "example2.process_word('abbc', False)"
   ]
  },
  {
   "cell_type": "code",
   "execution_count": 24,
   "metadata": {},
   "outputs": [
    {
     "data": {
      "text/plain": [
       "False"
      ]
     },
     "execution_count": 24,
     "metadata": {},
     "output_type": "execute_result"
    }
   ],
   "source": [
    "example2.process_word('acbbc', False)"
   ]
  },
  {
   "cell_type": "markdown",
   "metadata": {},
   "source": [
    "# Implementation example 3\n",
    "![image.png](images/pushdown3.PNG)"
   ]
  },
  {
   "cell_type": "code",
   "execution_count": 25,
   "metadata": {},
   "outputs": [
    {
     "name": "stderr",
     "output_type": "stream",
     "text": [
      "<ipython-input-1-fa3ac6a68de9>:57: UserWarning: Not valid automaton\n",
      "  warnings.warn(\"Not valid automaton\")\n"
     ]
    }
   ],
   "source": [
    "example3 = pushdown_automata(empty_symbol = 'epsilon')\n",
    "example3.load_from_file(\"pushdown_examples/pushdown3.txt\")"
   ]
  },
  {
   "cell_type": "code",
   "execution_count": 26,
   "metadata": {},
   "outputs": [
    {
     "data": {
      "text/plain": [
       "{('q1', 'epsilon', 'epsilon'): ['q2'],\n",
       " ('q2', '0', 'epsilon'): ['q2'],\n",
       " ('q2', '1', 'epsilon'): ['q2'],\n",
       " ('q2', 'epsilon', 'epsilon'): ['q3'],\n",
       " ('q3', '0', '0'): ['q3'],\n",
       " ('q3', '1', '1'): ['q3'],\n",
       " ('q3', 'epsilon', '$'): ['q4']}"
      ]
     },
     "execution_count": 26,
     "metadata": {},
     "output_type": "execute_result"
    }
   ],
   "source": [
    "example3.delta"
   ]
  },
  {
   "cell_type": "code",
   "execution_count": 27,
   "metadata": {},
   "outputs": [
    {
     "data": {
      "text/plain": [
       "{('q1', 'epsilon', 'epsilon'): ['$'],\n",
       " ('q2', '0', 'epsilon'): ['0'],\n",
       " ('q2', '1', 'epsilon'): ['1'],\n",
       " ('q2', 'epsilon', 'epsilon'): ['epsilon'],\n",
       " ('q3', '0', '0'): ['epsilon'],\n",
       " ('q3', '1', '1'): ['epsilon'],\n",
       " ('q3', 'epsilon', '$'): ['epsilon']}"
      ]
     },
     "execution_count": 27,
     "metadata": {},
     "output_type": "execute_result"
    }
   ],
   "source": [
    "example3.stack_operation"
   ]
  },
  {
   "cell_type": "code",
   "execution_count": 28,
   "metadata": {},
   "outputs": [
    {
     "data": {
      "text/plain": [
       "False"
      ]
     },
     "execution_count": 28,
     "metadata": {},
     "output_type": "execute_result"
    }
   ],
   "source": [
    "example3.process_word('01', False)"
   ]
  },
  {
   "cell_type": "code",
   "execution_count": 33,
   "metadata": {},
   "outputs": [
    {
     "data": {
      "text/plain": [
       "False"
      ]
     },
     "execution_count": 33,
     "metadata": {},
     "output_type": "execute_result"
    }
   ],
   "source": [
    "example3.process_word('01100', False)"
   ]
  },
  {
   "cell_type": "code",
   "execution_count": 29,
   "metadata": {},
   "outputs": [
    {
     "data": {
      "text/plain": [
       "(True,\n",
       " ['q1',\n",
       "  'epsilon, epsilon --> $',\n",
       "  'q2',\n",
       "  '0, epsilon --> 0',\n",
       "  'q2',\n",
       "  '1, epsilon --> 1',\n",
       "  'q2',\n",
       "  'epsilon, epsilon --> epsilon',\n",
       "  'q3',\n",
       "  '1, 1 --> epsilon',\n",
       "  'q3',\n",
       "  '0, 0 --> epsilon',\n",
       "  'q3',\n",
       "  'epsilon, $ --> epsilon',\n",
       "  'q4'])"
      ]
     },
     "execution_count": 29,
     "metadata": {},
     "output_type": "execute_result"
    }
   ],
   "source": [
    "example3.process_word('0110', False)"
   ]
  },
  {
   "cell_type": "code",
   "execution_count": 30,
   "metadata": {},
   "outputs": [],
   "source": [
    "boolean, path = example3.process_word('01011010', False)"
   ]
  },
  {
   "cell_type": "code",
   "execution_count": 31,
   "metadata": {},
   "outputs": [
    {
     "name": "stdout",
     "output_type": "stream",
     "text": [
      "state:  q1\n",
      "operation:  epsilon, epsilon --> $\n",
      "\n",
      "state:  q2\n",
      "operation:  0, epsilon --> 0\n",
      "\n",
      "state:  q2\n",
      "operation:  1, epsilon --> 1\n",
      "\n",
      "state:  q2\n",
      "operation:  0, epsilon --> 0\n",
      "\n",
      "state:  q2\n",
      "operation:  1, epsilon --> 1\n",
      "\n",
      "state:  q2\n",
      "operation:  epsilon, epsilon --> epsilon\n",
      "\n",
      "state:  q3\n",
      "operation:  1, 1 --> epsilon\n",
      "\n",
      "state:  q3\n",
      "operation:  0, 0 --> epsilon\n",
      "\n",
      "state:  q3\n",
      "operation:  1, 1 --> epsilon\n",
      "\n",
      "state:  q3\n",
      "operation:  0, 0 --> epsilon\n",
      "\n",
      "state:  q3\n",
      "operation:  epsilon, $ --> epsilon\n",
      "\n",
      "state:  q4\n"
     ]
    }
   ],
   "source": [
    "fancy_printing(path)"
   ]
  },
  {
   "cell_type": "markdown",
   "metadata": {},
   "source": [
    "# Implementaion Example of invalid automaton"
   ]
  },
  {
   "cell_type": "code",
   "execution_count": 32,
   "metadata": {},
   "outputs": [
    {
     "name": "stderr",
     "output_type": "stream",
     "text": [
      "<ipython-input-1-fa3ac6a68de9>:57: UserWarning: Not valid automaton\n",
      "  warnings.warn(\"Not valid automaton\")\n"
     ]
    },
    {
     "ename": "TypeError",
     "evalue": "The stack element to push does not belong to the variables for the stack",
     "output_type": "error",
     "traceback": [
      "\u001b[1;31m---------------------------------------------------------------------------\u001b[0m",
      "\u001b[1;31mTypeError\u001b[0m                                 Traceback (most recent call last)",
      "\u001b[1;32m<ipython-input-32-897fd2b2156e>\u001b[0m in \u001b[0;36m<module>\u001b[1;34m\u001b[0m\n\u001b[0;32m      1\u001b[0m \u001b[0mexample4\u001b[0m \u001b[1;33m=\u001b[0m \u001b[0mpushdown_automata\u001b[0m\u001b[1;33m(\u001b[0m\u001b[0mempty_symbol\u001b[0m \u001b[1;33m=\u001b[0m \u001b[1;34m'epsilon'\u001b[0m\u001b[1;33m)\u001b[0m\u001b[1;33m\u001b[0m\u001b[1;33m\u001b[0m\u001b[0m\n\u001b[1;32m----> 2\u001b[1;33m \u001b[0mexample4\u001b[0m\u001b[1;33m.\u001b[0m\u001b[0mload_from_file\u001b[0m\u001b[1;33m(\u001b[0m\u001b[1;34m\"pushdown_examples/pushdown_error.txt\"\u001b[0m\u001b[1;33m)\u001b[0m\u001b[1;33m\u001b[0m\u001b[1;33m\u001b[0m\u001b[0m\n\u001b[0m",
      "\u001b[1;32m<ipython-input-1-fa3ac6a68de9>\u001b[0m in \u001b[0;36mload_from_file\u001b[1;34m(self, path, delta_separator)\u001b[0m\n\u001b[0;32m    126\u001b[0m             \u001b[0mself\u001b[0m\u001b[1;33m.\u001b[0m\u001b[0mactual_state\u001b[0m \u001b[1;33m=\u001b[0m \u001b[0mvariables\u001b[0m\u001b[1;33m[\u001b[0m\u001b[1;34m\"q0\"\u001b[0m\u001b[1;33m]\u001b[0m\u001b[1;33m\u001b[0m\u001b[1;33m\u001b[0m\u001b[0m\n\u001b[0;32m    127\u001b[0m \u001b[1;33m\u001b[0m\u001b[0m\n\u001b[1;32m--> 128\u001b[1;33m             \u001b[1;32mif\u001b[0m \u001b[0mself\u001b[0m\u001b[1;33m.\u001b[0m\u001b[0mis_valid\u001b[0m\u001b[1;33m(\u001b[0m\u001b[1;33m)\u001b[0m\u001b[1;33m:\u001b[0m\u001b[1;33m\u001b[0m\u001b[1;33m\u001b[0m\u001b[0m\n\u001b[0m\u001b[0;32m    129\u001b[0m                 \u001b[1;32mpass\u001b[0m\u001b[1;33m\u001b[0m\u001b[1;33m\u001b[0m\u001b[0m\n\u001b[0;32m    130\u001b[0m \u001b[1;33m\u001b[0m\u001b[0m\n",
      "\u001b[1;32m<ipython-input-1-fa3ac6a68de9>\u001b[0m in \u001b[0;36mis_valid\u001b[1;34m(self)\u001b[0m\n\u001b[0;32m    215\u001b[0m \u001b[1;33m\u001b[0m\u001b[0m\n\u001b[0;32m    216\u001b[0m         \u001b[1;32melse\u001b[0m\u001b[1;33m:\u001b[0m\u001b[1;33m\u001b[0m\u001b[1;33m\u001b[0m\u001b[0m\n\u001b[1;32m--> 217\u001b[1;33m             \u001b[1;32mraise\u001b[0m \u001b[0mTypeError\u001b[0m\u001b[1;33m(\u001b[0m\u001b[1;34m\"The stack element to push does not belong to the variables for the stack\"\u001b[0m\u001b[1;33m)\u001b[0m\u001b[1;33m\u001b[0m\u001b[1;33m\u001b[0m\u001b[0m\n\u001b[0m\u001b[0;32m    218\u001b[0m \u001b[1;33m\u001b[0m\u001b[0m\n\u001b[0;32m    219\u001b[0m         \u001b[1;32mreturn\u001b[0m \u001b[1;32mTrue\u001b[0m\u001b[1;33m\u001b[0m\u001b[1;33m\u001b[0m\u001b[0m\n",
      "\u001b[1;31mTypeError\u001b[0m: The stack element to push does not belong to the variables for the stack"
     ]
    }
   ],
   "source": [
    "example4 = pushdown_automata(empty_symbol = 'epsilon')\n",
    "example4.load_from_file(\"pushdown_examples/pushdown_error.txt\")"
   ]
  }
 ],
 "metadata": {
  "kernelspec": {
   "display_name": "Python 3",
   "language": "python",
   "name": "python3"
  },
  "language_info": {
   "codemirror_mode": {
    "name": "ipython",
    "version": 3
   },
   "file_extension": ".py",
   "mimetype": "text/x-python",
   "name": "python",
   "nbconvert_exporter": "python",
   "pygments_lexer": "ipython3",
   "version": "3.8.6"
  }
 },
 "nbformat": 4,
 "nbformat_minor": 4
}
