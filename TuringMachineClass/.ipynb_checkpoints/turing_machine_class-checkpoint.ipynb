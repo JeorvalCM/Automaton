{
 "cells": [
  {
   "cell_type": "markdown",
   "metadata": {},
   "source": [
    "# Turing Machine class"
   ]
  },
  {
   "cell_type": "code",
   "execution_count": 1,
   "metadata": {},
   "outputs": [],
   "source": [
    "import warnings\n",
    "\n",
    "class TuringMachine:\n",
    "    \n",
    "    def __init__(self, q = None, sigma = None, gamma = None, delta = None, q0 = None, blank = 'epsilon', f = None):\n",
    "        \"\"\"\n",
    "        Class initializar\n",
    "        \n",
    "        self.q receives all the states that conform the pushdown automata\n",
    "        \n",
    "        self.sigma are all the variables defined in the pushdown automata\n",
    "        \n",
    "        self.gamma all the variables defined for the tape\n",
    "        \n",
    "        self.delta all are the operation defined, i.e- is a dictionary contating a tuple as key\n",
    "        where the left values of the tuple is the current state and the right value the variable pass and the value obtain by\n",
    "        accessing to with the key is to which state goes.\n",
    "        \n",
    "        self.q0 is the initial state\n",
    "        \n",
    "        self.blank is the string in which is represent the empty value, for instance, it is lambda bout could be epsilon\n",
    "        or another symbol, but it has to be defined, it is not receive from txt.\n",
    "        \n",
    "        self.f are all the final states\n",
    "        \n",
    "        \n",
    "        self.tape list saving the tape elements\n",
    "        \n",
    "        self.actual_state is the state which the dfa finish after proccessing a word, if no word proccess the actual state is q0\n",
    "        and it is reset at start proccessing a new word\n",
    "        \"\"\"\n",
    "        self.q = q\n",
    "        self.sigma = sigma\n",
    "        self.gamma = gamma\n",
    "        self.delta = delta\n",
    "        self.q0 = q0\n",
    "        self.blank = blank\n",
    "        self.f = f\n",
    "        \n",
    "        self.tape = list()\n",
    "        self._len_word = 0\n",
    "        self._current_position = 0\n",
    "        \n",
    "        self.trampa = False\n",
    "        \n",
    "        try:\n",
    "            if self.is_valid():\n",
    "                pass\n",
    "\n",
    "            else:\n",
    "                warnings.warn(\"Not valid automaton\")\n",
    "\n",
    "        except:\n",
    "            warnings.warn(\"Not valid automaton\")\n",
    "            \n",
    "        \n",
    "    def load_from_file(self, path, delta_separator = \"-\"):\n",
    "        \"\"\"\n",
    "        Function to read a file that contains an automaton\n",
    "        \n",
    "        path: path file\n",
    "        \"\"\"\n",
    "        \n",
    "        #dictionary to save the parts of the automaton\n",
    "        variables = {\"q\": None,\n",
    "             \"sigma\": None,\n",
    "             \"gamma\": None,\n",
    "             \"delta\": None,\n",
    "             \"q0\": None,\n",
    "             \"f\": None    \n",
    "        }\n",
    "        \n",
    "        with open(path) as file:\n",
    "            #parsing the document\n",
    "            for line, variable in zip(file, variables):\n",
    "                    line = line.replace(\"{\", \"\")\n",
    "                    line = line.replace(\"}\", \"\")\n",
    "                    line = line.replace(\"\\n\", \"\")\n",
    "                    line = line.replace(\" \", \"\")\n",
    "                    value = list(line.split(\",\"))\n",
    "                    variables[variable] = value\n",
    "                    \n",
    "            #conditional to verify there is only one initial state        \n",
    "            if len(variables[\"q0\"]) > 1 or len(variables[\"q0\"]) == 0:\n",
    "                raise Exception('There are more than one initial state')\n",
    "                \n",
    "        variables[\"delta\"] = [values.split(delta_separator) for values in variables[\"delta\"]]\n",
    "        \n",
    "        new_delta = dict()\n",
    "        \n",
    "        for list_  in variables[\"delta\"]:\n",
    "            if len(list_) != 5:\n",
    "                raise TypeError(\"not valid delta, you need at least 5 variables\")\n",
    "        \n",
    "        for key1, key2, var1, var2, var3 in variables[\"delta\"]:\n",
    "            new_delta[(key1, key2)] = (var1, var2, var3)\n",
    "            \n",
    "        #getting q0\n",
    "        variables[\"q0\"] = variables[\"q0\"][0]\n",
    "\n",
    "        #assigning the attributos of the class to the values obtained from the file\n",
    "        self.q = variables[\"q\"]\n",
    "        self.sigma = variables[\"sigma\"]\n",
    "        self.delta = new_delta\n",
    "        self.q0 = variables[\"q0\"] \n",
    "        self.f = variables[\"f\"]\n",
    "        self.gamma = variables['gamma']\n",
    "        self.actual_state = variables[\"q0\"]  \n",
    "        \n",
    "        if self.is_valid():\n",
    "                pass\n",
    "            \n",
    "        else:\n",
    "            raise ErrorConfiguration(\"Not valid machine\")\n",
    "        \n",
    "    def is_valid(self):\n",
    "        \"\"\"\n",
    "        Funtion to validate whether the pushdown is valid or not\n",
    "        \n",
    "        Uses the attributes of the class\n",
    "        \"\"\"\n",
    "        \n",
    "         #conditional to check if the final states are subsets of q, which is the variable containing all the states\n",
    "        if set(self.f).issubset(set(self.q)):\n",
    "            pass\n",
    "        \n",
    "        else:\n",
    "            raise TypeError(\"States of F are not a subset of states q\")\n",
    "            \n",
    "            \n",
    "        #conditional to check if the inital state is a subsets of q, which is the variable containing all the states    \n",
    "        if self.q0 in set(self.q):\n",
    "            pass\n",
    "        \n",
    "        else:\n",
    "            raise TypeError(\"q0 is not a subset of states q\")\n",
    "            \n",
    "        for key1, key2 in self.delta:\n",
    "            \n",
    "            if key1 in self.q:\n",
    "                pass\n",
    "            \n",
    "            else:\n",
    "                raise TypeError(\"A state is not a state of the machine\".format(key1))\n",
    "            \n",
    "            if key2 in self.sigma or key2 in self.gamma or key2 == self.blank:\n",
    "                pass\n",
    "            \n",
    "            else:\n",
    "                raise TypeError(\"The {} is not a variable of the machine\".format(key2))\n",
    "                \n",
    "            state, variable, direction = self.delta[(key1, key2)]\n",
    "            \n",
    "            if state in self.q:\n",
    "                pass\n",
    "            \n",
    "            else:\n",
    "                raise TypeError(\"The {} is not a state of the machine\".format(state))\n",
    "                \n",
    "            if variable in self.gamma or variable == self.blank:\n",
    "                pass\n",
    "            \n",
    "            else:\n",
    "                raise TypeError(\"The {} is not a variable of gamma the machine\".format(variable))\n",
    "                \n",
    "            if direction == 'L' or direction == 'R':\n",
    "                pass\n",
    "            \n",
    "            else:\n",
    "                raise TypeError(\"The direction must be either L or R\")\n",
    "                \n",
    "        return True\n",
    "                \n",
    "        \n",
    "    def process_word(self, word, showing_backtrack = True):  \n",
    "        \"\"\"\n",
    "        Function to determine if a word belong to the language of the ndfa\n",
    "        \n",
    "        input:\n",
    "        Word: word to be proccessed\n",
    "        showing_backtrack: boolean to print the tape in each recursion or not\n",
    "        \n",
    "        Output:\n",
    "        return a tuple of 2 elements, the first one is a boolean to know if the word has been processed or not, and the second element is the\n",
    "        final tape\n",
    "        \"\"\" \n",
    "        \n",
    "        word = str(word)\n",
    "        \n",
    "        self.valid_string(word)\n",
    "        \n",
    "        #reseting attributes publics and privates\n",
    "        \n",
    "        #initializing new tape\n",
    "        self.tape = [self.q0]\n",
    "        \n",
    "        self.tape.extend(list(word))\n",
    "        \n",
    "        self._len_word = len(self.tape)\n",
    "        \n",
    "        self.tape.append(self.blank)\n",
    "        \n",
    "        self.tape.insert(0,self.blank)\n",
    "        \n",
    "        \n",
    "        self._current_position = 1\n",
    "        \n",
    "        self.current_state = self.q0\n",
    "        \n",
    "        self.trampa = False\n",
    "        \n",
    "        #going into recursion\n",
    "        \n",
    "        self.__process_word_recursive(showing_backtrack)\n",
    "        \n",
    "        return self.trampa, self.tape\n",
    "        \n",
    "        \n",
    "        \n",
    "        \n",
    "    def __process_word_recursive(self, showing_backtrack = True):\n",
    "        \n",
    "        \"\"\"\n",
    "        Function to determine if a word belong to the language of the ndfa\n",
    "        \n",
    "        input:\n",
    "        showing_backtrack: to know whether to print the tape or not, the others inputs are private attributes\n",
    "        \n",
    "        self._current_position to know the position of the state in the tape\n",
    "        \n",
    "        self.tape is the tape of the turing machine\n",
    "        \n",
    "        Output:\n",
    "        return a bolean whether if the word is proccessed by the automaton or not\n",
    "        \"\"\" \n",
    "        \n",
    "        \n",
    "        if showing_backtrack: print(self.tape)\n",
    "        \n",
    "        #condtional to know whether is possible to use the pop or not\n",
    "        \n",
    "        conditional = True\n",
    "        \n",
    "        #this conditionals it to know if the symbol to consume is blank or not \n",
    "        \n",
    "        if self._current_position + 1 > self._len_word:\n",
    "            \n",
    "            symbol_to_consume = self.blank\n",
    "            \n",
    "            conditional = False\n",
    "            \n",
    "        elif self.tape[self._current_position + 1] == self.blank:\n",
    "            \n",
    "            symbol_to_consume = self.blank\n",
    "            \n",
    "        else:\n",
    "            symbol_to_consume = self.tape[self._current_position + 1]\n",
    "            \n",
    "            \n",
    "        #conditional to check if the transtition exists or not\n",
    "        if (self.current_state, symbol_to_consume) in self.delta:\n",
    "                \n",
    "                #getting the value of the tuple within that key\n",
    "                new_state, var_to_tape, L_or_R = self.delta[(self.current_state, symbol_to_consume)]\n",
    "                \n",
    "                self.current_state = new_state\n",
    "                \n",
    "                #eliminate the consumed symbol\n",
    "                if conditional: self.tape.pop(self._current_position + 1)\n",
    "                    \n",
    "                else: pass\n",
    "                \n",
    "                #put the new symbol to the tape in the position of the state\n",
    "                self.tape[self._current_position] = var_to_tape\n",
    "                \n",
    "                #new position of the state\n",
    "                if L_or_R == 'R':\n",
    "                    \n",
    "                    self._current_position += 1\n",
    "                    \n",
    "                    \n",
    "                else:\n",
    "                    \n",
    "                    self._current_position -= 1\n",
    "                    \n",
    "                #inserting the state in its new position    \n",
    "                self.tape.insert(self._current_position, new_state)\n",
    "                \n",
    "                #check if the turing machines has reached the final state, we do it in each recursivity, since as learned in class\n",
    "                #a turing machine as soon as arrives to a halting position cannot leave\n",
    "                if new_state in self.f:\n",
    "                    self.trampa = True\n",
    "                    \n",
    "                    return\n",
    "                \n",
    "                else:\n",
    "                    self.__process_word_recursive(showing_backtrack)\n",
    "        \n",
    "        #if not finishes the recursivity, this is equal to a not accepted string            \n",
    "        else:\n",
    "            return\n",
    "        \n",
    "        \n",
    "    def valid_string(self, word):\n",
    "        \"\"\"\n",
    "        Function to check if the given word does belong to the vocabulary of the machine, for example, if the machine only\n",
    "        accepts 0 and 1, in this function if detects other symbols than the defined tells it to the user\n",
    "        \"\"\"\n",
    "        \n",
    "        if set(word).issubset(set(self.sigma)):\n",
    "            return\n",
    "        else:\n",
    "            raise Exception(\"Not valid word, contains variables that are not part of the language\")\n",
    "            \n",
    "    def print_string(self):\n",
    "        \"\"\"\n",
    "        Function to print the tape with the blank symbol as space and eliminating the state and returning the tape as an string\n",
    "        \"\"\"\n",
    "        \n",
    "        memory = self.tape[:]\n",
    "        \n",
    "        memory.pop(memory.index(self.current_state))\n",
    "        \n",
    "        memory = [var if var != self.blank else ' ' for var in memory]\n",
    "        \n",
    "        string = ' | '.join(memory)\n",
    "        \n",
    "        return string\n",
    "        \n",
    "        "
   ]
  },
  {
   "cell_type": "markdown",
   "metadata": {},
   "source": [
    "# Implementation Explanation"
   ]
  },
  {
   "cell_type": "markdown",
   "metadata": {},
   "source": [
    "Since the methods is_valid and load_from_file we think are quite intuitive, we only will explained the main two functions which are process_word and the private method process_word_recursive"
   ]
  },
  {
   "cell_type": "markdown",
   "metadata": {},
   "source": [
    "#### Process_word\n",
    "\n",
    "It's quite simple since this function works to reset some public and private attributes, and it also works to go into the private method of process_word_recursive."
   ]
  },
  {
   "cell_type": "markdown",
   "metadata": {},
   "source": [
    "#### Process_word_recursive"
   ]
  },
  {
   "cell_type": "markdown",
   "metadata": {},
   "source": [
    "```\n",
    "if self._current_position + 1 > self._len_word:\n",
    "            \n",
    "    symbol_to_consume = self.blank\n",
    "\n",
    "    conditional = False\n",
    "\n",
    "elif self.tape[self._current_position + 1] == self.blank:\n",
    "\n",
    "    symbol_to_consume = self.blank\n",
    "\n",
    "else:\n",
    "    symbol_to_consume = self.tape[self._current_position + 1]\n",
    "\n",
    "```"
   ]
  },
  {
   "cell_type": "markdown",
   "metadata": {},
   "source": [
    "This part of the function is to check whether the next symbol to consume in the tape is blank or not, and if it's save it to then use it when looking for the values in delta, the conditional equal to False is to tell to the script later on to not eliminate any element because you would be eliminating a element that is not whithin the tape since the tape only has an extra definied blank space, so in case there is no more tape is assumed is a blank space"
   ]
  },
  {
   "cell_type": "markdown",
   "metadata": {},
   "source": [
    "```\n",
    "#conditional to check if the transtition exists or not\n",
    "if (self.current_state, symbol_to_consume) in self.delta:\n",
    "\n",
    "    #getting the value of the tuple within that key\n",
    "    new_state, var_to_tape, L_or_R = self.delta[(self.current_state, symbol_to_consume)]\n",
    "\n",
    "    self.current_state = new_state\n",
    "\n",
    "    #eliminate the consumed symbol\n",
    "    if conditional: self.tape.pop(self._current_position + 1)\n",
    "\n",
    "    else: pass\n",
    "\n",
    "    #put the new symbol to the tape in the position of the state\n",
    "    self.tape[self._current_position] = var_to_tape\n",
    "\n",
    "    #new position of the state\n",
    "    if L_or_R == 'R':\n",
    "\n",
    "        self._current_position += 1\n",
    "\n",
    "\n",
    "    else:\n",
    "\n",
    "        self._current_position -= 1\n",
    "\n",
    "    #inserting the state in its new position    \n",
    "    self.tape.insert(self._current_position, new_state)\n",
    "\n",
    "    #check if the turing machines has reached the final state, we do it in each recursivity, since as learned in class\n",
    "    #a turing machine as soon as arrives to a halting position cannot leave\n",
    "    if new_state in self.f:\n",
    "        self.trampa = True\n",
    "\n",
    "        return\n",
    "\n",
    "    else:\n",
    "        self.__process_word_recursive(showing_backtrack)\n",
    "                    \n",
    "```"
   ]
  },
  {
   "cell_type": "markdown",
   "metadata": {},
   "source": [
    "This would be the main part to procees the word, or rather the rape, first it gets tue tuple of three elements within the dictionary given the state the tape is currently and the next symbol to consume. If that combination of state and symbol to consume does not has a transaction the recursivity finishes, but the word is not valid.\n",
    "\n",
    "Then some operations are made to eliminate the consumed symbol and write the new symbol obtained in the tuple, then depending on if the third elemenent of the tuple is L or R it would be add -1 or 1 to the attribute current_position, which has the position of the state on the tape.\n",
    "\n",
    "Then at the end it checks if the machines has reached a halting state or not, if it has then finishes and return True and if has not, it keeps with the recursivity\n",
    "\n"
   ]
  },
  {
   "cell_type": "markdown",
   "metadata": {},
   "source": [
    "# Implementation Example\n",
    "\n",
    "## Turing Machine\n",
    "\n",
    "$a^{n}b^{n}: n >= 1$\n",
    "\n",
    "![title](images/machine1.PNG)"
   ]
  },
  {
   "cell_type": "code",
   "execution_count": 2,
   "metadata": {},
   "outputs": [
    {
     "name": "stderr",
     "output_type": "stream",
     "text": [
      "<ipython-input-1-692aca530d43>:54: UserWarning: Not valid automaton\n",
      "  warnings.warn(\"Not valid automaton\")\n"
     ]
    }
   ],
   "source": [
    "example = TuringMachine()"
   ]
  },
  {
   "cell_type": "code",
   "execution_count": 3,
   "metadata": {},
   "outputs": [],
   "source": [
    "example.load_from_file(\"turingM/turingM.txt\")"
   ]
  },
  {
   "cell_type": "code",
   "execution_count": 4,
   "metadata": {},
   "outputs": [
    {
     "data": {
      "text/plain": [
       "{('q0', 'a'): ('q1', 'x', 'R'),\n",
       " ('q0', 'y'): ('q3', 'y', 'R'),\n",
       " ('q1', 'a'): ('q1', 'a', 'R'),\n",
       " ('q1', 'y'): ('q1', 'y', 'R'),\n",
       " ('q1', 'b'): ('q2', 'y', 'L'),\n",
       " ('q2', 'a'): ('q2', 'a', 'L'),\n",
       " ('q2', 'y'): ('q2', 'y', 'L'),\n",
       " ('q2', 'x'): ('q0', 'x', 'R'),\n",
       " ('q3', 'y'): ('q3', 'y', 'R'),\n",
       " ('q3', 'epsilon'): ('q4', 'epsilon', 'L')}"
      ]
     },
     "execution_count": 4,
     "metadata": {},
     "output_type": "execute_result"
    }
   ],
   "source": [
    "example.delta"
   ]
  },
  {
   "cell_type": "code",
   "execution_count": 5,
   "metadata": {},
   "outputs": [
    {
     "name": "stdout",
     "output_type": "stream",
     "text": [
      "['epsilon', 'q0', 'a', 'a', 'a', 'b', 'b', 'b', 'epsilon']\n",
      "['epsilon', 'x', 'q1', 'a', 'a', 'b', 'b', 'b', 'epsilon']\n",
      "['epsilon', 'x', 'a', 'q1', 'a', 'b', 'b', 'b', 'epsilon']\n",
      "['epsilon', 'x', 'a', 'a', 'q1', 'b', 'b', 'b', 'epsilon']\n",
      "['epsilon', 'x', 'a', 'q2', 'a', 'y', 'b', 'b', 'epsilon']\n",
      "['epsilon', 'x', 'q2', 'a', 'a', 'y', 'b', 'b', 'epsilon']\n",
      "['epsilon', 'q2', 'x', 'a', 'a', 'y', 'b', 'b', 'epsilon']\n",
      "['epsilon', 'x', 'q0', 'a', 'a', 'y', 'b', 'b', 'epsilon']\n",
      "['epsilon', 'x', 'x', 'q1', 'a', 'y', 'b', 'b', 'epsilon']\n",
      "['epsilon', 'x', 'x', 'a', 'q1', 'y', 'b', 'b', 'epsilon']\n",
      "['epsilon', 'x', 'x', 'a', 'y', 'q1', 'b', 'b', 'epsilon']\n",
      "['epsilon', 'x', 'x', 'a', 'q2', 'y', 'y', 'b', 'epsilon']\n",
      "['epsilon', 'x', 'x', 'q2', 'a', 'y', 'y', 'b', 'epsilon']\n",
      "['epsilon', 'x', 'q2', 'x', 'a', 'y', 'y', 'b', 'epsilon']\n",
      "['epsilon', 'x', 'x', 'q0', 'a', 'y', 'y', 'b', 'epsilon']\n",
      "['epsilon', 'x', 'x', 'x', 'q1', 'y', 'y', 'b', 'epsilon']\n",
      "['epsilon', 'x', 'x', 'x', 'y', 'q1', 'y', 'b', 'epsilon']\n",
      "['epsilon', 'x', 'x', 'x', 'y', 'y', 'q1', 'b', 'epsilon']\n",
      "['epsilon', 'x', 'x', 'x', 'y', 'q2', 'y', 'y', 'epsilon']\n",
      "['epsilon', 'x', 'x', 'x', 'q2', 'y', 'y', 'y', 'epsilon']\n",
      "['epsilon', 'x', 'x', 'q2', 'x', 'y', 'y', 'y', 'epsilon']\n",
      "['epsilon', 'x', 'x', 'x', 'q0', 'y', 'y', 'y', 'epsilon']\n",
      "['epsilon', 'x', 'x', 'x', 'y', 'q3', 'y', 'y', 'epsilon']\n",
      "['epsilon', 'x', 'x', 'x', 'y', 'y', 'q3', 'y', 'epsilon']\n",
      "['epsilon', 'x', 'x', 'x', 'y', 'y', 'y', 'q3', 'epsilon']\n"
     ]
    },
    {
     "data": {
      "text/plain": [
       "(True, ['epsilon', 'x', 'x', 'x', 'y', 'y', 'q4', 'y', 'epsilon', 'epsilon'])"
      ]
     },
     "execution_count": 5,
     "metadata": {},
     "output_type": "execute_result"
    }
   ],
   "source": [
    "example.process_word('aaabbb')"
   ]
  },
  {
   "cell_type": "code",
   "execution_count": 6,
   "metadata": {},
   "outputs": [
    {
     "data": {
      "text/plain": [
       "'  | x | x | x | y | y | y |   |  '"
      ]
     },
     "execution_count": 6,
     "metadata": {},
     "output_type": "execute_result"
    }
   ],
   "source": [
    "example.print_string()"
   ]
  },
  {
   "cell_type": "code",
   "execution_count": 7,
   "metadata": {},
   "outputs": [
    {
     "data": {
      "text/plain": [
       "(True,\n",
       " ['epsilon',\n",
       "  'x',\n",
       "  'x',\n",
       "  'x',\n",
       "  'x',\n",
       "  'x',\n",
       "  'y',\n",
       "  'y',\n",
       "  'y',\n",
       "  'y',\n",
       "  'q4',\n",
       "  'y',\n",
       "  'epsilon',\n",
       "  'epsilon'])"
      ]
     },
     "execution_count": 7,
     "metadata": {},
     "output_type": "execute_result"
    }
   ],
   "source": [
    "example.process_word('aaaaabbbbb', False)"
   ]
  },
  {
   "cell_type": "markdown",
   "metadata": {},
   "source": [
    "# Example 2\n",
    "\n",
    "## Turing Machine\n",
    "\n",
    "![title](images/machine2.PNG)"
   ]
  },
  {
   "cell_type": "code",
   "execution_count": 8,
   "metadata": {},
   "outputs": [
    {
     "name": "stderr",
     "output_type": "stream",
     "text": [
      "<ipython-input-1-692aca530d43>:54: UserWarning: Not valid automaton\n",
      "  warnings.warn(\"Not valid automaton\")\n"
     ]
    }
   ],
   "source": [
    "example2 = TuringMachine()\n",
    "example2.load_from_file(\"turingM/turingM2.txt\")"
   ]
  },
  {
   "cell_type": "code",
   "execution_count": 9,
   "metadata": {},
   "outputs": [
    {
     "name": "stdout",
     "output_type": "stream",
     "text": [
      "['epsilon', 'q0', 'a', 'b', 'a', 'a', 'a', 'a', 'a', 'a', 'b', 'epsilon']\n",
      "['epsilon', 'b', 'q0', 'b', 'a', 'a', 'a', 'a', 'a', 'a', 'b', 'epsilon']\n",
      "['epsilon', 'b', 'b', 'q0', 'a', 'a', 'a', 'a', 'a', 'a', 'b', 'epsilon']\n",
      "['epsilon', 'b', 'b', 'b', 'q0', 'a', 'a', 'a', 'a', 'a', 'b', 'epsilon']\n",
      "['epsilon', 'b', 'b', 'b', 'b', 'q0', 'a', 'a', 'a', 'a', 'b', 'epsilon']\n",
      "['epsilon', 'b', 'b', 'b', 'b', 'b', 'q0', 'a', 'a', 'a', 'b', 'epsilon']\n",
      "['epsilon', 'b', 'b', 'b', 'b', 'b', 'b', 'q0', 'a', 'a', 'b', 'epsilon']\n",
      "['epsilon', 'b', 'b', 'b', 'b', 'b', 'b', 'b', 'q0', 'a', 'b', 'epsilon']\n",
      "['epsilon', 'b', 'b', 'b', 'b', 'b', 'b', 'b', 'b', 'q0', 'b', 'epsilon']\n",
      "['epsilon', 'b', 'b', 'b', 'b', 'b', 'b', 'b', 'b', 'b', 'q0', 'epsilon']\n"
     ]
    },
    {
     "data": {
      "text/plain": [
       "(True,\n",
       " ['epsilon',\n",
       "  'b',\n",
       "  'b',\n",
       "  'b',\n",
       "  'b',\n",
       "  'b',\n",
       "  'b',\n",
       "  'b',\n",
       "  'b',\n",
       "  'q1',\n",
       "  'b',\n",
       "  'epsilon',\n",
       "  'epsilon'])"
      ]
     },
     "execution_count": 9,
     "metadata": {},
     "output_type": "execute_result"
    }
   ],
   "source": [
    "example2.process_word('abaaaaaab')"
   ]
  },
  {
   "cell_type": "markdown",
   "metadata": {},
   "source": [
    "# Example 3\n",
    "\n",
    "## Turing Machine adder\n",
    "\n",
    "![image.png](images/machine3.PNG)"
   ]
  },
  {
   "cell_type": "code",
   "execution_count": 10,
   "metadata": {},
   "outputs": [
    {
     "name": "stderr",
     "output_type": "stream",
     "text": [
      "<ipython-input-1-692aca530d43>:54: UserWarning: Not valid automaton\n",
      "  warnings.warn(\"Not valid automaton\")\n"
     ]
    }
   ],
   "source": [
    "example3 = TuringMachine()"
   ]
  },
  {
   "cell_type": "code",
   "execution_count": 11,
   "metadata": {},
   "outputs": [],
   "source": [
    "example3.load_from_file(\"turingM/turingM3.txt\")"
   ]
  },
  {
   "cell_type": "code",
   "execution_count": 23,
   "metadata": {},
   "outputs": [
    {
     "data": {
      "text/plain": [
       "(True,\n",
       " ['epsilon',\n",
       "  'q4',\n",
       "  '1',\n",
       "  '1',\n",
       "  '1',\n",
       "  '1',\n",
       "  '1',\n",
       "  '1',\n",
       "  'epsilon',\n",
       "  'epsilon',\n",
       "  'epsilon'])"
      ]
     },
     "execution_count": 23,
     "metadata": {},
     "output_type": "execute_result"
    }
   ],
   "source": [
    "example3.process_word(\"1101111\", False)"
   ]
  },
  {
   "cell_type": "code",
   "execution_count": 24,
   "metadata": {},
   "outputs": [
    {
     "data": {
      "text/plain": [
       "'  | 1 | 1 | 1 | 1 | 1 | 1 |   |   |  '"
      ]
     },
     "execution_count": 24,
     "metadata": {},
     "output_type": "execute_result"
    }
   ],
   "source": [
    "example3.print_string()"
   ]
  },
  {
   "cell_type": "markdown",
   "metadata": {},
   "source": [
    "# Example 4\n",
    "\n",
    "## Turing Machine\n",
    "\n",
    "$a^n b^n c^n: n >= 1$\n",
    "\n",
    "![image](images/machine4.PNG)"
   ]
  },
  {
   "cell_type": "code",
   "execution_count": 14,
   "metadata": {},
   "outputs": [
    {
     "name": "stderr",
     "output_type": "stream",
     "text": [
      "<ipython-input-1-692aca530d43>:54: UserWarning: Not valid automaton\n",
      "  warnings.warn(\"Not valid automaton\")\n"
     ]
    }
   ],
   "source": [
    "example4 = TuringMachine()"
   ]
  },
  {
   "cell_type": "code",
   "execution_count": 15,
   "metadata": {},
   "outputs": [],
   "source": [
    "example4.load_from_file(\"turingM/turingM4.txt\")"
   ]
  },
  {
   "cell_type": "code",
   "execution_count": 16,
   "metadata": {},
   "outputs": [
    {
     "name": "stdout",
     "output_type": "stream",
     "text": [
      "['epsilon', 'q0', 'a', 'a', 'b', 'b', 'c', 'c', 'epsilon']\n",
      "['epsilon', 'x', 'q1', 'a', 'b', 'b', 'c', 'c', 'epsilon']\n",
      "['epsilon', 'x', 'a', 'q1', 'b', 'b', 'c', 'c', 'epsilon']\n",
      "['epsilon', 'x', 'a', 'y', 'q2', 'b', 'c', 'c', 'epsilon']\n",
      "['epsilon', 'x', 'a', 'y', 'b', 'q2', 'c', 'c', 'epsilon']\n",
      "['epsilon', 'x', 'a', 'y', 'q3', 'b', 'z', 'c', 'epsilon']\n",
      "['epsilon', 'x', 'a', 'q3', 'y', 'b', 'z', 'c', 'epsilon']\n",
      "['epsilon', 'x', 'q3', 'a', 'y', 'b', 'z', 'c', 'epsilon']\n",
      "['epsilon', 'q3', 'x', 'a', 'y', 'b', 'z', 'c', 'epsilon']\n",
      "['epsilon', 'x', 'q0', 'a', 'y', 'b', 'z', 'c', 'epsilon']\n",
      "['epsilon', 'x', 'x', 'q1', 'y', 'b', 'z', 'c', 'epsilon']\n",
      "['epsilon', 'x', 'x', 'y', 'q1', 'b', 'z', 'c', 'epsilon']\n",
      "['epsilon', 'x', 'x', 'y', 'y', 'q2', 'z', 'c', 'epsilon']\n",
      "['epsilon', 'x', 'x', 'y', 'y', 'z', 'q2', 'c', 'epsilon']\n",
      "['epsilon', 'x', 'x', 'y', 'y', 'q3', 'z', 'z', 'epsilon']\n",
      "['epsilon', 'x', 'x', 'y', 'q3', 'y', 'z', 'z', 'epsilon']\n",
      "['epsilon', 'x', 'x', 'q3', 'y', 'y', 'z', 'z', 'epsilon']\n",
      "['epsilon', 'x', 'q3', 'x', 'y', 'y', 'z', 'z', 'epsilon']\n",
      "['epsilon', 'x', 'x', 'q0', 'y', 'y', 'z', 'z', 'epsilon']\n",
      "['epsilon', 'x', 'x', 'y', 'q4', 'y', 'z', 'z', 'epsilon']\n",
      "['epsilon', 'x', 'x', 'y', 'y', 'q4', 'z', 'z', 'epsilon']\n",
      "['epsilon', 'x', 'x', 'y', 'y', 'z', 'q4', 'z', 'epsilon']\n",
      "['epsilon', 'x', 'x', 'y', 'y', 'z', 'z', 'q4', 'epsilon']\n"
     ]
    },
    {
     "data": {
      "text/plain": [
       "(True, ['epsilon', 'x', 'x', 'y', 'y', 'z', 'q5', 'z', 'epsilon', 'epsilon'])"
      ]
     },
     "execution_count": 16,
     "metadata": {},
     "output_type": "execute_result"
    }
   ],
   "source": [
    "example4.process_word('aabbcc')"
   ]
  },
  {
   "cell_type": "markdown",
   "metadata": {},
   "source": [
    "# Not Valid Examples"
   ]
  },
  {
   "cell_type": "markdown",
   "metadata": {},
   "source": [
    "## Ex 1"
   ]
  },
  {
   "cell_type": "code",
   "execution_count": 17,
   "metadata": {},
   "outputs": [
    {
     "name": "stderr",
     "output_type": "stream",
     "text": [
      "<ipython-input-1-692aca530d43>:54: UserWarning: Not valid automaton\n",
      "  warnings.warn(\"Not valid automaton\")\n"
     ]
    }
   ],
   "source": [
    "Not_ex = TuringMachine()"
   ]
  },
  {
   "cell_type": "code",
   "execution_count": 18,
   "metadata": {},
   "outputs": [
    {
     "ename": "TypeError",
     "evalue": "States of F are not a subset of states q",
     "output_type": "error",
     "traceback": [
      "\u001b[1;31m---------------------------------------------------------------------------\u001b[0m",
      "\u001b[1;31mTypeError\u001b[0m                                 Traceback (most recent call last)",
      "\u001b[1;32m<ipython-input-18-45184f937997>\u001b[0m in \u001b[0;36m<module>\u001b[1;34m\u001b[0m\n\u001b[1;32m----> 1\u001b[1;33m \u001b[0mNot_ex\u001b[0m\u001b[1;33m.\u001b[0m\u001b[0mload_from_file\u001b[0m\u001b[1;33m(\u001b[0m\u001b[1;34m\"turingM/NotTuring.txt\"\u001b[0m\u001b[1;33m)\u001b[0m\u001b[1;33m\u001b[0m\u001b[1;33m\u001b[0m\u001b[0m\n\u001b[0m",
      "\u001b[1;32m<ipython-input-1-692aca530d43>\u001b[0m in \u001b[0;36mload_from_file\u001b[1;34m(self, path, delta_separator)\u001b[0m\n\u001b[0;32m    108\u001b[0m         \u001b[0mself\u001b[0m\u001b[1;33m.\u001b[0m\u001b[0mactual_state\u001b[0m \u001b[1;33m=\u001b[0m \u001b[0mvariables\u001b[0m\u001b[1;33m[\u001b[0m\u001b[1;34m\"q0\"\u001b[0m\u001b[1;33m]\u001b[0m\u001b[1;33m\u001b[0m\u001b[1;33m\u001b[0m\u001b[0m\n\u001b[0;32m    109\u001b[0m \u001b[1;33m\u001b[0m\u001b[0m\n\u001b[1;32m--> 110\u001b[1;33m         \u001b[1;32mif\u001b[0m \u001b[0mself\u001b[0m\u001b[1;33m.\u001b[0m\u001b[0mis_valid\u001b[0m\u001b[1;33m(\u001b[0m\u001b[1;33m)\u001b[0m\u001b[1;33m:\u001b[0m\u001b[1;33m\u001b[0m\u001b[1;33m\u001b[0m\u001b[0m\n\u001b[0m\u001b[0;32m    111\u001b[0m                 \u001b[1;32mpass\u001b[0m\u001b[1;33m\u001b[0m\u001b[1;33m\u001b[0m\u001b[0m\n\u001b[0;32m    112\u001b[0m \u001b[1;33m\u001b[0m\u001b[0m\n",
      "\u001b[1;32m<ipython-input-1-692aca530d43>\u001b[0m in \u001b[0;36mis_valid\u001b[1;34m(self)\u001b[0m\n\u001b[0;32m    126\u001b[0m \u001b[1;33m\u001b[0m\u001b[0m\n\u001b[0;32m    127\u001b[0m         \u001b[1;32melse\u001b[0m\u001b[1;33m:\u001b[0m\u001b[1;33m\u001b[0m\u001b[1;33m\u001b[0m\u001b[0m\n\u001b[1;32m--> 128\u001b[1;33m             \u001b[1;32mraise\u001b[0m \u001b[0mTypeError\u001b[0m\u001b[1;33m(\u001b[0m\u001b[1;34m\"States of F are not a subset of states q\"\u001b[0m\u001b[1;33m)\u001b[0m\u001b[1;33m\u001b[0m\u001b[1;33m\u001b[0m\u001b[0m\n\u001b[0m\u001b[0;32m    129\u001b[0m \u001b[1;33m\u001b[0m\u001b[0m\n\u001b[0;32m    130\u001b[0m \u001b[1;33m\u001b[0m\u001b[0m\n",
      "\u001b[1;31mTypeError\u001b[0m: States of F are not a subset of states q"
     ]
    }
   ],
   "source": [
    "Not_ex.load_from_file(\"turingM/NotTuring.txt\")"
   ]
  },
  {
   "cell_type": "markdown",
   "metadata": {},
   "source": [
    "## Ex 2"
   ]
  },
  {
   "cell_type": "code",
   "execution_count": null,
   "metadata": {},
   "outputs": [],
   "source": [
    "Not_ex = TuringMachine()"
   ]
  },
  {
   "cell_type": "code",
   "execution_count": null,
   "metadata": {},
   "outputs": [],
   "source": [
    "Not_ex.load_from_file(\"turingM/NotTuring2.txt\")"
   ]
  },
  {
   "cell_type": "markdown",
   "metadata": {},
   "source": [
    "![image](images/farewell.jpg)"
   ]
  }
 ],
 "metadata": {
  "kernelspec": {
   "display_name": "Python 3",
   "language": "python",
   "name": "python3"
  },
  "language_info": {
   "codemirror_mode": {
    "name": "ipython",
    "version": 3
   },
   "file_extension": ".py",
   "mimetype": "text/x-python",
   "name": "python",
   "nbconvert_exporter": "python",
   "pygments_lexer": "ipython3",
   "version": "3.8.6"
  }
 },
 "nbformat": 4,
 "nbformat_minor": 4
}
