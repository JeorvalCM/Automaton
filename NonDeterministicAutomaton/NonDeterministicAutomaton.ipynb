{
 "cells": [
  {
   "cell_type": "markdown",
   "metadata": {},
   "source": [
    "# Non Deterministic Automaton"
   ]
  },
  {
   "cell_type": "code",
   "execution_count": 1,
   "metadata": {},
   "outputs": [],
   "source": [
    "class NonDeterminsiticAutomaton:\n",
    "    \n",
    "    def __init__(self, q = None, sigma = None, delta = None, q0 = None, empty_symbol = \"lambda\",f = None):\n",
    "        \"\"\"\n",
    "        Class initializar\n",
    "        \n",
    "        self.q receives all the states that conform the dfa\n",
    "        \n",
    "        self.sigma are all the variables defined in the dfa\n",
    "        \n",
    "        self.delta all are the operation defined, i.e- is a dictionary contating a tuple as key\n",
    "        where the left values of the tuple is the current state and the right value the variable pass and the value obtain by\n",
    "        accessing to with the key is to which state goes.\n",
    "        \n",
    "        self.q0 is the initial state\n",
    "        \n",
    "        self.empty_symbol is the symbol in which is represent the empty value, for instance, it is lambda bout could be epsilon\n",
    "        or another symbol, but it has to be defined, it is not receive from txt.\n",
    "        \n",
    "        self.f are all the final states\n",
    "        \n",
    "        self.actual_state is the state which the dfa finish after proccessing a word, if no word proccess the actual state is q0\n",
    "        and it is reset at start proccessing a new word\n",
    "        \"\"\"\n",
    "        self.q = q\n",
    "        self.sigma = sigma\n",
    "        self.delta = delta\n",
    "        self.q0 = q0\n",
    "        self.empty_symbol = empty_symbol\n",
    "        self.f = f\n",
    "        self.actual_state = q0\n",
    "        \n",
    "        self.not_valid_actual_state = q0\n",
    "        \n",
    "        #private attributes\n",
    "        self.set_empty_transictions = []\n",
    "        \n",
    "        self.all_reacheble_states = set()\n",
    "        \n",
    "        self.valid_paths = []\n",
    "        \n",
    "        self.not_valid_paths = []\n",
    "        \n",
    "        #boolean to know if a word is accepted or not\n",
    "        self.trampa = False\n",
    "        \n",
    "        self.all_paths_for_a_symbol = []\n",
    "        \n",
    "        self.all_paths_empty_transitions = []\n",
    "        \n",
    "        \n",
    "    def load_from_file(self, path, delta_separator = \"-\"):\n",
    "        \"\"\"\n",
    "        Function to read a file that contains an automaton\n",
    "        \n",
    "        path: path file\n",
    "        \"\"\"\n",
    "        \n",
    "        #dictionary to save the parts of the automaton\n",
    "        variables = {\"q\": None,\n",
    "             \"sigma\": None,\n",
    "             \"delta\": None,\n",
    "             \"q0\": None,\n",
    "             \"f\": None    \n",
    "        }\n",
    "\n",
    "        with open(path) as file:\n",
    "            #parsing the document\n",
    "            for line, variable in zip(file, variables):\n",
    "                    line = line.replace(\"{\", \"\")\n",
    "                    line = line.replace(\"}\", \"\")\n",
    "                    line = line.replace(\"\\n\", \"\")\n",
    "                    line = line.replace(\" \", \"\")\n",
    "                    value = list(line.split(\",\"))\n",
    "                    variables[variable] = value\n",
    "                    \n",
    "            #conditional to verify there is only one initial state        \n",
    "            if len(variables[\"q0\"]) > 1 or len(variables[\"q0\"]) == 0:\n",
    "                raise Exception('There are more than one initial state')\n",
    "                \n",
    "            variables[\"delta\"] = [values.split(delta_separator) for values in variables[\"delta\"]]\n",
    "            \n",
    "            #Memory to check that within the transictions there is no variable with more than one variable\n",
    "            Memory = [True for value in variables[\"delta\"] if value[1] not in variables[\"sigma\"] and value[1] != self.empty_symbol]\n",
    "            \n",
    "            \n",
    "            if sum(Memory) >= 1:\n",
    "                # for example the language is {a, b} and the variable of that transiction is aa.\n",
    "                raise TypeError(\"At least One variable has a transiction with a variable that does not belong to sigma\")\n",
    "                \n",
    "            #creating all posible combination of each state with each symbol\n",
    "            all_possible_transictions = {(state,symbol): [\"z0_dead\"] for state in variables[\"q\"] for symbol in variables[\"sigma\"] }\n",
    "            \n",
    "            #creating transitions from the state of dead\n",
    "            for symbol in variables[\"sigma\"]:\n",
    "                 all_possible_transictions[(\"z0_dead\",symbol)] = [\"z0_dead\"]\n",
    "            \n",
    "            \n",
    "\n",
    "            #parsing\n",
    "            #getting the values from delta\n",
    "            for values in variables[\"delta\"]:\n",
    "                #creating the key\n",
    "                key = (values[0],values[1])\n",
    "                \n",
    "                #checking whether the key is \n",
    "                if key in all_possible_transictions.keys():\n",
    "                    #if the first variables is z0_dead, so that is the defaul creation and actually has transitions\n",
    "                    if all_possible_transictions[key][0] == \"z0_dead\":\n",
    "                        all_possible_transictions[key].pop()\n",
    "                        all_possible_transictions[key].append(values[2])\n",
    "                        \n",
    "                    else:\n",
    "                        all_possible_transictions[key].append(values[2])\n",
    "\n",
    "                else:\n",
    "                    all_possible_transictions[key] = [values[2]]\n",
    "                        \n",
    "             #getting q0\n",
    "            variables[\"q0\"] = variables[\"q0\"][0]\n",
    "            \n",
    "            #assigning the attributos of the class to the values obtained from the file\n",
    "            self.q = variables[\"q\"]\n",
    "            self.sigma = variables[\"sigma\"]\n",
    "            self.delta = all_possible_transictions\n",
    "            self.q0 = variables[\"q0\"] \n",
    "            self.f = variables[\"f\"]\n",
    "            self.actual_state = variables[\"q0\"]\n",
    "            \n",
    "            #conditional to verify the dfa is valid\n",
    "            if self.is_valid():\n",
    "                pass\n",
    "            else:\n",
    "                raise Exception('Is not a valid automaton')\n",
    "            \n",
    "            \n",
    "    \n",
    "    def empty_transitions(self, state, showing_backtracking = True):\n",
    "        \"\"\"\n",
    "        Function to find all reachable states from an initial state just passing empty symbols\n",
    "        \n",
    "        Input:\n",
    "        Current State\n",
    "        showing_backtracking: boolean to know whether to print the path or not\n",
    "        \n",
    "        Output:\n",
    "        return a list of all reachable state\n",
    "        \"\"\"\n",
    "        if set([state]).issubset(set(self.q)):\n",
    "            pass\n",
    "        else:\n",
    "            raise Exception(\"The given state does not belong to this automaton\")\n",
    "        \n",
    "        #reseting the set of empty transiction, this is a private attribute that is only useful in the methods of the classs\n",
    "        self.set_empty_transictions = set()\n",
    "        \n",
    "        #creating a list to save the backtracking\n",
    "        paths = [state]\n",
    "        \n",
    "        \n",
    "        self.empty_transitions_recursive(state, [state], paths, showing_backtracking) \n",
    "        \n",
    "        try:\n",
    "            #if exists, then discard it\n",
    "            self.set_empty_transictions.discard(\"z0_dead\")\n",
    "            return list(self.set_empty_transictions)\n",
    "            \n",
    "        except:                \n",
    "            return list(self.set_empty_transictions)\n",
    "        \n",
    "        \n",
    "        \n",
    "    def empty_transitions_recursive(self, state, memory = [], paths = [], showing_backtracking = True):\n",
    "        \"\"\"\n",
    "        Private Function to find all reachable states from an initial state just passing empty symbols, recursively\n",
    "        we did it in this way so we can get print the path, I mean for empty transitions, getting the paths may be\n",
    "        useless because it works for nothing but it seems neat xD.\n",
    "        \n",
    "        Input:\n",
    "        state: Current State\n",
    "        memory: is a list of states already visited by that path\n",
    "        showing_backtracking: boolean to know whether to print the path or not\n",
    "        \n",
    "        Output:\n",
    "        return a list of all reachable state\n",
    "        \"\"\"\n",
    "    \n",
    "        #memory to avoid infinite loops\n",
    "        memory_inside = memory[:]\n",
    "        \n",
    "        memory_inside.append(state)\n",
    "        \n",
    "        if showing_backtracking:\n",
    "            print(paths)\n",
    "        \n",
    "        #check if that transiction exists\n",
    "        try:\n",
    "            for new_state in self.delta[(state, self.empty_symbol)]:\n",
    "                #to avoid infinite loops\n",
    "                if new_state not in memory:\n",
    "                    #backtracking\n",
    "                    paths.append(new_state)\n",
    "                    \n",
    "                    #adding the new_state into that set\n",
    "                    self.set_empty_transictions.add(new_state)\n",
    "                    #recursion \n",
    "                    self.empty_transitions_recursive(new_state, memory_inside, paths, showing_backtracking)\n",
    "                    \n",
    "                    #eliminating the element, for backtracking\n",
    "                    paths.pop()\n",
    "                    \n",
    "                else:\n",
    "                    #when the infinite loop exist\n",
    "                    paths.append(new_state)\n",
    "                    \n",
    "                    if showing_backtracking:\n",
    "                        print(paths)\n",
    "                        \n",
    "                    #eliminating the element, for backtracking\n",
    "                    paths.pop()\n",
    "                    \n",
    "        except:\n",
    "            pass\n",
    "            \n",
    "        \n",
    "        \n",
    "        \n",
    "    def process_symbol(self, state, symbol, showing_backtracking = True):\n",
    "        \"\"\"\n",
    "        Function to find all the states you can reach from one state processing a symbol\n",
    "        \n",
    "        Input:\n",
    "        state: current state\n",
    "        \n",
    "        symbol: variable belonging to sigma\n",
    "        \n",
    "        showing_backtracking: boolean to know whether to print the path or not\n",
    "        \n",
    "        Output:\n",
    "        return a list of the reacheble states\n",
    "        \"\"\"\n",
    "        self.valid_string(symbol)\n",
    "        \n",
    "        if set([state]).issubset(set(self.q)):\n",
    "            pass\n",
    "        else:\n",
    "            raise Exception(\"The given state does not belong to this automaton\")\n",
    "        \n",
    "        #reseting attribute\n",
    "        self.all_paths_for_a_symbol = []\n",
    "        \n",
    "        #setting that set into the first reachable states\n",
    "        #First case where only consumes the symbol\n",
    "        self.all_reacheble_states  = set(self.delta[(state, symbol)])\n",
    "        \n",
    "        paths = [(state, symbol)]\n",
    "        \n",
    "        paths.append(self.delta[(state, symbol)])\n",
    "        if showing_backtracking:\n",
    "            print(\"-------------------------Case where reach a state only consuming the symbol-------------------------\")\n",
    "            print(paths)\n",
    "            \n",
    "        if self.delta[(state, symbol)] != []:\n",
    "            self.all_paths_for_a_symbol.append(paths[:])\n",
    "            \n",
    "        paths.pop()\n",
    "        \n",
    "        \n",
    "        #Second case where the symbol is consumed and then applyes lambda\n",
    "        \n",
    "        if showing_backtracking:\n",
    "            print(\"-------------------------Case where reach a state consuming the symbol and then lambda if possible-------------------------\")\n",
    "        \n",
    "        for new_state in self.delta[(state, symbol)]:\n",
    "            \n",
    "            if new_state != \"z0_dead\":\n",
    "                #adding the state and the symbol for transiction\n",
    "                paths.append((new_state, self.empty_symbol))\n",
    "                \n",
    "\n",
    "                #adding where it can reach after making that transiction\n",
    "                empty_transitions_list = self.empty_transitions(new_state, False)\n",
    "                \n",
    "                paths.append(empty_transitions_list)\n",
    "                \n",
    "                if empty_transitions_list != []:\n",
    "                    self.all_paths_for_a_symbol.append(paths[:])\n",
    "                if showing_backtracking:\n",
    "                    print(paths)\n",
    "\n",
    "                #uptading the set\n",
    "                self.all_reacheble_states.update(empty_transitions_list)\n",
    "                paths.pop()\n",
    "                paths.pop()\n",
    "        \n",
    "        \n",
    "        #third case first consumbes the empty symbol and then the synbol \n",
    "        #and also fourth case where consumes the empty symbol, then the symbol and again the empty symbol\n",
    "        #getting the transitions using lambda\n",
    "        new_reacheable_states = self.empty_transitions(state, False)\n",
    "        \n",
    "        \n",
    "        if showing_backtracking:\n",
    "            print(\"-------------------------Third and Fourth Case-------------------------\")\n",
    "        \n",
    "        paths = [(state, self.empty_symbol)]\n",
    "        \n",
    "        #going through the reacheable states using lambda and then the symbol\n",
    "        for new_state in new_reacheable_states:\n",
    "            \n",
    "            #saving the symbol and the symbol consume\n",
    "            paths.append((new_state, symbol))\n",
    "            #adding the reacheable states\n",
    "            paths.append(self.delta[(new_state, symbol)])\n",
    "            if showing_backtracking:\n",
    "                print(paths)\n",
    "    \n",
    "            self.all_reacheble_states.update(self.delta[(new_state, symbol)])\n",
    "            \n",
    "            self.all_paths_for_a_symbol.append(paths[:])\n",
    "            #eliminating those reachebale states because where are going to iterate, one by one\n",
    "            paths.pop()\n",
    "            \n",
    "            #going through the reacheable states using lambda, then the symbol and finally the empty transition\n",
    "            for second_next_state in self.delta[(new_state, symbol)]:\n",
    "                if second_next_state != \"z0_dead\":\n",
    "                    #saving the symbol and the symbol consume\n",
    "                    paths.append((second_next_state, self.empty_symbol))\n",
    "                    #adding the reacheable states\n",
    "                    \n",
    "                    empty_transitions_list = self.empty_transitions(second_next_state, False)\n",
    "                    \n",
    "                        \n",
    "                    paths.append(empty_transitions_list)\n",
    "                    if showing_backtracking:\n",
    "                        print(paths)\n",
    "                    \n",
    "                    if empty_transitions_list != []:\n",
    "                        self.all_paths_for_a_symbol.append(paths[:])\n",
    "    \n",
    "                    self.all_reacheble_states.update(empty_transitions_list)\n",
    "\n",
    "                    #eliminating for backtracking\n",
    "                    paths.pop()\n",
    "                    paths.pop()\n",
    "\n",
    "            #eliminating for backtracking    \n",
    "            paths.pop()\n",
    "            \n",
    "        lista_reacheable_state = list(self.all_reacheble_states)    \n",
    "            \n",
    "        if \"z0_dead\" in lista_reacheable_state:\n",
    "            lista_reacheable_state.append(lista_reacheable_state.pop(lista_reacheable_state.index(\"z0_dead\")))\n",
    "            \n",
    "        return lista_reacheable_state\n",
    "    \n",
    "    def process_word(self, word, showing_backtrack = True):\n",
    "        \"\"\"\n",
    "        Function to determine if a word belong to the language of the ndfa\n",
    "        \n",
    "        input:\n",
    "        Word: word to be proccessed\n",
    "        \n",
    "        Output:\n",
    "        return a bolean whether if the word is proccessed by the automaton or not\n",
    "        \"\"\" \n",
    "        self.valid_string(word)\n",
    "        \n",
    "        word = str(word)\n",
    "         \n",
    "        #reseting attributes\n",
    "        self.trampa = False\n",
    "        \n",
    "        self.valid_paths = []\n",
    "        \n",
    "        self.not_valid_paths = []\n",
    "        \n",
    "        #memory\n",
    "        paths = []\n",
    "          \n",
    "        #going into recursive\n",
    "        self.process_word_recursive(word, self.q0 ,paths, showing_backtrack)\n",
    "        \n",
    "        return self.trampa\n",
    "        \n",
    "    \n",
    "    def process_word_recursive(self, word, state,paths = [], showing_backtrack = True):\n",
    "        \"\"\"\n",
    "        Private method for the method process_word, in which it recursively goes to each possible paths to try to find a possible path \n",
    "        where the word is accepted\n",
    "        input:\n",
    "        Word: word to be proccessed\n",
    "        paths: list which is the memory for the backtracking\n",
    "        showing_backtrack: shows the backtracking or not\n",
    "        \n",
    "        Output:\n",
    "        return a bolean whether if the word is proccessed by the automaton or not\n",
    "        \"\"\"\n",
    "        #check if the word is not empty\n",
    "        try:\n",
    "            letter = word[0]\n",
    "        \n",
    "        #case where is no more variables to consume\n",
    "        except:\n",
    "            #checking if the last state is in final states\n",
    "            if state in list(self.f):\n",
    "                if showing_backtrack:\n",
    "                    print(\"---------------------------valid-----------------------\\n\\n\")\n",
    "                #saving that the word is valid   \n",
    "                self.trampa = True\n",
    "                #actul state to use in function str\n",
    "                self.actual_state = state\n",
    "                #saving the valid path\n",
    "                self.valid_paths.append(paths[:])\n",
    "                return \n",
    "            \n",
    "            #unvalid word\n",
    "            else:\n",
    "                if showing_backtrack:\n",
    "                    print(\"---------------------------Unvalid---------------------------\\n\\n\")\n",
    "                    #the same as the part latter\n",
    "                self.not_valid_actual_state = state\n",
    "                self.not_valid_paths.append(paths[:])\n",
    "                return\n",
    "        \n",
    "        #adding to the backtracking\n",
    "        paths.append((state,letter))\n",
    "        if showing_backtrack:\n",
    "            print(paths)\n",
    "        #going through each possible state with that letter\n",
    "        for possible_path in self.process_symbol(state, letter, False):\n",
    "            #saving for backtracking\n",
    "            paths.append(possible_path)\n",
    "            if showing_backtrack:\n",
    "                print(paths)\n",
    "                \n",
    "            #if it reaches the state of dead\n",
    "            if possible_path == \"z0_dead\":\n",
    "                if showing_backtrack:\n",
    "                    print(\"---------------------------Unvalid---------------------------\\n\\n\")\n",
    "                paths.pop()\n",
    "                paths.pop()\n",
    "                #you may think this should be a pass, but no because our  state of death, thank to the function process_symbol\n",
    "                # is always and the end of the list\n",
    "                return\n",
    "            \n",
    "            self.process_word_recursive(word[1:], possible_path, paths, showing_backtrack)\n",
    "            paths.pop()\n",
    "        paths.pop()\n",
    "        \n",
    "    def valid_string(self, word):\n",
    "        \n",
    "        if set(word).issubset(set(self.sigma)):\n",
    "            return\n",
    "        else:\n",
    "            raise Exception(\"Not valid word, contains variables that are not part of the language\")\n",
    "    \n",
    "        \n",
    "        \n",
    "    def __str__(self):\n",
    "        \n",
    "        if len(self.valid_paths) == 0:\n",
    "            self.actual_state = self.not_valid_actual_state\n",
    "        \n",
    "        cadena = \"Grammar: \\n q: {} \\n sigma: {}, delta: {}, q0: {}, f: {}, current_sate: {}, empty_symbol: {}\".format(\n",
    "                                                                                    self.q , \n",
    "                                                                                    self.sigma, \n",
    "                                                                                    self.delta, \n",
    "                                                                                    self.q0, \n",
    "                                                                                    self.f, \n",
    "                                                                                    self.actual_state,\n",
    "                                                                                    self.empty_symbol) \n",
    "        return cadena\n",
    "    \n",
    "    def is_valid(self):\n",
    "        \n",
    "        \"\"\"\n",
    "        Funtion to validate whether the dfa is valid or not\n",
    "        \n",
    "        Uses the attributes of the class\n",
    "        \"\"\"\n",
    "        \n",
    "        #gets the tuples which are the deltas defined\n",
    "        all_defined_oper = [(key1,key2)for key1, key2 in self.delta.keys() if key1 != \"z0_dead\"]\n",
    "        \n",
    "        #get the values of the deltas\n",
    "        all_to_go_states = [value for value in self.delta.values()]\n",
    "        \n",
    "        all_to_go_states = [item for sublist in all_to_go_states for item in sublist if item != \"z0_dead\"]\n",
    "        \n",
    "        #gets the left value of the tuple\n",
    "        all_states_to_receive = set([state[0] for state in list(self.delta.keys()) if state[0] != \"z0_dead\"])\n",
    "        \n",
    "        #gets the right value of the tuple\n",
    "        all_variables_to_receive = set([state[1] for state in list(self.delta.keys()) if state[0] != \"z0_dead\"])\n",
    "        \n",
    "        \n",
    "        #conditional to check if the final states are subsets of q, which is the variable containing all the states\n",
    "        if set(self.f).issubset(set(self.q)):\n",
    "            pass\n",
    "        \n",
    "        else:\n",
    "            raise TypeError(\"States of F are not a subset of states q\")\n",
    "            \n",
    "            \n",
    "        #conditional to check if the inital state is a subsets of q, which is the variable containing all the states    \n",
    "        if set([self.q0]).issubset(set(self.q)):\n",
    "            pass\n",
    "        \n",
    "        else:\n",
    "            raise TypeError(\"q0 is not a subset of states q\")\n",
    "            \n",
    "        \n",
    "        #checking if the left value of the tuple is subset of q and the right value is subset of sigma\n",
    "        if set(all_states_to_receive).issubset(set(self.q)):\n",
    "            pass\n",
    "        \n",
    "        else:\n",
    "            raise TypeError(\"The state before a applying the transiction is not a subset of q\")\n",
    "            \n",
    "        sigmas = set(self.sigma)\n",
    "        sigmas.add(self.empty_symbol)\n",
    "        if set(all_variables_to_receive).issubset(sigmas):\n",
    "            pass\n",
    "        \n",
    "        else:\n",
    "            print(all_variables_to_receive)\n",
    "            print(self.sigma)\n",
    "            raise TypeError(\"The variable which is apply to the transiction is not a subset of sigma\")\n",
    "        \n",
    "        #checking if all the transictions of delta are subsets of q\n",
    "        if set(all_to_go_states).issubset(set(self.q)):\n",
    "            pass\n",
    "        \n",
    "        else:\n",
    "            raise TypeError(\"The state resultant of a transiction is not a subset of states q\")\n",
    "            \n",
    "        return True\n",
    "    \n",
    "    def print_valid_path(self, path = None):\n",
    "        \"\"\"\n",
    "        Function to print one path of an accepted word, only works with valid paths, can be obtained using self.valid_paths\n",
    "        \n",
    "        input:\n",
    "        path: list that contains the path travelled\n",
    "        \n",
    "        output:\n",
    "        None\n",
    "        only prints the path\n",
    "        \"\"\"\n",
    "        # if the path is not defined, it gets the first path of valid_paths\n",
    "        if path == None:\n",
    "            path = self.valid_paths[0]\n",
    "            \n",
    "        #saving the paths\n",
    "        llaves = []\n",
    "        caminos = []\n",
    "        \n",
    "        #this division is used to avoid problems and make it easier to use because a valid path always has a pair number of elements+\n",
    "        #where the pair are a tuple of the transiction and the impairs is the resulf ot the tuple before\n",
    "        n = int(len(path)/2)\n",
    "        \n",
    "        #going through this list\n",
    "        for i in range(n):\n",
    "            #process the symbol of the right side of the tuple in the state that is in the left side of the same tuple\n",
    "            self.process_symbol(path[i*2][0],path[i*2][1], False)\n",
    "            \n",
    "            #going through each set of paths\n",
    "            for j in range(len(self.all_paths_for_a_symbol)):\n",
    "                #the list obtained in process symbol and saved in self.all_paths_for_a_symbol is made to each last element of the list within \n",
    "                #list are the states that reaches, so we get a path to reach that state consuming that symbol\n",
    "                if path[i*2 + 1] in self.all_paths_for_a_symbol[j][-1]:\n",
    "                    aux = self.all_paths_for_a_symbol[j]\n",
    "                    #saving the values\n",
    "                    llaves.append((path[i*2][0],path[i*2][1], path[i*2 + 1])) \n",
    "                    caminos.append(aux)\n",
    "                    break \n",
    "        \n",
    "        #we eliminate if there is more than one final state in the last element of the last list\n",
    "        for i in caminos[-1][-1]:\n",
    "            if i in self.f:\n",
    "                caminos[-1][-1] = [i]\n",
    "                break\n",
    "        \n",
    "        #This code is to clean the paths adding the exact lambda transiction\n",
    "        n = len(caminos)\n",
    "        for path in range(n):\n",
    "            for trans in range(len(caminos[path])):\n",
    "                #all the case before getting to the last element that always is an array\n",
    "                if trans != len(caminos[path])-1:\n",
    "                    #case where the transiction is lambda\n",
    "                    if caminos[path][trans][1] == self.empty_symbol:\n",
    "                        #finding the path\n",
    "                        self.find_path(caminos[path][trans][0], caminos[path][trans+1][0])\n",
    "                        #case where the transiction is before the last element\n",
    "                        if trans == len(caminos[path])-2:\n",
    "                            caminos[path].pop(trans)\n",
    "                            caminos[path].pop(trans)\n",
    "                            #adding the transictions using lambda to get to the last element of the list\n",
    "                            for val in self.all_paths_empty_transitions[::-1]:\n",
    "                                    caminos[path].insert(trans, val)  \n",
    "                        #case where the element after the transictions is another tuple\n",
    "                        else:\n",
    "                            \n",
    "                            caminos[path].pop(trans)\n",
    "                            #adding the elements except the last one because is just a list, and is worthless\n",
    "                            for val in self.all_paths_empty_transitions[1::-1][1:]:\n",
    "                                    caminos[path].insert(trans, val) \n",
    "                            \n",
    "        \n",
    "        i = 1\n",
    "        #loops where the printins is made\n",
    "        j = 0\n",
    "        for values in list(caminos):\n",
    "            print(\"{}.- \".format(i), end = \"\")\n",
    "            for transition in range(len(values)):\n",
    "                if transition < (len(values)-1):\n",
    "                    if len(values[transition+1]) > 1 and type(values[transition+1]) == list:\n",
    "                        for val in values[transition+1]:\n",
    "                            if j < len(caminos) - 1:\n",
    "                                if val in caminos[j+1][0]:\n",
    "                                    print(\"{}  ======> {}---- \".format(values[transition],val), end = \"\")  \n",
    "                            else:\n",
    "                                if val in self.f:\n",
    "                                    print(\"{}  ======> {}---- \".format(values[transition],val), end = \"\")\n",
    "                                    break\n",
    "                    else:\n",
    "                        print(\"{}  ======> {}---- \".format(values[transition],values[transition+1][0]), end = \"\")\n",
    "\n",
    "                else:\n",
    "                    print()\n",
    "            j += 1\n",
    "            i += 1\n",
    "    \n",
    "    def find_path(self, state, reach_state):\n",
    "        \"\"\"\n",
    "        Function to find a path from a state to other state using only lambda\n",
    "        \n",
    "        Input:\n",
    "        state: initial state\n",
    "        \n",
    "        reach_state: state where we want to reach\n",
    "        \n",
    "        Output: One possible path from the state to the reach_state using empty_symbols\n",
    "        \n",
    "        \"\"\"\n",
    "        self.all_paths_empty_transitions = []\n",
    "\n",
    "        self.__find_path(state, reach_state, memory = [], anti_loops = [])\n",
    "        \n",
    "        self.all_paths_empty_transitions = self.all_paths_empty_transitions[0]\n",
    "\n",
    "    def __find_path(self, state, reach_state, memory = [], anti_loops = []):\n",
    "        \"\"\"\n",
    "        Private function for find_path\n",
    "        Recursively gets all the paths from state to reach_state\n",
    "        \n",
    "        \"\"\"\n",
    "        anti_loops.append(state)\n",
    "        #case to finish recursivity\n",
    "        if state == reach_state:\n",
    "            memory.append([state])\n",
    "            self.all_paths_empty_transitions.append(memory[:])\n",
    "            return\n",
    "        else:\n",
    "            memory.append((state, self.empty_symbol))\n",
    "            try:\n",
    "                #checking if there is transiction with the empty_symbol\n",
    "                valores = self.delta[state,self.empty_symbol]\n",
    "                for estado in valores:\n",
    "                    if estado not in anti_loops:\n",
    "                        self.__find_path(estado, reach_state, memory, anti_loops)\n",
    "                    memory.pop()                    \n",
    "            except:\n",
    "                pass"
   ]
  },
  {
   "cell_type": "markdown",
   "metadata": {},
   "source": [
    "# Implementation Example\n",
    "\n",
    "Disclaimer: I know backtracking cost a lot computational speaking, but I really wanted to do it in that way to know what my code did"
   ]
  },
  {
   "cell_type": "markdown",
   "metadata": {},
   "source": [
    "## Explaining the parsing"
   ]
  },
  {
   "cell_type": "markdown",
   "metadata": {},
   "source": [
    "Parsing the line is the same as the code for an automaton, however, what it changes is parsing delta"
   ]
  },
  {
   "cell_type": "markdown",
   "metadata": {},
   "source": [
    "```\n",
    "all_possible_transictions = {(state,symbol): [\"z0_dead\"] for state in variables[\"q\"] for symbol in variables[\"sigma\"] }\n",
    "            \n",
    "for symbol in variables[\"sigma\"]:\n",
    "     all_possible_transictions[(\"z0_dead\",symbol)] = [\"z0_dead\"]\n",
    "\n",
    "\n",
    "for values in variables[\"delta\"]:\n",
    "    key = (values[0],values[1])\n",
    "    \n",
    "    if key in all_possible_transictions.keys():\n",
    "        if all_possible_transictions[key][0] == \"z0_dead\":\n",
    "            all_possible_transictions[key].pop()\n",
    "            all_possible_transictions[key].append(values[2])\n",
    "\n",
    "        else:\n",
    "            all_possible_transictions[key].append(values[2])\n",
    "\n",
    "    else:\n",
    "        all_possible_transictions[key] = [values[2]]\n",
    "```"
   ]
  },
  {
   "cell_type": "markdown",
   "metadata": {},
   "source": [
    "What it does, first create all the posible combinations for each state with each symbol and assign them the value \"z0_dead\" which is the empty state, we did it that way to prevent future errors with that state.\n",
    "\n",
    "The in the first loop, we create all the posible transiction from the empty set, which only can go to itself\n",
    "\n",
    "The last loop is to add, the real values for each state with its respective symbol for each state, we did in this way, so each transiction access to a list of posible recheable states.\n",
    "if the key is already, then check if the \"z0_dead\" is the first value, that mean that actually z0_dead shouldn't be there so we drop it and add the new values.\n",
    "the else, is to add values which actually where not in all_possible transitions, if this happen is likely to be an unvalid ndfa"
   ]
  },
  {
   "cell_type": "markdown",
   "metadata": {},
   "source": [
    "## Explaining the method empty transitions"
   ]
  },
  {
   "cell_type": "markdown",
   "metadata": {},
   "source": [
    "```\n",
    "word = str(word)\n",
    "         \n",
    "self.trampa = False\n",
    "\n",
    "self.valid_paths = []\n",
    "\n",
    "self.not_valid_paths = []\n",
    "\n",
    "paths = []\n",
    "\n",
    "self.process_word_recursive(word, self.q0 ,paths, showing_backtrack)\n",
    "\n",
    "return self.trampa\n",
    "\n",
    "```"
   ]
  },
  {
   "cell_type": "markdown",
   "metadata": {},
   "source": [
    "This method allow us to access to the recursive and also without this the backtacking would be harder to apply\n",
    "\n",
    "Mostly, is for defining new variables and reseting attributes, to then access to the recursive function"
   ]
  },
  {
   "cell_type": "markdown",
   "metadata": {},
   "source": [
    "## Explaining the private method empty transitions recursive"
   ]
  },
  {
   "cell_type": "markdown",
   "metadata": {},
   "source": [
    "```\n",
    "memory_inside = memory[:]\n",
    "\n",
    "memory_inside.append(state)\n",
    "\n",
    "if showing_backtracking:\n",
    "    print(paths)\n",
    "    \n",
    "try:\n",
    "    for new_state in self.delta[(state, self.empty_symbol)]:\n",
    "        \n",
    "        if new_state not in memory:\n",
    "            #backtracking\n",
    "            paths.append(new_state)\n",
    "\n",
    "            self.set_empty_transictions.add(new_state)\n",
    "           \n",
    "            self.empty_transitions_recursive(new_state, memory_inside, paths, showing_backtracking)\n",
    "\n",
    "            paths.pop()\n",
    "\n",
    "        else:\n",
    "           \n",
    "            paths.append(new_state)\n",
    "\n",
    "            if showing_backtracking:\n",
    "                print(paths)\n",
    "\n",
    "            paths.pop()\n",
    "\n",
    "except:\n",
    "    pass\n",
    "```"
   ]
  },
  {
   "cell_type": "markdown",
   "metadata": {},
   "source": [
    "This method is to make the backtraking, first try if there exist transictions with the current state and the empty_symbol, if not the function finish.\n",
    "If there states, first check if it is not in memory, because if is already in memory it will cause and infinte loop, , then it goes again in recursion, to find all the reacheable states using the empty symbol"
   ]
  },
  {
   "cell_type": "markdown",
   "metadata": {},
   "source": [
    "## Explaining process symbol function\n",
    "For this we are gonna divide this function in four different cases, we will avoid talking about what we did with the path variable because is for backtracking, it has no more explanation"
   ]
  },
  {
   "cell_type": "markdown",
   "metadata": {},
   "source": [
    "### Case 1\n",
    "#### All the reacheable states only consuming the symbol given"
   ]
  },
  {
   "cell_type": "markdown",
   "metadata": {},
   "source": [
    "```\n",
    "self.all_paths_for_a_symbol = []\n",
    "\n",
    "self.all_reacheble_states  = set(self.delta[(state, symbol)])\n",
    "\n",
    "paths = [(state, symbol)]\n",
    "\n",
    "paths.append(self.delta[(state, symbol)])\n",
    "\n",
    "if self.delta[(state, symbol)] != []:\n",
    "    self.all_paths_for_a_symbol.append(paths[:])\n",
    "    \n",
    "```"
   ]
  },
  {
   "cell_type": "markdown",
   "metadata": {},
   "source": [
    "As said latter, using self.delta([state,symbol]) we get the states that are reachable using only the symbol given and if is not and empty list we add it to the backtracking"
   ]
  },
  {
   "cell_type": "markdown",
   "metadata": {},
   "source": [
    "### Case 2\n",
    "#### Case where reach states consuming the symbol and then lambda if possible"
   ]
  },
  {
   "cell_type": "markdown",
   "metadata": {},
   "source": [
    "```\n",
    "for new_state in self.delta[(state, symbol)]:\n",
    "\n",
    "    if new_state != \"z0_dead\":\n",
    "        #adding the state and the symbol for transiction\n",
    "        paths.append((new_state, self.empty_symbol))\n",
    "\n",
    "\n",
    "        #adding where it can reach after making that transiction\n",
    "        empty_transitions_list = self.empty_transitions(new_state, False)\n",
    "\n",
    "        paths.append(empty_transitions_list)\n",
    "\n",
    "        if empty_transitions_list != []:\n",
    "            self.all_paths_for_a_symbol.append(paths[:])\n",
    "        if showing_backtracking:\n",
    "            print(paths)\n",
    "\n",
    "        #uptading the set\n",
    "        self.all_reacheble_states.update(empty_transitions_list)\n",
    "        paths.pop()\n",
    "        paths.pop()        \n",
    "```"
   ]
  },
  {
   "cell_type": "markdown",
   "metadata": {},
   "source": [
    "In this case, first we obtain the reacheable states after consuming the symbol, and then in each state we get their reacheable states using the empty symbol.\n",
    "In the for we get all the reacheable states consuming the symbol, and then applying the funcion empty_transitions in each state we get all the posibles states for this case."
   ]
  },
  {
   "cell_type": "markdown",
   "metadata": {},
   "source": [
    "### Case 3 and 4\n",
    "#### 3. Case where first go to each posible states using the empty symbol and then consumes the given symbol\n",
    "#### 4. Case where first go to each posible states using the empty symbol and then consumes the given symbol in each state, and finally consumes another empty_symbol in each state.\n",
    "\n",
    "Basically the case 4, is obtaining all the reacheable states using the empty symbol in each state obtained in case 3"
   ]
  },
  {
   "cell_type": "markdown",
   "metadata": {},
   "source": [
    "```\n",
    "new_reacheable_states = self.empty_transitions(state, False)\n",
    "for new_state in new_reacheable_states:\n",
    "\n",
    "    paths.append((new_state, symbol))\n",
    "    paths.append(self.delta[(new_state, symbol)])\n",
    "    \n",
    "    self.all_reacheble_states.update(self.delta[(new_state, symbol)])\n",
    "\n",
    "    self.all_paths_for_a_symbol.append(paths[:])\n",
    "    paths.pop()\n",
    "\n",
    "    for second_next_state in self.delta[(new_state, symbol)]:\n",
    "        if second_next_state != \"z0_dead\":\n",
    "            paths.append((second_next_state, self.empty_symbol))\n",
    "\n",
    "            empty_transitions_list = self.empty_transitions(second_next_state, False)\n",
    "\n",
    "\n",
    "            paths.append(empty_transitions_list)\n",
    "            \n",
    "            if empty_transitions_list != []:\n",
    "                self.all_paths_for_a_symbol.append(paths[:])\n",
    "\n",
    "            self.all_reacheble_states.update(empty_transitions_list)\n",
    "\n",
    "            paths.pop()\n",
    "            paths.pop()\n",
    "\n",
    "    paths.pop()\n",
    "\n",
    "lista_reacheable_state = list(self.all_reacheble_states)    \n",
    "\n",
    "if \"z0_dead\" in lista_reacheable_state:\n",
    "    lista_reacheable_state.append(lista_reacheable_state.pop(lista_reacheable_state.index(\"z0_dead\")))\n",
    "\n",
    "return lista_reacheable_state\n",
    "```"
   ]
  },
  {
   "cell_type": "markdown",
   "metadata": {},
   "source": [
    "What first does, gets all the reacheable states, using the empty_symbol, and then go through another loop. Where in the definition of the loop gets all the reacheable states for each state consuming the symbol, and within the loop gets all the reacheable states of each state consuming an empty symbol"
   ]
  },
  {
   "cell_type": "markdown",
   "metadata": {},
   "source": [
    "## Function process word"
   ]
  },
  {
   "cell_type": "markdown",
   "metadata": {},
   "source": [
    "```\n",
    "word = str(word)\n",
    "         \n",
    "self.trampa = False\n",
    "\n",
    "self.valid_paths = []\n",
    "\n",
    "self.not_valid_paths = []\n",
    "\n",
    "paths = []\n",
    "\n",
    "self.process_word_recursive(word, self.q0 ,paths, showing_backtrack)\n",
    "\n",
    "return self.trampa\n",
    "```   "
   ]
  },
  {
   "cell_type": "markdown",
   "metadata": {},
   "source": [
    "This function is used to use the process_word_recursive which allow us to do the backtracking, so that this function is most to reset atributtes and return the atributte self.trampa which tell us if the word is valid or not."
   ]
  },
  {
   "cell_type": "markdown",
   "metadata": {},
   "source": [
    "## Function process_word_recursive"
   ]
  },
  {
   "cell_type": "markdown",
   "metadata": {},
   "source": [
    "```   \n",
    "try:\n",
    "    letter = word[0]\n",
    "\n",
    "except:\n",
    "    if state in list(self.f):\n",
    "        self.trampa = True\n",
    "        \n",
    "        self.actual_state = state\n",
    "        \n",
    "        self.valid_paths.append(paths[:])\n",
    "        return \n",
    "\n",
    "    #unvalid word\n",
    "    else:\n",
    "        \n",
    "        self.not_valid_actual_state = state\n",
    "        self.not_valid_paths.append(paths[:])\n",
    "        return\n",
    "\n",
    "\n",
    "paths.append((state,letter))\n",
    "\n",
    "\n",
    "for possible_path in self.process_symbol(state, letter, False):\n",
    "    paths.append(possible_path)\n",
    "\n",
    "    if possible_path == \"z0_dead\":\n",
    "        paths.pop()\n",
    "        paths.pop()\n",
    "        return\n",
    "\n",
    "    self.process_word_recursive(word[1:], possible_path, paths, showing_backtrack)\n",
    "    paths.pop()\n",
    "paths.pop()\n",
    "```       "
   ]
  },
  {
   "cell_type": "markdown",
   "metadata": {},
   "source": [
    "This function works to reach all the states while processing a word, first check is still are letter to process in the recursion, if there is no more words, then check is the current state belong to the set of final states, if does it then is a valid path , in the other way is unvalid.\n",
    "\n",
    "\n",
    "However, if it still more symbols to be process, it goes in the loop, where consuming that symbol it gets all the reacheable states,\n",
    "if the state is z0_dead, is a dead end, if not, it goes recursively but the word to be process is the rest of it"
   ]
  },
  {
   "cell_type": "markdown",
   "metadata": {},
   "source": [
    "## Implementation Example"
   ]
  },
  {
   "cell_type": "markdown",
   "metadata": {},
   "source": [
    "#### Creating an object of the class Automaton"
   ]
  },
  {
   "cell_type": "code",
   "execution_count": 2,
   "metadata": {},
   "outputs": [],
   "source": [
    "ndfa = NonDeterminsiticAutomaton(empty_symbol = \"lambda\")"
   ]
  },
  {
   "cell_type": "markdown",
   "metadata": {},
   "source": [
    "#### Using one of its public method to read an automata from a file"
   ]
  },
  {
   "cell_type": "code",
   "execution_count": 3,
   "metadata": {},
   "outputs": [],
   "source": [
    "ndfa.load_from_file(\"automaton_examples/automata.txt\")"
   ]
  },
  {
   "cell_type": "markdown",
   "metadata": {},
   "source": [
    "#### Accesing to its attributes"
   ]
  },
  {
   "cell_type": "markdown",
   "metadata": {},
   "source": [
    "$q$"
   ]
  },
  {
   "cell_type": "code",
   "execution_count": 4,
   "metadata": {},
   "outputs": [
    {
     "data": {
      "text/plain": [
       "['q0', 'q1', 'q2', 'q3']"
      ]
     },
     "execution_count": 4,
     "metadata": {},
     "output_type": "execute_result"
    }
   ],
   "source": [
    "ndfa.q"
   ]
  },
  {
   "cell_type": "markdown",
   "metadata": {},
   "source": [
    "$\\delta$"
   ]
  },
  {
   "cell_type": "code",
   "execution_count": 5,
   "metadata": {},
   "outputs": [
    {
     "data": {
      "text/plain": [
       "{('q0', '0'): ['q3', 'q1'],\n",
       " ('q0', '1'): ['z0_dead'],\n",
       " ('q1', '0'): ['q2'],\n",
       " ('q1', '1'): ['q1'],\n",
       " ('q2', '0'): ['q2'],\n",
       " ('q2', '1'): ['q1'],\n",
       " ('q3', '0'): ['q3'],\n",
       " ('q3', '1'): ['z0_dead'],\n",
       " ('z0_dead', '0'): ['z0_dead'],\n",
       " ('z0_dead', '1'): ['z0_dead'],\n",
       " ('q0', 'lambda'): ['q2'],\n",
       " ('q2', 'lambda'): ['q1']}"
      ]
     },
     "execution_count": 5,
     "metadata": {},
     "output_type": "execute_result"
    }
   ],
   "source": [
    "ndfa.delta"
   ]
  },
  {
   "cell_type": "markdown",
   "metadata": {},
   "source": [
    "$\\Sigma$"
   ]
  },
  {
   "cell_type": "code",
   "execution_count": 6,
   "metadata": {},
   "outputs": [
    {
     "data": {
      "text/plain": [
       "['0', '1']"
      ]
     },
     "execution_count": 6,
     "metadata": {},
     "output_type": "execute_result"
    }
   ],
   "source": [
    "ndfa.sigma"
   ]
  },
  {
   "cell_type": "markdown",
   "metadata": {},
   "source": [
    "$q_{0}$"
   ]
  },
  {
   "cell_type": "code",
   "execution_count": 7,
   "metadata": {},
   "outputs": [
    {
     "data": {
      "text/plain": [
       "'q0'"
      ]
     },
     "execution_count": 7,
     "metadata": {},
     "output_type": "execute_result"
    }
   ],
   "source": [
    "ndfa.q0"
   ]
  },
  {
   "cell_type": "markdown",
   "metadata": {},
   "source": [
    "$f$"
   ]
  },
  {
   "cell_type": "code",
   "execution_count": 8,
   "metadata": {},
   "outputs": [
    {
     "data": {
      "text/plain": [
       "['q2']"
      ]
     },
     "execution_count": 8,
     "metadata": {},
     "output_type": "execute_result"
    }
   ],
   "source": [
    "ndfa.f"
   ]
  },
  {
   "cell_type": "markdown",
   "metadata": {},
   "source": [
    "#### Example of getting all the empty transition from a state"
   ]
  },
  {
   "cell_type": "markdown",
   "metadata": {},
   "source": [
    "As you can see the backtracking prints all the reacheable states and the way that it travels"
   ]
  },
  {
   "cell_type": "code",
   "execution_count": 9,
   "metadata": {},
   "outputs": [
    {
     "name": "stdout",
     "output_type": "stream",
     "text": [
      "['q0']\n",
      "['q0', 'q2']\n",
      "['q0', 'q2', 'q1']\n"
     ]
    },
    {
     "data": {
      "text/plain": [
       "['q2', 'q1']"
      ]
     },
     "execution_count": 9,
     "metadata": {},
     "output_type": "execute_result"
    }
   ],
   "source": [
    "ndfa.empty_transitions(\"q0\")"
   ]
  },
  {
   "cell_type": "code",
   "execution_count": 10,
   "metadata": {},
   "outputs": [
    {
     "data": {
      "text/plain": [
       "['q2', 'q1']"
      ]
     },
     "execution_count": 10,
     "metadata": {},
     "output_type": "execute_result"
    }
   ],
   "source": [
    "ndfa.empty_transitions(\"q0\", False)"
   ]
  },
  {
   "cell_type": "markdown",
   "metadata": {},
   "source": [
    "#### Example of getting all the possible reacheable states consuming one symbol in a state"
   ]
  },
  {
   "cell_type": "markdown",
   "metadata": {},
   "source": [
    "The backtracking works, in this way the final state reach by that path is the last element of the list which is a list of those final recheable states, if it is empty means that using that path you cannot reach any state"
   ]
  },
  {
   "cell_type": "code",
   "execution_count": 11,
   "metadata": {},
   "outputs": [
    {
     "name": "stdout",
     "output_type": "stream",
     "text": [
      "-------------------------Case where reach a state only consuming the symbol-------------------------\n",
      "[('q0', '0'), ['q3', 'q1']]\n",
      "-------------------------Case where reach a state consuming the symbol and then lambda if possible-------------------------\n",
      "[('q0', '0'), ('q3', 'lambda'), []]\n",
      "[('q0', '0'), ('q1', 'lambda'), []]\n",
      "-------------------------Third and Fourth Case-------------------------\n",
      "[('q0', 'lambda'), ('q2', '0'), ['q2']]\n",
      "[('q0', 'lambda'), ('q2', '0'), ('q2', 'lambda'), ['q1']]\n",
      "[('q0', 'lambda'), ('q1', '0'), ['q2']]\n",
      "[('q0', 'lambda'), ('q1', '0'), ('q2', 'lambda'), ['q1']]\n"
     ]
    },
    {
     "data": {
      "text/plain": [
       "['q1', 'q3', 'q2']"
      ]
     },
     "execution_count": 11,
     "metadata": {},
     "output_type": "execute_result"
    }
   ],
   "source": [
    "ndfa.process_symbol(\"q0\",\"0\")"
   ]
  },
  {
   "cell_type": "code",
   "execution_count": 12,
   "metadata": {},
   "outputs": [
    {
     "data": {
      "text/plain": [
       "['q1', 'q3', 'q2']"
      ]
     },
     "execution_count": 12,
     "metadata": {},
     "output_type": "execute_result"
    }
   ],
   "source": [
    "ndfa.process_symbol(\"q0\",\"0\", False)"
   ]
  },
  {
   "cell_type": "markdown",
   "metadata": {},
   "source": [
    "#### Example of processing a word"
   ]
  },
  {
   "cell_type": "code",
   "execution_count": 13,
   "metadata": {},
   "outputs": [
    {
     "data": {
      "text/plain": [
       "True"
      ]
     },
     "execution_count": 13,
     "metadata": {},
     "output_type": "execute_result"
    }
   ],
   "source": [
    "ndfa.process_word(\"1010000\", False)"
   ]
  },
  {
   "cell_type": "markdown",
   "metadata": {},
   "source": [
    "##### Activating backtracking"
   ]
  },
  {
   "cell_type": "markdown",
   "metadata": {},
   "source": [
    "The backtraking works in the following manner, tuples are the transinction made and the value next to the tuple, is the reach state"
   ]
  },
  {
   "cell_type": "code",
   "execution_count": 14,
   "metadata": {},
   "outputs": [
    {
     "name": "stdout",
     "output_type": "stream",
     "text": [
      "[('q0', '1')]\n",
      "[('q0', '1'), 'q1']\n",
      "[('q0', '1'), 'q1', ('q1', '0')]\n",
      "[('q0', '1'), 'q1', ('q1', '0'), 'q2']\n",
      "[('q0', '1'), 'q1', ('q1', '0'), 'q2', ('q2', '1')]\n",
      "[('q0', '1'), 'q1', ('q1', '0'), 'q2', ('q2', '1'), 'q1']\n",
      "---------------------------Unvalid---------------------------\n",
      "\n",
      "\n",
      "[('q0', '1'), 'q1', ('q1', '0'), 'q1']\n",
      "[('q0', '1'), 'q1', ('q1', '0'), 'q1', ('q1', '1')]\n",
      "[('q0', '1'), 'q1', ('q1', '0'), 'q1', ('q1', '1'), 'q1']\n",
      "---------------------------Unvalid---------------------------\n",
      "\n",
      "\n",
      "[('q0', '1'), 'z0_dead']\n",
      "---------------------------Unvalid---------------------------\n",
      "\n",
      "\n"
     ]
    },
    {
     "data": {
      "text/plain": [
       "False"
      ]
     },
     "execution_count": 14,
     "metadata": {},
     "output_type": "execute_result"
    }
   ],
   "source": [
    "ndfa.process_word(\"101\", True)"
   ]
  },
  {
   "cell_type": "code",
   "execution_count": 15,
   "metadata": {},
   "outputs": [
    {
     "name": "stdout",
     "output_type": "stream",
     "text": [
      "[('q0', '1')]\n",
      "[('q0', '1'), 'q1']\n",
      "[('q0', '1'), 'q1', ('q1', '0')]\n",
      "[('q0', '1'), 'q1', ('q1', '0'), 'q2']\n",
      "[('q0', '1'), 'q1', ('q1', '0'), 'q2', ('q2', '0')]\n",
      "[('q0', '1'), 'q1', ('q1', '0'), 'q2', ('q2', '0'), 'q2']\n",
      "---------------------------valid-----------------------\n",
      "\n",
      "\n",
      "[('q0', '1'), 'q1', ('q1', '0'), 'q2', ('q2', '0'), 'q1']\n",
      "---------------------------Unvalid---------------------------\n",
      "\n",
      "\n",
      "[('q0', '1'), 'q1', ('q1', '0'), 'q1']\n",
      "[('q0', '1'), 'q1', ('q1', '0'), 'q1', ('q1', '0')]\n",
      "[('q0', '1'), 'q1', ('q1', '0'), 'q1', ('q1', '0'), 'q2']\n",
      "---------------------------valid-----------------------\n",
      "\n",
      "\n",
      "[('q0', '1'), 'q1', ('q1', '0'), 'q1', ('q1', '0'), 'q1']\n",
      "---------------------------Unvalid---------------------------\n",
      "\n",
      "\n",
      "[('q0', '1'), 'z0_dead']\n",
      "---------------------------Unvalid---------------------------\n",
      "\n",
      "\n"
     ]
    },
    {
     "data": {
      "text/plain": [
       "True"
      ]
     },
     "execution_count": 15,
     "metadata": {},
     "output_type": "execute_result"
    }
   ],
   "source": [
    "ndfa.process_word(\"100\", True)"
   ]
  },
  {
   "cell_type": "markdown",
   "metadata": {},
   "source": [
    "##### Accesing all posible paths"
   ]
  },
  {
   "cell_type": "code",
   "execution_count": 16,
   "metadata": {},
   "outputs": [
    {
     "data": {
      "text/plain": [
       "[[('q0', '1'), 'q1', ('q1', '0'), 'q2', ('q2', '0'), 'q2'],\n",
       " [('q0', '1'), 'q1', ('q1', '0'), 'q1', ('q1', '0'), 'q2']]"
      ]
     },
     "execution_count": 16,
     "metadata": {},
     "output_type": "execute_result"
    }
   ],
   "source": [
    "ndfa.valid_paths"
   ]
  },
  {
   "cell_type": "markdown",
   "metadata": {},
   "source": [
    "#### Printing Path"
   ]
  },
  {
   "cell_type": "markdown",
   "metadata": {},
   "source": [
    "What printing does, is each enumare line is what the path it takes consuming the symbol in the position enumarete of the word processed, so that each line represents the path of each symbol of the processed word"
   ]
  },
  {
   "cell_type": "markdown",
   "metadata": {},
   "source": [
    "The only thing that the print_valid_path does not do is all the lambda transiction to get a place, for example, in the chunk belowe ('q0','lambda') it may arrive first to 'q1' and then apply lambda to get 'q2', however, the transictions is summarise"
   ]
  },
  {
   "cell_type": "code",
   "execution_count": 17,
   "metadata": {},
   "outputs": [
    {
     "name": "stdout",
     "output_type": "stream",
     "text": [
      "1.- ('q0', 'lambda')  ======> q2---- ('q2', '1')  ======> q1---- \n",
      "2.- ('q1', '0')  ======> q2---- \n",
      "3.- ('q2', '0')  ======> q2---- \n"
     ]
    }
   ],
   "source": [
    "ndfa.print_valid_path()"
   ]
  },
  {
   "cell_type": "markdown",
   "metadata": {},
   "source": [
    "#### Function str"
   ]
  },
  {
   "cell_type": "code",
   "execution_count": 18,
   "metadata": {},
   "outputs": [
    {
     "data": {
      "text/plain": [
       "\"Grammar: \\n q: ['q0', 'q1', 'q2', 'q3'] \\n sigma: ['0', '1'], delta: {('q0', '0'): ['q3', 'q1'], ('q0', '1'): ['z0_dead'], ('q1', '0'): ['q2'], ('q1', '1'): ['q1'], ('q2', '0'): ['q2'], ('q2', '1'): ['q1'], ('q3', '0'): ['q3'], ('q3', '1'): ['z0_dead'], ('z0_dead', '0'): ['z0_dead'], ('z0_dead', '1'): ['z0_dead'], ('q0', 'lambda'): ['q2'], ('q2', 'lambda'): ['q1']}, q0: q0, f: ['q2'], current_sate: q2, empty_symbol: lambda\""
      ]
     },
     "execution_count": 18,
     "metadata": {},
     "output_type": "execute_result"
    }
   ],
   "source": [
    "str(ndfa)"
   ]
  },
  {
   "cell_type": "markdown",
   "metadata": {},
   "source": [
    "## Implementation 2"
   ]
  },
  {
   "cell_type": "markdown",
   "metadata": {},
   "source": [
    "### Note: this example, it is the most useful to break the code because almost all people do not think in the case of the reacheable states, consuming first the empty symbol, following by the symbol and then again an empty symbol, if it does not process the word \"01\" they did not think about this case"
   ]
  },
  {
   "cell_type": "code",
   "execution_count": 19,
   "metadata": {},
   "outputs": [],
   "source": [
    "ndfa2 = NonDeterminsiticAutomaton(empty_symbol = \"lambda\")\n",
    "ndfa2.load_from_file(\"automaton_examples/automata4.txt\")"
   ]
  },
  {
   "cell_type": "code",
   "execution_count": 20,
   "metadata": {},
   "outputs": [
    {
     "name": "stdout",
     "output_type": "stream",
     "text": [
      "-------------------------Case where reach a state only consuming the symbol-------------------------\n",
      "[('q0', '1'), ['z0_dead']]\n",
      "-------------------------Case where reach a state consuming the symbol and then lambda if possible-------------------------\n",
      "-------------------------Third and Fourth Case-------------------------\n",
      "[('q0', 'lambda'), ('q1', '1'), ['q2']]\n",
      "[('q0', 'lambda'), ('q1', '1'), ('q2', 'lambda'), ['q3']]\n"
     ]
    },
    {
     "data": {
      "text/plain": [
       "['q2', 'q3', 'z0_dead']"
      ]
     },
     "execution_count": 20,
     "metadata": {},
     "output_type": "execute_result"
    }
   ],
   "source": [
    "ndfa2.process_symbol(\"q0\",\"1\")"
   ]
  },
  {
   "cell_type": "code",
   "execution_count": 21,
   "metadata": {},
   "outputs": [
    {
     "name": "stdout",
     "output_type": "stream",
     "text": [
      "[('q0', '0')]\n",
      "[('q0', '0'), 'q1']\n",
      "[('q0', '0'), 'q1', ('q1', '1')]\n",
      "[('q0', '0'), 'q1', ('q1', '1'), 'q2']\n",
      "---------------------------Unvalid---------------------------\n",
      "\n",
      "\n",
      "[('q0', '0'), 'q1', ('q1', '1'), 'q3']\n",
      "---------------------------valid-----------------------\n",
      "\n",
      "\n",
      "[('q0', '0'), 'q0']\n",
      "[('q0', '0'), 'q0', ('q0', '1')]\n",
      "[('q0', '0'), 'q0', ('q0', '1'), 'q2']\n",
      "---------------------------Unvalid---------------------------\n",
      "\n",
      "\n",
      "[('q0', '0'), 'q0', ('q0', '1'), 'q3']\n",
      "---------------------------valid-----------------------\n",
      "\n",
      "\n",
      "[('q0', '0'), 'q0', ('q0', '1'), 'z0_dead']\n",
      "---------------------------Unvalid---------------------------\n",
      "\n",
      "\n",
      "[('q0', '0'), 'z0_dead']\n",
      "---------------------------Unvalid---------------------------\n",
      "\n",
      "\n"
     ]
    },
    {
     "data": {
      "text/plain": [
       "True"
      ]
     },
     "execution_count": 21,
     "metadata": {},
     "output_type": "execute_result"
    }
   ],
   "source": [
    "ndfa2.process_word(\"01\")"
   ]
  },
  {
   "cell_type": "code",
   "execution_count": 22,
   "metadata": {},
   "outputs": [
    {
     "name": "stdout",
     "output_type": "stream",
     "text": [
      "1.- ('q0', '0')  ======> q0---- ('q0', 'lambda')  ======> q1---- \n",
      "2.- ('q1', '1')  ======> q2---- ('q2', 'lambda')  ======> q3---- \n"
     ]
    }
   ],
   "source": [
    "ndfa2.print_valid_path()"
   ]
  },
  {
   "cell_type": "markdown",
   "metadata": {},
   "source": [
    "## Implementation 3"
   ]
  },
  {
   "cell_type": "code",
   "execution_count": 29,
   "metadata": {},
   "outputs": [],
   "source": [
    "ndfa3 = NonDeterminsiticAutomaton(empty_symbol = \"lambda\")\n",
    "ndfa3.load_from_file(\"automaton_examples/automata3.txt\")"
   ]
  },
  {
   "cell_type": "code",
   "execution_count": 30,
   "metadata": {},
   "outputs": [
    {
     "name": "stdout",
     "output_type": "stream",
     "text": [
      "-------------------------Case where reach a state only consuming the symbol-------------------------\n",
      "[('q0', '1'), ['z0_dead']]\n",
      "-------------------------Case where reach a state consuming the symbol and then lambda if possible-------------------------\n",
      "-------------------------Third and Fourth Case-------------------------\n",
      "[('q0', 'lambda'), ('q3', '1'), ['z0_dead']]\n",
      "[('q0', 'lambda'), ('q2', '1'), ['q1']]\n",
      "[('q0', 'lambda'), ('q2', '1'), ('q1', 'lambda'), ['q4', 'q2', 'q3', 'q0']]\n",
      "[('q0', 'lambda'), ('q1', '1'), ['q1']]\n",
      "[('q0', 'lambda'), ('q1', '1'), ('q1', 'lambda'), ['q4', 'q2', 'q3', 'q0']]\n",
      "[('q0', 'lambda'), ('q4', '1'), ['z0_dead']]\n"
     ]
    },
    {
     "data": {
      "text/plain": [
       "['q2', 'q3', 'q4', 'q1', 'q0', 'z0_dead']"
      ]
     },
     "execution_count": 30,
     "metadata": {},
     "output_type": "execute_result"
    }
   ],
   "source": [
    "ndfa3.process_symbol(\"q0\",\"1\")"
   ]
  },
  {
   "cell_type": "code",
   "execution_count": 31,
   "metadata": {},
   "outputs": [
    {
     "name": "stdout",
     "output_type": "stream",
     "text": [
      "[('q0', '1')]\n",
      "[('q0', '1'), 'q2']\n",
      "[('q0', '1'), 'q2', ('q2', '1')]\n",
      "[('q0', '1'), 'q2', ('q2', '1'), 'q2']\n",
      "---------------------------valid-----------------------\n",
      "\n",
      "\n",
      "[('q0', '1'), 'q2', ('q2', '1'), 'q3']\n",
      "---------------------------Unvalid---------------------------\n",
      "\n",
      "\n",
      "[('q0', '1'), 'q2', ('q2', '1'), 'q4']\n",
      "---------------------------Unvalid---------------------------\n",
      "\n",
      "\n",
      "[('q0', '1'), 'q2', ('q2', '1'), 'q1']\n",
      "---------------------------Unvalid---------------------------\n",
      "\n",
      "\n",
      "[('q0', '1'), 'q2', ('q2', '1'), 'q0']\n",
      "---------------------------Unvalid---------------------------\n",
      "\n",
      "\n",
      "[('q0', '1'), 'q2', ('q2', '1'), 'z0_dead']\n",
      "---------------------------Unvalid---------------------------\n",
      "\n",
      "\n",
      "[('q0', '1'), 'q3']\n",
      "[('q0', '1'), 'q3', ('q3', '1')]\n",
      "[('q0', '1'), 'q3', ('q3', '1'), 'q2']\n",
      "---------------------------valid-----------------------\n",
      "\n",
      "\n",
      "[('q0', '1'), 'q3', ('q3', '1'), 'q3']\n",
      "---------------------------Unvalid---------------------------\n",
      "\n",
      "\n",
      "[('q0', '1'), 'q3', ('q3', '1'), 'q4']\n",
      "---------------------------Unvalid---------------------------\n",
      "\n",
      "\n",
      "[('q0', '1'), 'q3', ('q3', '1'), 'q1']\n",
      "---------------------------Unvalid---------------------------\n",
      "\n",
      "\n",
      "[('q0', '1'), 'q3', ('q3', '1'), 'q0']\n",
      "---------------------------Unvalid---------------------------\n",
      "\n",
      "\n",
      "[('q0', '1'), 'q3', ('q3', '1'), 'z0_dead']\n",
      "---------------------------Unvalid---------------------------\n",
      "\n",
      "\n",
      "[('q0', '1'), 'q4']\n",
      "[('q0', '1'), 'q4', ('q4', '1')]\n",
      "[('q0', '1'), 'q4', ('q4', '1'), 'z0_dead']\n",
      "---------------------------Unvalid---------------------------\n",
      "\n",
      "\n",
      "[('q0', '1'), 'q1']\n",
      "[('q0', '1'), 'q1', ('q1', '1')]\n",
      "[('q0', '1'), 'q1', ('q1', '1'), 'q2']\n",
      "---------------------------valid-----------------------\n",
      "\n",
      "\n",
      "[('q0', '1'), 'q1', ('q1', '1'), 'q3']\n",
      "---------------------------Unvalid---------------------------\n",
      "\n",
      "\n",
      "[('q0', '1'), 'q1', ('q1', '1'), 'q4']\n",
      "---------------------------Unvalid---------------------------\n",
      "\n",
      "\n",
      "[('q0', '1'), 'q1', ('q1', '1'), 'q1']\n",
      "---------------------------Unvalid---------------------------\n",
      "\n",
      "\n",
      "[('q0', '1'), 'q1', ('q1', '1'), 'q0']\n",
      "---------------------------Unvalid---------------------------\n",
      "\n",
      "\n",
      "[('q0', '1'), 'q1', ('q1', '1'), 'z0_dead']\n",
      "---------------------------Unvalid---------------------------\n",
      "\n",
      "\n",
      "[('q0', '1'), 'q0']\n",
      "[('q0', '1'), 'q0', ('q0', '1')]\n",
      "[('q0', '1'), 'q0', ('q0', '1'), 'q2']\n",
      "---------------------------valid-----------------------\n",
      "\n",
      "\n",
      "[('q0', '1'), 'q0', ('q0', '1'), 'q3']\n",
      "---------------------------Unvalid---------------------------\n",
      "\n",
      "\n",
      "[('q0', '1'), 'q0', ('q0', '1'), 'q4']\n",
      "---------------------------Unvalid---------------------------\n",
      "\n",
      "\n",
      "[('q0', '1'), 'q0', ('q0', '1'), 'q1']\n",
      "---------------------------Unvalid---------------------------\n",
      "\n",
      "\n",
      "[('q0', '1'), 'q0', ('q0', '1'), 'q0']\n",
      "---------------------------Unvalid---------------------------\n",
      "\n",
      "\n",
      "[('q0', '1'), 'q0', ('q0', '1'), 'z0_dead']\n",
      "---------------------------Unvalid---------------------------\n",
      "\n",
      "\n",
      "[('q0', '1'), 'z0_dead']\n",
      "---------------------------Unvalid---------------------------\n",
      "\n",
      "\n"
     ]
    },
    {
     "data": {
      "text/plain": [
       "True"
      ]
     },
     "execution_count": 31,
     "metadata": {},
     "output_type": "execute_result"
    }
   ],
   "source": [
    "ndfa3.process_word(\"11\")"
   ]
  },
  {
   "cell_type": "code",
   "execution_count": 32,
   "metadata": {},
   "outputs": [
    {
     "data": {
      "text/plain": [
       "{('q0', '0'): ['q3', 'q1'],\n",
       " ('q0', '1'): ['z0_dead'],\n",
       " ('q1', '0'): ['q2'],\n",
       " ('q1', '1'): ['q1'],\n",
       " ('q2', '0'): ['q2'],\n",
       " ('q2', '1'): ['q1'],\n",
       " ('q3', '0'): ['q3'],\n",
       " ('q3', '1'): ['z0_dead'],\n",
       " ('q4', '0'): ['z0_dead'],\n",
       " ('q4', '1'): ['z0_dead'],\n",
       " ('z0_dead', '0'): ['z0_dead'],\n",
       " ('z0_dead', '1'): ['z0_dead'],\n",
       " ('q0', 'lambda'): ['q2', 'q1'],\n",
       " ('q2', 'lambda'): ['q1'],\n",
       " ('q1', 'lambda'): ['q3'],\n",
       " ('q3', 'lambda'): ['q0', 'q4']}"
      ]
     },
     "execution_count": 32,
     "metadata": {},
     "output_type": "execute_result"
    }
   ],
   "source": [
    "ndfa3.delta"
   ]
  },
  {
   "cell_type": "code",
   "execution_count": 33,
   "metadata": {},
   "outputs": [
    {
     "data": {
      "text/plain": [
       "[[('q0', '1'), 'q2', ('q2', '1'), 'q2'],\n",
       " [('q0', '1'), 'q3', ('q3', '1'), 'q2'],\n",
       " [('q0', '1'), 'q1', ('q1', '1'), 'q2'],\n",
       " [('q0', '1'), 'q0', ('q0', '1'), 'q2']]"
      ]
     },
     "execution_count": 33,
     "metadata": {},
     "output_type": "execute_result"
    }
   ],
   "source": [
    "ndfa3.valid_paths"
   ]
  },
  {
   "cell_type": "code",
   "execution_count": 38,
   "metadata": {},
   "outputs": [
    {
     "name": "stdout",
     "output_type": "stream",
     "text": [
      "1.- ('q0', 'lambda')  ======> q2---- ('q2', '1')  ======> q1---- \n",
      "2.- ('q1', '1')  ======> q1---- ('q1', 'lambda')  ======> q3---- ('q3', 'lambda')  ======> q0---- ('q0', 'lambda')  ======> q2---- \n"
     ]
    }
   ],
   "source": [
    "ndfa3.print_valid_path(ndfa3.valid_paths[2])"
   ]
  },
  {
   "cell_type": "markdown",
   "metadata": {},
   "source": [
    "# Implementation 4"
   ]
  },
  {
   "cell_type": "code",
   "execution_count": null,
   "metadata": {},
   "outputs": [],
   "source": [
    "ndfa4 = NonDeterminsiticAutomaton(empty_symbol = \"lambda\")\n",
    "ndfa4.load_from_file(\"automaton_examples/automata2.txt\")"
   ]
  },
  {
   "cell_type": "markdown",
   "metadata": {},
   "source": [
    "The reason why it does not work is because the txt it has a transiction to final but the state is called Final, due to that capital letter gives an error"
   ]
  },
  {
   "cell_type": "markdown",
   "metadata": {},
   "source": [
    "# Implementation 5"
   ]
  },
  {
   "cell_type": "code",
   "execution_count": null,
   "metadata": {},
   "outputs": [],
   "source": [
    "ndfa5 = NonDeterminsiticAutomaton(empty_symbol = \"epsilon\")\n",
    "ndfa5.load_from_file(\"automaton_examples/automata5.txt\")"
   ]
  },
  {
   "cell_type": "code",
   "execution_count": null,
   "metadata": {},
   "outputs": [],
   "source": [
    "ndfa5.delta"
   ]
  },
  {
   "cell_type": "code",
   "execution_count": null,
   "metadata": {},
   "outputs": [],
   "source": [
    "ndfa5.process_symbol(\"A\",\"a\")"
   ]
  },
  {
   "cell_type": "code",
   "execution_count": null,
   "metadata": {},
   "outputs": [],
   "source": [
    "ndfa5.process_word(\"abababa\")"
   ]
  },
  {
   "cell_type": "markdown",
   "metadata": {},
   "source": [
    "This does not a valid path because the final states are unreacheable"
   ]
  },
  {
   "cell_type": "code",
   "execution_count": null,
   "metadata": {},
   "outputs": [],
   "source": [
    "ndfa5.print_valid_path()"
   ]
  },
  {
   "cell_type": "markdown",
   "metadata": {},
   "source": [
    "# Implementation 6"
   ]
  },
  {
   "cell_type": "code",
   "execution_count": null,
   "metadata": {},
   "outputs": [],
   "source": [
    "ndfa6 = NonDeterminsiticAutomaton(empty_symbol = \"lambda\")\n",
    "ndfa6.load_from_file(\"automaton_examples/automata6.txt\")"
   ]
  },
  {
   "cell_type": "code",
   "execution_count": null,
   "metadata": {},
   "outputs": [],
   "source": [
    "ndfa6.process_symbol(\"q0\",\"1\")"
   ]
  },
  {
   "cell_type": "code",
   "execution_count": null,
   "metadata": {},
   "outputs": [],
   "source": [
    "ndfa6.process_word(\"00\")"
   ]
  },
  {
   "cell_type": "code",
   "execution_count": null,
   "metadata": {},
   "outputs": [],
   "source": [
    "ndfa6.print_valid_path()"
   ]
  },
  {
   "cell_type": "markdown",
   "metadata": {},
   "source": [
    "# Implementation 7"
   ]
  },
  {
   "cell_type": "code",
   "execution_count": null,
   "metadata": {},
   "outputs": [],
   "source": [
    "ndfa7 = NonDeterminsiticAutomaton(empty_symbol = \"epsilon\")\n",
    "ndfa7.load_from_file(\"automaton_examples/automata7.txt\")"
   ]
  },
  {
   "cell_type": "code",
   "execution_count": null,
   "metadata": {},
   "outputs": [],
   "source": [
    "ndfa7.process_symbol(\"q0\",\"a\")"
   ]
  },
  {
   "cell_type": "code",
   "execution_count": null,
   "metadata": {},
   "outputs": [],
   "source": [
    "ndfa7.process_word(\"ababaa\")"
   ]
  },
  {
   "cell_type": "code",
   "execution_count": null,
   "metadata": {},
   "outputs": [],
   "source": [
    "ndfa7.process_symbol(\"q1\",'a')"
   ]
  },
  {
   "cell_type": "code",
   "execution_count": null,
   "metadata": {},
   "outputs": [],
   "source": [
    "ndfa7.print_valid_path()"
   ]
  },
  {
   "cell_type": "markdown",
   "metadata": {},
   "source": [
    "# Implementation 8"
   ]
  },
  {
   "cell_type": "code",
   "execution_count": null,
   "metadata": {},
   "outputs": [],
   "source": [
    "ndfa8 = NonDeterminsiticAutomaton(empty_symbol = \"epsilon\")\n",
    "ndfa8.load_from_file(\"automaton_examples/automata8.txt\")"
   ]
  },
  {
   "cell_type": "code",
   "execution_count": null,
   "metadata": {},
   "outputs": [],
   "source": [
    "ndfa8.process_word(\"01\")"
   ]
  },
  {
   "cell_type": "code",
   "execution_count": null,
   "metadata": {},
   "outputs": [],
   "source": [
    "ndfa8.process_symbol(\"q1\",\"1\")"
   ]
  },
  {
   "cell_type": "code",
   "execution_count": null,
   "metadata": {},
   "outputs": [],
   "source": [
    "ndfa8.process_word(\"101\")"
   ]
  },
  {
   "cell_type": "code",
   "execution_count": null,
   "metadata": {},
   "outputs": [],
   "source": [
    "ndfa8.print_valid_path()"
   ]
  },
  {
   "cell_type": "markdown",
   "metadata": {},
   "source": [
    "## Implementation 9"
   ]
  },
  {
   "cell_type": "code",
   "execution_count": null,
   "metadata": {},
   "outputs": [],
   "source": [
    "ndfa9 = NonDeterminsiticAutomaton(empty_symbol = \"lambda\")\n",
    "ndfa9.load_from_file(\"automaton_examples/automata9.txt\")\n",
    "ndfa9.process_word(\"01\", False)"
   ]
  },
  {
   "cell_type": "code",
   "execution_count": null,
   "metadata": {},
   "outputs": [],
   "source": [
    "ndfa9.print_valid_path()"
   ]
  },
  {
   "cell_type": "markdown",
   "metadata": {},
   "source": [
    "### Preventing Errors"
   ]
  },
  {
   "cell_type": "code",
   "execution_count": null,
   "metadata": {},
   "outputs": [],
   "source": [
    "ndfa.empty_transitions(\"A\")"
   ]
  },
  {
   "cell_type": "code",
   "execution_count": null,
   "metadata": {},
   "outputs": [],
   "source": [
    "ndfa.process_symbol(\"q0\",\"A\")"
   ]
  },
  {
   "cell_type": "code",
   "execution_count": null,
   "metadata": {},
   "outputs": [],
   "source": [
    "ndfa.process_symbol(\"A\",\"1\")"
   ]
  },
  {
   "cell_type": "code",
   "execution_count": null,
   "metadata": {},
   "outputs": [],
   "source": [
    "ndfa.process_word(\"12A\")"
   ]
  },
  {
   "cell_type": "code",
   "execution_count": null,
   "metadata": {},
   "outputs": [],
   "source": []
  }
 ],
 "metadata": {
  "kernelspec": {
   "display_name": "Python 3",
   "language": "python",
   "name": "python3"
  },
  "language_info": {
   "codemirror_mode": {
    "name": "ipython",
    "version": 3
   },
   "file_extension": ".py",
   "mimetype": "text/x-python",
   "name": "python",
   "nbconvert_exporter": "python",
   "pygments_lexer": "ipython3",
   "version": "3.8.6"
  }
 },
 "nbformat": 4,
 "nbformat_minor": 4
}
