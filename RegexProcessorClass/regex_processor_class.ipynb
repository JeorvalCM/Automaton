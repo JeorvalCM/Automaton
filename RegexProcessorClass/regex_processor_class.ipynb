{
 "cells": [
  {
   "cell_type": "markdown",
   "metadata": {},
   "source": [
    "# Regex processor class"
   ]
  },
  {
   "cell_type": "markdown",
   "metadata": {},
   "source": [
    "### References for normalization\n",
    "* https://towardsdatascience.com/text-normalization-7ecc8e084e31"
   ]
  },
  {
   "cell_type": "code",
   "execution_count": 1,
   "metadata": {},
   "outputs": [],
   "source": [
    "import re \n",
    "import pandas as pd\n",
    "from nltk.corpus import words\n",
    "from fuzzywuzzy import fuzz\n",
    "from word_forms.lemmatizer import lemmatize"
   ]
  },
  {
   "cell_type": "code",
   "execution_count": 2,
   "metadata": {},
   "outputs": [],
   "source": [
    "class RegularExpressionProcessor:\n",
    "    \"\"\"\n",
    "    Class to procces a regular expression and perform find, replace and delete operations given a tuple containing that information\n",
    "    \n",
    "    \"\"\"\n",
    "    \n",
    "    \n",
    "    def __init__(self, expressions):\n",
    "        \"\"\"\n",
    "        Class initializer\n",
    "        \n",
    "        input:\n",
    "        expressions: list of tuples containing the information for the operations, the first variable of the tuple is a regular expression\n",
    "                     the second is one of the defined operations and in case the operation is replace it has to have a third variable that \n",
    "                     is the value to replace\n",
    "                     \n",
    "        attributes: \n",
    "        self.expressions: list of tuples containing the information of the input expressions\n",
    "        \"\"\"\n",
    "        \n",
    "        self.__valid_expression(expressions)\n",
    "            \n",
    "        self.expressions = expressions\n",
    "        \n",
    "        self.string_expressions = dict()\n",
    "        \n",
    "        \n",
    "    def __valid_expression(self, expressions):\n",
    "        \"\"\"\n",
    "        Private Method to check whether the list of tuples for the expressions is valid or not\n",
    "        \n",
    "        input: \n",
    "        expressions: list of tuples containing the information for the operations, the first variable of the tuple is a regular expression\n",
    "                     the second is one of the defined operations and in case the operation is replace it has to have a third variable that \n",
    "                     is the value to replace\n",
    "                \n",
    "        output:\n",
    "        return nothing if the list is valid, however, if is unvalid it gives the warning of where the error is.\n",
    "        \"\"\"\n",
    "        for expression in expressions:\n",
    "            if len(expression) < 2:\n",
    "                raise Exception(\"Each tuple has to have at least two values\")\n",
    "                \n",
    "            if expression[1] != \"replace\" and expression[1] != \"find\" and expression[1] != \"delete\" and expression[1] != \"lower\":\n",
    "                raise Exception(\"The operation in the tuple is not defined\")\n",
    "                \n",
    "            if expression[1] == \"replace\" and len(expression) < 3:\n",
    "                raise Exception(\"The operation replace needs the value to replace\")\n",
    "                \n",
    "            if type(expression[0]) != str:\n",
    "                raise Exception(\"The first value of the tuple is not a string\")\n",
    "         \n",
    "    def replace(self, regular_expression, string, value):\n",
    "        \"\"\"\n",
    "        Method to process the replace function using a regular_expression\n",
    "        \n",
    "        input:\n",
    "        regular_expressions: regular expression to mach the desired strings\n",
    "        string: string of all the words where replace is going to be applied\n",
    "        value: value in which the matched strings are going to be replaced for\n",
    "        \n",
    "        output:\n",
    "        returns the new_tring with the function applied\n",
    "        \"\"\"\n",
    "        \n",
    "        new_string = re.sub(regular_expression,value,string)\n",
    "        return new_string\n",
    "    \n",
    "    def find(self, regular_expression, string):\n",
    "        \"\"\"\n",
    "        Method to process the find function using a regular_expression\n",
    "        \n",
    "        input:\n",
    "        regular_expressions: regular expression to mach the desired strings\n",
    "        string: string of all the words where find is going to be applied\n",
    "        \n",
    "        output:\n",
    "        returns the string matching the regular expression\n",
    "        \"\"\"\n",
    "        \n",
    "        all_matches = []\n",
    "        \n",
    "        for match in re.finditer(regular_expression, string):\n",
    "            all_matches.append(match.group())\n",
    "            \n",
    "        return all_matches     \n",
    "      \n",
    "    def delete(self, regular_expression, string):\n",
    "        \"\"\"\n",
    "        Method to process the delete function using a regular_expression\n",
    "        \n",
    "        input:\n",
    "        regular_expressions: regular expression to mach the desired strings\n",
    "        string: string of all the words where delete is going to be applied\n",
    "        \n",
    "        output:\n",
    "        returns the new_tring with the function applied\n",
    "        \"\"\"\n",
    "        new_string = re.sub(regular_expression,'', string)\n",
    "        return new_string\n",
    "    \n",
    "    def process(self, data):\n",
    "        \"\"\"\n",
    "        Method to proccess an iterable set of strings applying to each string the function defined in the attribute self.expressions\n",
    "        \n",
    "        Input:\n",
    "        data: iterable set of strings\n",
    "        \n",
    "        output:\n",
    "        return the iterable set of string with the function already applied\n",
    "        \"\"\"\n",
    "        \n",
    "        self.string_expressions = dict()\n",
    "        \n",
    "        new_data = list()\n",
    "        \n",
    "        for each_string in data:\n",
    "            self.string_expressions[each_string] = []\n",
    "            \n",
    "            aux = each_string\n",
    "            \n",
    "            for expression in self.expressions:\n",
    "                if expression[1] == \"lower\":\n",
    "                    aux = aux.lower()\n",
    "                    \n",
    "                elif expression[1] == \"replace\":\n",
    "                    aux = self.replace(expression[0], aux, expression[2])\n",
    "                    \n",
    "                elif expression[1] == \"find\":\n",
    "                    aux = self.find(expression[0], aux)\n",
    "                    aux = ''.join(aux)\n",
    "                    \n",
    "                elif expression[1] == \"delete\":\n",
    "                    aux = self.delete(expression[0], aux)\n",
    "                        \n",
    "                \n",
    "                else:\n",
    "                    raise Error[\"The valid function did not work correctly, you have a function not define\"]\n",
    "                    \n",
    "                \n",
    "            new_data.append(aux)\n",
    "            \n",
    "        return new_data"
   ]
  },
  {
   "cell_type": "markdown",
   "metadata": {},
   "source": [
    "# Checking the class using the practice regex seen in class"
   ]
  },
  {
   "cell_type": "code",
   "execution_count": 3,
   "metadata": {},
   "outputs": [],
   "source": [
    "list_tuples = [(\"\\+[0-9]{12}\", \"replace\", \"a phone number\"), (\"((\\w)*\\.?)+@((\\w)*\\.?)+\\.(mx|com)\", \"replace\", \"an email\"), (\"C.V.\", \"delete\")]"
   ]
  },
  {
   "cell_type": "code",
   "execution_count": 4,
   "metadata": {},
   "outputs": [],
   "source": [
    "proccesor = RegularExpressionProcessor(list_tuples)"
   ]
  },
  {
   "cell_type": "code",
   "execution_count": 5,
   "metadata": {},
   "outputs": [
    {
     "data": {
      "text/plain": [
       "[('\\\\+[0-9]{12}', 'replace', 'a phone number'),\n",
       " ('((\\\\w)*\\\\.?)+@((\\\\w)*\\\\.?)+\\\\.(mx|com)', 'replace', 'an email'),\n",
       " ('C.V.', 'delete')]"
      ]
     },
     "execution_count": 5,
     "metadata": {},
     "output_type": "execute_result"
    }
   ],
   "source": [
    "proccesor.expressions"
   ]
  },
  {
   "cell_type": "code",
   "execution_count": 6,
   "metadata": {},
   "outputs": [],
   "source": [
    "pruebas = set([\"Soy mario mi numero es +529994263828 y mi email es mario.campos@upy.edu.mx y mario.campos.soberanis@gmail.com y trabajo en soldai sapi de C.V.\"])"
   ]
  },
  {
   "cell_type": "code",
   "execution_count": 7,
   "metadata": {},
   "outputs": [
    {
     "data": {
      "text/plain": [
       "{'Soy mario mi numero es +529994263828 y mi email es mario.campos@upy.edu.mx y mario.campos.soberanis@gmail.com y trabajo en soldai sapi de C.V.'}"
      ]
     },
     "execution_count": 7,
     "metadata": {},
     "output_type": "execute_result"
    }
   ],
   "source": [
    "pruebas"
   ]
  },
  {
   "cell_type": "code",
   "execution_count": 8,
   "metadata": {},
   "outputs": [
    {
     "data": {
      "text/plain": [
       "['Soy mario mi numero es a phone number y mi email es an email y an email y trabajo en soldai sapi de ']"
      ]
     },
     "execution_count": 8,
     "metadata": {},
     "output_type": "execute_result"
    }
   ],
   "source": [
    "proccesor.process(pruebas)"
   ]
  },
  {
   "cell_type": "markdown",
   "metadata": {},
   "source": [
    "# Test in DataSet"
   ]
  },
  {
   "cell_type": "code",
   "execution_count": 9,
   "metadata": {},
   "outputs": [],
   "source": [
    "data = pd.read_csv(\"data/train_automata.csv\")\n",
    "data = data[[\"comment_text\"]]"
   ]
  },
  {
   "cell_type": "code",
   "execution_count": 10,
   "metadata": {},
   "outputs": [
    {
     "data": {
      "text/html": [
       "<div>\n",
       "<style scoped>\n",
       "    .dataframe tbody tr th:only-of-type {\n",
       "        vertical-align: middle;\n",
       "    }\n",
       "\n",
       "    .dataframe tbody tr th {\n",
       "        vertical-align: top;\n",
       "    }\n",
       "\n",
       "    .dataframe thead th {\n",
       "        text-align: right;\n",
       "    }\n",
       "</style>\n",
       "<table border=\"1\" class=\"dataframe\">\n",
       "  <thead>\n",
       "    <tr style=\"text-align: right;\">\n",
       "      <th></th>\n",
       "      <th>comment_text</th>\n",
       "    </tr>\n",
       "  </thead>\n",
       "  <tbody>\n",
       "    <tr>\n",
       "      <th>0</th>\n",
       "      <td>Explanation\\nWhy the edits made under my usern...</td>\n",
       "    </tr>\n",
       "    <tr>\n",
       "      <th>1</th>\n",
       "      <td>D'aww! He matches this background colour I'm s...</td>\n",
       "    </tr>\n",
       "    <tr>\n",
       "      <th>2</th>\n",
       "      <td>Hey man, I'm really not trying to edit war. It...</td>\n",
       "    </tr>\n",
       "    <tr>\n",
       "      <th>3</th>\n",
       "      <td>\"\\nMore\\nI can't make any real suggestions on ...</td>\n",
       "    </tr>\n",
       "    <tr>\n",
       "      <th>4</th>\n",
       "      <td>You, sir, are my hero. Any chance you remember...</td>\n",
       "    </tr>\n",
       "    <tr>\n",
       "      <th>...</th>\n",
       "      <td>...</td>\n",
       "    </tr>\n",
       "    <tr>\n",
       "      <th>29995</th>\n",
       "      <td>Thermal and chemical aren't half bad, to be ho...</td>\n",
       "    </tr>\n",
       "    <tr>\n",
       "      <th>29996</th>\n",
       "      <td>This person has vanadalized a page about Joe L...</td>\n",
       "    </tr>\n",
       "    <tr>\n",
       "      <th>29997</th>\n",
       "      <td>\"::::You've deemed those of us who disagree wi...</td>\n",
       "    </tr>\n",
       "    <tr>\n",
       "      <th>29998</th>\n",
       "      <td>I am making case for its inclusion.  Some of t...</td>\n",
       "    </tr>\n",
       "    <tr>\n",
       "      <th>29999</th>\n",
       "      <td>\" (And can we have a civil conversation about ...</td>\n",
       "    </tr>\n",
       "  </tbody>\n",
       "</table>\n",
       "<p>30000 rows × 1 columns</p>\n",
       "</div>"
      ],
      "text/plain": [
       "                                            comment_text\n",
       "0      Explanation\\nWhy the edits made under my usern...\n",
       "1      D'aww! He matches this background colour I'm s...\n",
       "2      Hey man, I'm really not trying to edit war. It...\n",
       "3      \"\\nMore\\nI can't make any real suggestions on ...\n",
       "4      You, sir, are my hero. Any chance you remember...\n",
       "...                                                  ...\n",
       "29995  Thermal and chemical aren't half bad, to be ho...\n",
       "29996  This person has vanadalized a page about Joe L...\n",
       "29997  \"::::You've deemed those of us who disagree wi...\n",
       "29998  I am making case for its inclusion.  Some of t...\n",
       "29999  \" (And can we have a civil conversation about ...\n",
       "\n",
       "[30000 rows x 1 columns]"
      ]
     },
     "execution_count": 10,
     "metadata": {},
     "output_type": "execute_result"
    }
   ],
   "source": [
    "data"
   ]
  },
  {
   "cell_type": "markdown",
   "metadata": {},
   "source": [
    "### Using the class to parse the stopwords, copied from a website, and making the regex for eliminating them"
   ]
  },
  {
   "cell_type": "code",
   "execution_count": 11,
   "metadata": {},
   "outputs": [],
   "source": [
    "expression_tuples = [(\"(\\n|\\t|\\xa0)\", \"replace\", \" \"),\n",
    "                     (r\"[^\\x00-\\x7F]\", \"delete\"),\n",
    "                     (\"[\\w]+| \", \"find\"),\n",
    "                     (\" +\", \"replace\", \" \")\n",
    "                     ]"
   ]
  },
  {
   "cell_type": "code",
   "execution_count": 12,
   "metadata": {},
   "outputs": [],
   "source": [
    "processor_data = RegularExpressionProcessor(expression_tuples)"
   ]
  },
  {
   "cell_type": "code",
   "execution_count": 13,
   "metadata": {},
   "outputs": [],
   "source": [
    "x = [\"\"\"\n",
    "a\n",
    "about\n",
    "above\n",
    "after\n",
    "again\n",
    "against\n",
    "all\n",
    "am\n",
    "an\n",
    "and\n",
    "any\n",
    "are\n",
    "aren't\n",
    "as\n",
    "at\n",
    "be\n",
    "because\n",
    "been\n",
    "before\n",
    "being\n",
    "below\n",
    "between\n",
    "both\n",
    "but\n",
    "by\n",
    "can't\n",
    "cannot\n",
    "could\n",
    "couldn't\n",
    "did\n",
    "didn't\n",
    "do\n",
    "does\n",
    "doesn't\n",
    "doing\n",
    "don't\n",
    "down\n",
    "during\n",
    "each\n",
    "few\n",
    "for\n",
    "from\n",
    "further\n",
    "had\n",
    "hadn't\n",
    "has\n",
    "hasn't\n",
    "have\n",
    "haven't\n",
    "having\n",
    "he\n",
    "he'd\n",
    "he'll\n",
    "he's\n",
    "her\n",
    "here\n",
    "here's\n",
    "hers\n",
    "herself\n",
    "him\n",
    "himself\n",
    "his\n",
    "how\n",
    "how's\n",
    "i\n",
    "i'd\n",
    "i'll\n",
    "i'm\n",
    "i've\n",
    "if\n",
    "in\n",
    "into\n",
    "is\n",
    "isn't\n",
    "it\n",
    "it's\n",
    "its\n",
    "itself\n",
    "let's\n",
    "me\n",
    "more\n",
    "most\n",
    "mustn't\n",
    "my\n",
    "myself\n",
    "no\n",
    "nor\n",
    "not\n",
    "of\n",
    "off\n",
    "on\n",
    "once\n",
    "only\n",
    "or\n",
    "other\n",
    "ought\n",
    "our\n",
    "ours\n",
    "ourselves\n",
    "out\n",
    "over\n",
    "own\n",
    "same\n",
    "shan't\n",
    "she\n",
    "she'd\n",
    "she'll\n",
    "she's\n",
    "should\n",
    "shouldn't\n",
    "so\n",
    "some\n",
    "such\n",
    "than\n",
    "that\n",
    "that's\n",
    "the\n",
    "their\n",
    "theirs\n",
    "them\n",
    "themselves\n",
    "then\n",
    "there\n",
    "there's\n",
    "these\n",
    "they\n",
    "they'd\n",
    "they'll\n",
    "they're\n",
    "they've\n",
    "this\n",
    "those\n",
    "through\n",
    "to\n",
    "too\n",
    "under\n",
    "until\n",
    "up\n",
    "very\n",
    "was\n",
    "wasn't\n",
    "we\n",
    "we'd\n",
    "we'll\n",
    "we're\n",
    "we've\n",
    "were\n",
    "weren't\n",
    "what\n",
    "what's\n",
    "when\n",
    "when's\n",
    "where\n",
    "where's\n",
    "which\n",
    "while\n",
    "who\n",
    "who's\n",
    "whom\n",
    "why\n",
    "why's\n",
    "with\n",
    "won't\n",
    "would\n",
    "wouldn't\n",
    "you\n",
    "you'd\n",
    "you'll\n",
    "you're\n",
    "you've\n",
    "your\n",
    "yours\n",
    "yourself\n",
    "yourselves\n",
    "\"\"\"]\n"
   ]
  },
  {
   "cell_type": "code",
   "execution_count": 14,
   "metadata": {},
   "outputs": [
    {
     "data": {
      "text/plain": [
       "[\"\\na\\nabout\\nabove\\nafter\\nagain\\nagainst\\nall\\nam\\nan\\nand\\nany\\nare\\naren't\\nas\\nat\\nbe\\nbecause\\nbeen\\nbefore\\nbeing\\nbelow\\nbetween\\nboth\\nbut\\nby\\ncan't\\ncannot\\ncould\\ncouldn't\\ndid\\ndidn't\\ndo\\ndoes\\ndoesn't\\ndoing\\ndon't\\ndown\\nduring\\neach\\nfew\\nfor\\nfrom\\nfurther\\nhad\\nhadn't\\nhas\\nhasn't\\nhave\\nhaven't\\nhaving\\nhe\\nhe'd\\nhe'll\\nhe's\\nher\\nhere\\nhere's\\nhers\\nherself\\nhim\\nhimself\\nhis\\nhow\\nhow's\\ni\\ni'd\\ni'll\\ni'm\\ni've\\nif\\nin\\ninto\\nis\\nisn't\\nit\\nit's\\nits\\nitself\\nlet's\\nme\\nmore\\nmost\\nmustn't\\nmy\\nmyself\\nno\\nnor\\nnot\\nof\\noff\\non\\nonce\\nonly\\nor\\nother\\nought\\nour\\nours\\nourselves\\nout\\nover\\nown\\nsame\\nshan't\\nshe\\nshe'd\\nshe'll\\nshe's\\nshould\\nshouldn't\\nso\\nsome\\nsuch\\nthan\\nthat\\nthat's\\nthe\\ntheir\\ntheirs\\nthem\\nthemselves\\nthen\\nthere\\nthere's\\nthese\\nthey\\nthey'd\\nthey'll\\nthey're\\nthey've\\nthis\\nthose\\nthrough\\nto\\ntoo\\nunder\\nuntil\\nup\\nvery\\nwas\\nwasn't\\nwe\\nwe'd\\nwe'll\\nwe're\\nwe've\\nwere\\nweren't\\nwhat\\nwhat's\\nwhen\\nwhen's\\nwhere\\nwhere's\\nwhich\\nwhile\\nwho\\nwho's\\nwhom\\nwhy\\nwhy's\\nwith\\nwon't\\nwould\\nwouldn't\\nyou\\nyou'd\\nyou'll\\nyou're\\nyou've\\nyour\\nyours\\nyourself\\nyourselves\\n\"]"
      ]
     },
     "execution_count": 14,
     "metadata": {},
     "output_type": "execute_result"
    }
   ],
   "source": [
    "x"
   ]
  },
  {
   "cell_type": "code",
   "execution_count": 15,
   "metadata": {},
   "outputs": [
    {
     "data": {
      "text/plain": [
       "['a', 'about', 'above', 'after', 'again', 'against', 'all', 'am', 'an', 'and']"
      ]
     },
     "execution_count": 15,
     "metadata": {},
     "output_type": "execute_result"
    }
   ],
   "source": [
    "stopwords = processor_data.process(x)\n",
    "stopwords = stopwords[0].split(\" \")\n",
    "stopwords.pop(0)\n",
    "stopwords[0:10]"
   ]
  },
  {
   "cell_type": "code",
   "execution_count": 16,
   "metadata": {},
   "outputs": [],
   "source": [
    "#Creating the regex for deleting the stopwords\n",
    "string = ''\n",
    "for i in stopwords:\n",
    "    i = r'\\b'+i+r'\\b'\n",
    "    if string != \"\":\n",
    "        string = string + \"|\" + i\n",
    "        \n",
    "    else:\n",
    "        string = i\n",
    "\n",
    "stopwords_tuple = [(string, \"delete\")]"
   ]
  },
  {
   "cell_type": "markdown",
   "metadata": {},
   "source": [
    "# Final class to make the pre pro for toxic comments"
   ]
  },
  {
   "cell_type": "code",
   "execution_count": 17,
   "metadata": {},
   "outputs": [],
   "source": [
    "expression_tuples = [(\"\\+[0-9]{12}|[0-9]{10}\", \"replace\", \"a phone number\"),\n",
    "                     (\"https?:\\/\\/[\\w\\/\\.~#]*\", \"replace\", \"a hyperlink\"),\n",
    "                     (\"[A-Za-z0-9]+ ?[A-Za-z0-9]+?, (Inc|CO|FAC).\", \"replace\", \" a company \"),\n",
    "                     (\"(@[a-zA-Z0-9_.]+|[a-zA-Z0-9_.]+#[0-9]+)\", \"replace\", \"a username\"),\n",
    "                      (\"^[a-z0-9]+[._]?[a-z0-9]+[@]\\w+[.]\\w{2,3}$\", \"replace\", \"an email\"),\n",
    "                     (\"(\\n|\\t|\\xa0)\", \"replace\", \" \"),\n",
    "                     (r\"[^\\x00-\\x7F]\", \"replace\", \" \"),\n",
    "                     (\"[\\w]+| \", \"find\"),\n",
    "                     (r'([a-z])\\1+', 'replace', r'\\1\\1'),\n",
    "                     (\"\",\"lower\")\n",
    "                     ]\n",
    "expression_tuples.extend(stopwords_tuple)\n",
    "expression_tuples.extend([(\" +\", \"replace\", \" \")])"
   ]
  },
  {
   "cell_type": "markdown",
   "metadata": {},
   "source": [
    "* (\\n|\\t|\\xa0): regex to eliminate enter, tab, and xa0 for non-breaking space\n",
    "* r\\[^\\x00-\\x7F\\]: regex to eliminate non-ascii chracters, based on stackoverflow\n",
    "* [\\w]+| : regex to eliminate non-alpha numeric characters, read on the article when suggest about just using alpha numeric characters\n",
    "* ([a-z])\\1+: regex to eliminate same letter consicutively more than 2 times because in english there are rules that do not allow the same letter consicutively more than 2 times, for example, if it finds imbeeeecile, it will transform it into imbeecile, something that will help in the mispelling functions\n",
    "\n",
    "#### Disclaimer: the username it might not detect all because it will only detect usernames that starts with @, same with company too many cases to think for companies name terminations"
   ]
  },
  {
   "cell_type": "code",
   "execution_count": 18,
   "metadata": {},
   "outputs": [],
   "source": [
    "processor_data = RegularExpressionProcessor(expression_tuples)"
   ]
  },
  {
   "cell_type": "code",
   "execution_count": 19,
   "metadata": {},
   "outputs": [
    {
     "data": {
      "text/plain": [
       "['explanation edits made username hardcore metallica fan reverted vandalisms just closure gas voted new york dolls fac please remove template talk page since retired now892053827',\n",
       " 'daww matches background colour seemingly stuck thanks talk 2151 january 11 2016 utc',\n",
       " 'hey man really trying edit war just guy constantly removing relevant information talking edits instead talk page seems care formatting actual info',\n",
       " ' make real suggestions improvement wondered section statistics later subsection types accidents think references may need tidying exact format ie date format etc can later noone else first preferences formatting style references want please let know appears backlog articles review guess may delay reviewer turns listed relevant form eg wikipediagood_article_nominationstransport ',\n",
       " ' sir hero chance remember page ',\n",
       " ' congratulations use tools talk ',\n",
       " 'cocksucker piss around work',\n",
       " ' vandalism matt shirvington article reverted please will banned',\n",
       " 'sorry word nonsense offensive anyway intending write anything articlewow jump vandalism merely requesting encyclopedic one can use school reference selective breeding page almost stub points animal breeding short messy article gives info must someone around expertise eugenics 93161107169',\n",
       " 'alignment subject contrary dulithgow',\n",
       " ' fair use rationale imagewonjujpg thanks uploading imagewonjujpg notice image page specifies image used fair use explanation rationale use wikipedia articles constitutes fair use addition boilerplate fair use template must also write image description page specific explanation rationale using image article consistent fair use please go image description page edit include fair use rationale uploaded fair use media consider checking specified fair use rationale pages can find list image pages edited clicking contributions link located top wikipedia page logged selecting image dropdown box note fair use images uploaded 4 may 2006 lacking explanation will deleted one week uploaded described criteria speedy deletion questions please ask media copyright questions page thank talk contribs unspecified source imagewonjujpg thanks uploading imagewonjujpg noticed files description page currently specify created content copyright status unclear create file will need specify owner copyright obtained website link website taken together restatement websites terms use content usually sufficient information however copyright holder different websites publisher copyright also acknowledged adding source please add proper copyright licensing tag file one already createdtook picture audio video tag can used release gfdl believe media meets criteria wikipediafair use use tag one tags listed wikipediaimage copyright tagsfair use see wikipediaimage copyright tags full list copyright tags can use uploaded files consider checking specified source tagged can find list files uploaded following link unsourced untagged images may deleted one week tagged described criteria speedy deletion image copyrighted nonfree license per wikipediafair use image will deleted 48 hours questions please ask media copyright questions page thank talk contribs ',\n",
       " 'bbq man discuss itmaybe phone',\n",
       " 'hey talk exclusive group wp talibanswho good destroying selfappointed purist gang one asks questions abt antisocial destructive noncontribution wp ask sityush clean behavior issue nonsensical warnings',\n",
       " ' start throwing accusations warnings review edit itselfmaking ad hominem attacks going strengthen argument will merely make look like abusing power admin now edit relevantthis probably single talked event int news late absence notable since living expresident attend certainly notable dedicating aircracft carrier intend revert edit hopes attracting attention admin willing look issue throw accusations around quite liberally perhaps achieve level civility can can rational discussion topic resolve matter peacefully',\n",
       " 'oh girl started arguments stuck nose belong believe argument yvesnimmo like said situation settled apologized thanks',\n",
       " ' juelz santanas age 2002 juelz santana 18 years old came february 18th makes juelz turn 19 making songs diplomats third neff signed cams label roc fella 2003 20 years old coming singles santanas town yes born 1983 really older lloyd banks 22 birthday passed homie neff 23 years old 1983 2006 juelz death god forbid thinking equals 23 go caculator stop changing year birth god',\n",
       " 'bye look come think comming back tosser',\n",
       " 'redirect talkvoydan pop georgiev chernodrinski',\n",
       " ' mitsurugi point made sense argue include hindi ryo sakazakis page include information',\n",
       " ' mean bother see writing something regarding removing anything posted oh can acctually discuss even better like ask take closer look premature wrestling deaths catagory men listed surely men belong together catagory anything think can catagory besides delting ',\n",
       " ' regarding recent edits please read wpfilmplot editing film articles edits simply good entirely many unnecessary details bad writing please stop damage 45 ',\n",
       " ' good know yeah studying nowdeepu ',\n",
       " ' snowflakes always symmetrical geometry stated snowflake always six symmetric arms assertion simply true according kenneth libbrecht rather unattractive irregular crystals far common variety hyperlink someone really need take look site get facts still see decent number falsities page forgive new want edit anything',\n",
       " ' signpost 24 september 2012 read signpost full singlepage unsubscribe ',\n",
       " ' reconsidering 1st paragraph edit understand reasons s recent edit article sure data necessarily wrong rather persuaded strategy introducing academic honors first paragraph unhelpful approach specific subject note articles sitting justices similarly enhanced also believe changes improvement support view edit reverted invite anyone revisit articles written following pairs jurists a1 benjamin cardozo a2 learned hand b1 john marshall harlan b2 john marshall harlan ii question becomes current version wikipedia article one either pair improved academic credentials introductory paragraph think perhaps helps repeat wry argument kathleen sullivan stanford law makes suggests harvard law faculty wonder antonin scalia avoided learning others managed grasp processes judging hope anecdote gently illustrates point less humorous even stronger argument one clarence thomas makes mentions wanting return law degree yale minimum questioning edit deserves reconsidered ',\n",
       " 'radial symmetry several now extinct lineages included echinodermata bilateral homostelea even asymmetrical cothurnocystis stylophora ',\n",
       " ' need apologize wikipedia article made reconciling knowledge subject different sources done history studies archaeology studies guess scan page email ask someone translate page',\n",
       " 'yes mother child case michael jackson studied motives reasonings judged upon character just harshly wacko jacko tell ignore incriminate going continue refuting bullshit jayjg keeps throwing 1801 16 jun 2005 utc',\n",
       " ' ok will take bit work quite picture example can base duck ',\n",
       " ' barnstar real life barnstar us stars ',\n",
       " ' post block expires funny thing think uncivil',\n",
       " ' sure heading fight freedom will contain',\n",
       " 'praise looked article 6 months ago much improved ',\n",
       " ' able post list quickly already text file hard drive meaning get around updating sound list time now far generating interest spent four years trying drum interest freely licensed full length classical music unfortunately attempts failed still effectively one classical music wikiproject interested wikipedia_talkwikiproject_classical_musicarchive_5need_help21wikipedia_talkwikiproject_musicarchive_3i_could_use_some_helpwikipedia_talkwikiproject_musicarchive_2raulbot2c_and_the_music_list really given trying interest others sound list featured digg back hyperlink got 1600 diggs imo impressive',\n",
       " ' process things subpages rfa listed noseptembers page can find look september 2004 think differences el_c sure surprised see block left note tc ',\n",
       " ' making straw man argument never claimed odonohue position rather practitioners researchers field ignored dsm position exactly quote says also something odonohue agrees combating notion absurd part claim pedophilia sexual orientation since many researchers hold position unfair call absurd disorder part divided field argue disorder end day value judgment cantor pointed earlier thread scientific judgement choose make value judgment article stated clearly pretend scientific basis ',\n",
       " ' mainland asia includes lower basin chinas yangtze river korea specific fine just found citation comprehensive dna study hammer rather generarizations speculation far citation yayoi culture brought japan migrants korea turn trace roots southeast asiasouth china 2005 dna study hammer describes yayoi migration korea based osry465 genes genes close lineage haplogroups om122 om95 reiterates entire o haplogroup proposed southeast asian origin definition southeast asia includes southern china hypothesizes dispersals neolithic farmers southeast asia also brought haplogroup o lineages korea eventually japan concluding paragraph states propose yayoi y chromosomes descend prehistoric farmers origins southeastern asia perhaps going back origin agriculture region hammers dna study based global sample consisted 2500 males 39 asian populations including six populations sampled across japanese archipelago ',\n",
       " 'pretty much everyone warren countysurrounding regions born glens falls hospital included however sure qualifies anyone glens falls native rachel ray believe actually town lake luzerne preceding unsigned comment added 70100229154 042857 august 19 2007 utc',\n",
       " 'hi explicit can block o fenian editwarring giants causeway wp made several edits can described terrorism',\n",
       " 'notability rurika kasuga tag placed rurika kasuga requesting speedily deleted wikipedia done article seems person group people band club company web content indicate subject notable article subject included wikipedia criteria speedy deletion articles assert notability may deleted time please see guidelines generally accepted notable can indicate subject article notable may contest tagging add top page existing db tag leave note articles talk page explaining position please remove speedy deletion tag hesitate add information article confirm subjects notability guidelines guidelines specific types articles may want check criteria biographies web sites bands companies feel free leave note talk page questions ',\n",
       " ' sure lead must briefly summarize armenias history simply added found necessary anyone thinks sentence redundant lead welcome remove make edits talk ',\n",
       " 'tfd think just eced think responded without seeing others responses added something response know saw mine tcwpchicagowpfour',\n",
       " ' gay antisemmitian archangel white tiger meow greetingshh uh two ways erased comment ww2 holocaust brutally slaying jews gaysgypsysslavsanyone 1 antisemitian shave head bald go skinhead meetings 2 doubt words bible homosexuality deadly sin make pentagram tatoo forehead go satanistic masses gay pals 3 first last warning fucking gay appreciate nazi shwain write page wish talk anymore beware dark side',\n",
       " 'fuck filthy mother ass dry',\n",
       " ' sorry sorry screwed around someones talk page bad know templates talk page helps assert dominance know bow almighty administrators going go play outsidewith mom 761227982',\n",
       " ' believe lisak criticism present conforms npv rule lisak neutral point view begin offer polygraph even concerned review polygraph results shocks complainant thinking lies uncovered recantation still perfectly valid know telling truth will argue machine investigator also part kanins research followup recanted story possible verify false recantations followups recanted version events matched accused said happened arguing lisak respected phd baseless kanin respected phd agree edit neutral possible though apologize still something must done ',\n",
       " ' point now ammended appropriate encyclopedic notabilitysignificance',\n",
       " ' words lazy actually point anything change approach tag goes',\n",
       " ' claims stalking absolute rubbish serves aggravate situation assumed good faith good intentions part never suggested seen reason suggest might ulterior motive massadding links one specific companys web page matter ever made suggestion administrative matter even mentioned role clearly party disagreement rate conflict interest ask thus extend good faith toward rather making spurious unfounded accusations chatspy ',\n",
       " 'jmabel regards predominant scholary consensus allegedly claims despite third way rhetoric fascism power functioned rather consistently rightwing force far aware owning numerous books subject scholary consensus consensus developed respected scholars fascism write manner bias interest group roger griffin hamish mcdonald roger eatwell zeev sternhell recongise fascism third way references show dissenters aware seem think fascism absoutely leftist connections merely radical right system street level socialists want put much distance movements possible course come educated people position write books example even foremost scholary expert fascism former member communist party socialist party italy renzo de felice try cover socialistic origins third way status man wrote definitive seven volume piece mussolini ',\n",
       " ' bi said wanted talk bottom lead section written promoter speculated 1994 skyhook concept cost competitive realistically thought achievable using space elevator skyhook competitive rotating tether concepts addition rotating skyhook fact deemed engineeringly feasible using presently available materials regarding addition rotating skyhook fact deemed engineeringly feasible using presently available materials statement appears come ref 3 page 10 full quote mass tether alone started exceed 200 times mass payload indication particular scenario considered engineeringly feasible using presently available materials although application might become feasible near future better materials become available higher tensile strengths higher operational temperatures goes say shall see presently available commercial materials will suffice make hastol tethers needed primary message want leave reader need magic materials like buckminsterfullercarbonnanotubes make space tether facility hastol system existing materials will appear misread reference tether mass 200 times mass payload mass upper limit problem systems tether mass less 200 times payload mass can built presently available commercial materials reinforce conclusion report states fundamental conclusion phase hastol study effort concept technically feasible evaluated number alternate system configurations will allow hypersonic airbreathing vehicle technologies combined orbiting spinning space tether technologies provide method moving payloads surface earth earth orbit one hastol architecture concept developed design solution using existing nearterm technologies expect number hastol architecture concepts will prove similarly technically feasible subjected detailed design studies systems completely reusable potential drastically reducing cost earthtoorbit space access regarding skyhook competitive rotating tether concepts 2000 boeing report possibillity combining skyhooks hypersonic planes concluded general nonspinning tether hyperskyhook concept look competitive spinning tether concepts full quote hyperskyhook 1995 zubrin proposed hypersonic skyhook solution mismatch attainable atmospheric speeds hypersonic airplane orbital speeds space tethers since orbital speed space tether decreases increasing altitu',\n",
       " 'get fucked get fuckeeed got drink put get fuck get fucked fucked right now',\n",
       " ' threatening disputing neutrality know country quite common bully way discussion push outcomes want russia',\n",
       " 'thanks undeletion hoped researching status texas government including local government copyright status slow going apparently works florida government usually public domain similar article texas guess research oldfashioned nonlazy actually reliable way ask copyright help desk like suggested meantime using fair use rationale since valid image used article thanks ',\n",
       " 'awesome simply disregard notice thanks',\n",
       " 'stupid peace shit stop deleting stuff asshole go die fall hole go ',\n",
       " 'tony sidaway obviously fistfuckee loves arm ass',\n",
       " ' ga review ii sorry say fail articles gan several major problems brought articles previous ga assessment issued said articles wplead longer history media attention academics student government demographics trivia additional information section deficient citiations also triva additional information integrated rest article please look wpwiaga fix problem renominate gaclass however reassessed article bclass meet bclass criteria regards ',\n",
       " ' band pages deletion thought gone deleting comment posted talk page delete feelings hasty decision delete page sir still cocksucking douche fuck sit back second think life become done take long nope certainly aware life shitstorm sitting front computer masturbating fictional creatures attempts get rid mediocre best constantly sucking dick failure want personal attack huh bad fuckcock mcdickerson got one can go ahead delete profile wikipedia just make another one come right back syrthiss talk page insult dick shatter dreams innocent eighteen year old college freshman trying make name band make happy fucking people overweight single old man deadend job spot perhaps someone else going follow dreams trying hold back somebody else suffer like yes make empty threats saying anything along lines hurt eat children within sisters womb will say asshole sonofabitch mother fucking cock sucker go eat food drown sorrows premature ejaculating bald headed fuck something nice maybe go grab couple horny goat weeds local convenience store jack little longer three minutes tonight sincerely asshole better every way',\n",
       " ' believe fat artie see recent appearence tonight show jay leno looks absolutely awful put money say artie lange miss candidate 2007 dead pool kindly keep malicious fingers comment everytime remove will repost ',\n",
       " 'locking page also violate wpnewbies whether like conservatives wikipedians ',\n",
       " ' bisexual like homosexual heterosexual defined sexual activity much like 15 year old boy attracted girl sexually never sex still straight person actually sexually attractedaroused sex opposite sex bisexual',\n",
       " 'redirect talkfrank herbert mason',\n",
       " ' christian arabs hi please stop enforcing category christian arabs non arabic christians living middle east wrong middleeastern christians though arabs gone arabization needs stop arabs ethnicity forced called christian arabs christian european born middle east called christian arab reason alone please understand syriac christians ie assyrian ancestry speak aramaic though lot forgetting someone speaks aramaic respect fact appease muslims want call everyone arabs just middle east closely related arabs saudiarabia ethnicity please stop forcing upon us alien arab ethnicity oppression talk 1217 26 jun 2007 utc',\n",
       " ' dh dude abc officially says name episode know already episode name abc says everybodys says ',\n",
       " ' edits good cunts like revert good edits stupid understand write revert edits just decided bear playground grudge problem maybe one day realise damage noble project 201215187159',\n",
       " ' neilns bang harassed edit disruptively get reverted talk ',\n",
       " ' went around time certainly case time later stopped taking children young age',\n",
       " ' must chemical imbalance brains ok gibberish guys writing really makes feel sorry ever go law school legal profession bad',\n",
       " ' parzival418 trying scare thatso can say comments thatso insulting thatso trying suggest original research wikipedia right ',\n",
       " ' oppose article stands properly reference wpreference guidelines issue resolved issues moved mainspace ',\n",
       " ' appreciate apology can see unlikely please waste time longer attempts trying justify either plasma physics transgressions toward bother longer issue shall leave alone seek others deserve considerate attention',\n",
       " ' original research pointed episodes',\n",
       " ' ambiguous mabuska irish can mean one thing will qoute thanks preceding unsigned comment added 1097758139 course can word irish invented establishment irish free state talk quote want depends context term used whether applicable note said citizenship ethnicity never mentioned nationality real key meaning nationality meaning term predominantly used form wikipedia nationality terms refers republic ireland already know sure talk nationality terms refers republic ireland country nationality terms refers ireland preceding unsigned comment added 10976191188 oh wow ireland ireland state whose official description republic ireland point inane conversation talk ireland whose official name ireland preceding unsigned comment added 10976191188 hyperlink reading also see hyperlink speak preceding unsigned comment added 1097822450 ',\n",
       " ' magazines masthead says time corporate name time inc can easily look hand abn amro always corporate name can look ',\n",
       " 'take belated piffling prevarications elsewhere late ',\n",
       " ' looking looks like just around dick talk pages though nothing bad though looks like inability express properly thank concern also cheers ',\n",
       " ' direction really necessary name us states recognize give just number states american encyclopedia universal one see every single us states recognize named ix',\n",
       " ' 20 december 2006 utc must play metal gear solid 2 often gw arsenal gear ai went haywire solid snake uploaded emmas virus 1932',\n",
       " 'hi back last warning stop undoing edits die',\n",
       " ' minimization textile effluent proposed deletion template added article minimization textile effluent suggesting deleted according proposed deletion process contributions appreciated article may satisfy wikipedias criteria inclusion deletion notice explain see also wikipedia wikipedias deletion policy may prevent proposed deletion removing notice please explain disagree proposed deletion edit summary talk page also please consider improving article address issues raised even though removing deletion notice will prevent deletion proposed deletion process article may still deleted matches speedy deletion criteria can sent articles deletion may deleted consensus delete reached agree deletion article person made substantial edits page please add top minimization textile effluent ',\n",
       " ' scientific attribute event cause b cause b deliberate designed sort intelligent intent answer questions beyond problem answering beyond example completely rigged several major fundamental problems first completely fail mention fact intelligence behind quite literally earth natural science might look honeycomb see built bees find odd looking fossilized honeycomb theorize made odd looking bees fundamentally different saying made something earth core notion something outside system can observe cause science sense word mythology paul bunyan wrestling match babe blue ox kicked much dirt created great lakes evidence paul ox remain mean really second natural science takes approach knowledge nothing known scientific law unless irrefutable theories must heavy supporting empirical data back turns head end run around knowledge plays games probabilities one can say flagella bacteria formed naturally can proponents come sort mathematically accurate probability flagella naturally forming bacteria understand statistics jumps right hurdle takes anything complete detailed natural explanation jams statistics say improbable happen someone must designed perversion science can assign probabilities something understand just making numbers finally example ab b deliberate design good rigged example except respect life earth b unknown ab example might qualify forensic science dead body b bullet heart see bunch dead bodies bullets heart next time see body bullet heart can probably figure killed life earth one scenario cases observe test sense ab scientific never actually observed b btw b teh intelligent designer never observed sense science ',\n",
       " 'screwjob hey noticed comments montreal screwjob discussion page decided since nobody except someone account objected said atleast change page little make fair just wanted tell thought like know changed words top first paragraph added something second one bothered fine thought since fighting nothing even said might aswell tell ',\n",
       " 'april 2006 thank experimenting page andy griffith wikipedia test worked reverted removed please use sandbox tests want take look welcome page like learn contributing encyclopedia',\n",
       " ' christ iq selected therefore every population iq never ceases amaze ',\n",
       " 'can prove better knowledge english language obvious ',\n",
       " ' shut run wikipedia especially stupid kid',\n",
       " 'oh vandalisingxd see greetings',\n",
       " 'website hey thinking getting website display pictures cheapest thing find know others fir diliff guys websites think legit provide better alternatives help guild member also appreciated thanks talk',\n",
       " 'thanks reading now ',\n",
       " 'personal attacks fruit brute vfd apologies critical feel many comments made fruit brute vfd debate far reasonable diplomatic way disagree s assertion initial sentence lie makes look even juvenile learn face goofed will go long way life attacks age certainly border personal attack bart133 forty sixty eighty included comment juvenile expect apologise anyone want make clear consider comments vfd debate inappropriate think many members community agree talk 0646 2005 feb 7 utc',\n",
       " 'transliteration russian place names writing moscow metro malayalam wikipedia finding difficult correctly transliterate russian place names example pronounce park kultury paark kalttari paark kalchchari perhaps something completely different can somebody please help transliterating list given hyperlink _ putting list want clutter page thanks',\n",
       " ' almost got look see real talk ',\n",
       " ' can one defame someone thinks fort hood shooting justified gods law',\n",
       " 'lack balance article seriously balance benefit greatly introduction additional information negative aspects t34 just record sort balance problem uncommon dependence works particular author example testing evaluation t34 us army ordnance dept exposed serious problems tank type information included article bring back balance',\n",
       " ' thanks can see violating clearly stated wikipedia policy problem people now reviewed elsewhere finishing one wiki project todsy spending rest day important personal blog entry go find discussions james petras fascinating discussion use term jewish lobby put back deleted dissident voice article right away per talkjewish_lobbywpv__comparing_jewish_virtual_library_and_dissident_voice carol moore talk',\n",
       " ' hi thanks kind words see around talk ',\n",
       " 'collusion poker regarded heinous form cheating poker perhaps mention example warranted',\n",
       " 'thanks much however resolved today write anything edit summary camera put ad edit summary box1equalvoice1 talk',\n",
       " ' can right now get username able impact saying seem familiar everything probably username just get one takes 10 seconds talk contribs']"
      ]
     },
     "execution_count": 19,
     "metadata": {},
     "output_type": "execute_result"
    }
   ],
   "source": [
    "union = processor_data.process(data.comment_text.tolist()[:100])\n",
    "union"
   ]
  },
  {
   "cell_type": "code",
   "execution_count": 20,
   "metadata": {},
   "outputs": [],
   "source": [
    "def incorrect_words_searching(strings):\n",
    "    \"\"\"\n",
    "    Function to find words with possible mispellings\n",
    "    \n",
    "    input:\n",
    "    string: list containing strings where to look for the mispellings\n",
    "    \n",
    "    \"\"\"\n",
    "    #making the list into a whole string\n",
    "    strings = ' '.join(strings)\n",
    "    strings = strings.lower()\n",
    "    #getting the words list from nlkt\n",
    "    words_list = words.words()\n",
    "    words_list = ' '.join(words_list)\n",
    "    words_list = words_list.lower()\n",
    "    words_list = words_list.split(' ')\n",
    "    incorrect = []\n",
    "    for i in set(strings.split(' ')):\n",
    "        if i != \"\" and i != \" \":\n",
    "            if i in words_list:\n",
    "                pass\n",
    "            #if the word is not in the word list\n",
    "            else:\n",
    "                try:\n",
    "                    #try to get it to the rout form, if possible the word is correct\n",
    "                    lemmatize(i)\n",
    "                except:\n",
    "                    try:\n",
    "                        #try to check if the word could be actually a number\n",
    "                        float(i)\n",
    "                    except:\n",
    "                        #if not the word has mispelling\n",
    "                        incorrect.append(i)\n",
    "\n",
    "        else:\n",
    "            pass\n",
    "        \n",
    "    return incorrect"
   ]
  },
  {
   "cell_type": "code",
   "execution_count": 21,
   "metadata": {},
   "outputs": [
    {
     "data": {
      "text/plain": [
       "['antonin', 'deadend', 'now892053827', 'wikipediafair', 'arabs']"
      ]
     },
     "execution_count": 21,
     "metadata": {},
     "output_type": "execute_result"
    }
   ],
   "source": [
    "incorrects = incorrect_words_searching(union)\n",
    "incorrects[:5]"
   ]
  },
  {
   "cell_type": "code",
   "execution_count": 22,
   "metadata": {},
   "outputs": [],
   "source": [
    "def mispellings(incorrect_words):\n",
    "    \"\"\"\n",
    "    Function to find the canonical word for a mispelling using the levenshtein distance, \n",
    "    \n",
    "    input:\n",
    "    incorrect_words: list containing the incorret words\n",
    "    \n",
    "    output:\n",
    "    return a list of tuples, containing the mispelling word, the operation replace and the canonical word\n",
    "    \n",
    "    disclaimer: the canonical word could not be the actual canonical because some words it might not be mispelling, but the dictionary does \n",
    "    not have it\n",
    "    \"\"\"\n",
    "    correction = []\n",
    "    for i in incorrect_words:\n",
    "        #temporal variables\n",
    "        temp = 0\n",
    "        temp_word = ''\n",
    "        words_list = words.words()\n",
    "        words_list = ' '.join(words_list)\n",
    "        words_list = words_list.lower()\n",
    "        words_list = words_list.split(' ')\n",
    "        for word in words_list:\n",
    "            aux = fuzz.ratio(i, word)\n",
    "            if aux > 80 and aux > temp:\n",
    "                temp = aux\n",
    "                temp_word = word\n",
    "\n",
    "        if temp_word != '':\n",
    "            correction.append((i,\"replace\",temp_word))\n",
    "        \n",
    "    return correction"
   ]
  },
  {
   "cell_type": "code",
   "execution_count": 23,
   "metadata": {},
   "outputs": [
    {
     "data": {
      "text/plain": [
       "[('antonin', 'replace', 'anthonin'),\n",
       " ('deadend', 'replace', 'deaden'),\n",
       " ('arabs', 'replace', 'arabis'),\n",
       " ('harlan', 'replace', 'harleian'),\n",
       " ('possibillity', 'replace', 'possibility'),\n",
       " ('everybodys', 'replace', 'everybody'),\n",
       " ('etc', 'replace', 'etch'),\n",
       " ('syrthiss', 'replace', 'syrtis'),\n",
       " ('engineeringly', 'replace', 'engineering'),\n",
       " ('appearence', 'replace', 'apparence'),\n",
       " ('shwain', 'replace', 'swain'),\n",
       " ('itselfmaking', 'replace', 'tasselmaking'),\n",
       " ('dept', 'replace', 'adept'),\n",
       " ('unsubscribe', 'replace', 'unsubscribed'),\n",
       " ('mainspace', 'replace', 'midspace'),\n",
       " ('barnstar', 'replace', 'barnstorm'),\n",
       " ('cardozo', 'replace', 'cardoon'),\n",
       " ('expresident', 'replace', 'president'),\n",
       " ('kasuga', 'replace', 'kashga'),\n",
       " ('sternhell', 'replace', 'stenchel'),\n",
       " ('sityush', 'replace', 'situs'),\n",
       " ('inc', 'replace', 'inca'),\n",
       " ('homie', 'replace', 'home'),\n",
       " ('mcdonald', 'replace', 'donald'),\n",
       " ('asia', 'replace', 'asian'),\n",
       " ('ammended', 'replace', 'amende'),\n",
       " ('petras', 'replace', 'petrea'),\n",
       " ('wplead', 'replace', 'plead'),\n",
       " ('username', 'replace', 'undername'),\n",
       " ('acctually', 'replace', 'actually'),\n",
       " ('abt', 'replace', 'abet'),\n",
       " ('int', 'replace', 'aint'),\n",
       " ('kalchchari', 'replace', 'kachari'),\n",
       " ('scholary', 'replace', 'scholarly'),\n",
       " ('digg', 'replace', 'dig'),\n",
       " ('bunyan', 'replace', 'bunya'),\n",
       " ('amro', 'replace', 'aro'),\n",
       " ('bclass', 'replace', 'class'),\n",
       " ('altitu', 'replace', 'altitude'),\n",
       " ('ireland', 'replace', 'reland'),\n",
       " ('ryo', 'replace', 'ryot'),\n",
       " ('noone', 'replace', 'none'),\n",
       " ('zeev', 'replace', 'zee'),\n",
       " ('comming', 'replace', 'coming'),\n",
       " ('generarizations', 'replace', 'generalization'),\n",
       " ('emmas', 'replace', 'emma'),\n",
       " ('noseptembers', 'replace', 'september'),\n",
       " ('paark', 'replace', 'paar'),\n",
       " ('stylophora', 'replace', 'stilophora'),\n",
       " ('felice', 'replace', 'felicide'),\n",
       " ('sullivan', 'replace', 'sullan'),\n",
       " ('georgiev', 'replace', 'georgie'),\n",
       " ('stanford', 'replace', 'sanford'),\n",
       " ('nonfree', 'replace', 'nonfreeze'),\n",
       " ('korea', 'replace', 'korean'),\n",
       " ('others', 'replace', 'other'),\n",
       " ('atleast', 'replace', 'atlas'),\n",
       " ('daww', 'replace', 'daw'),\n",
       " ('jews', 'replace', 'jew'),\n",
       " ('todsy', 'replace', 'tody'),\n",
       " ('fac', 'replace', 'face'),\n",
       " ('massadding', 'replace', 'madding'),\n",
       " ('gaclass', 'replace', 'class'),\n",
       " ('triva', 'replace', 'trivia'),\n",
       " ('metallica', 'replace', 'metallical'),\n",
       " ('subpages', 'replace', 'subage'),\n",
       " ('aircracft', 'replace', 'aircraft'),\n",
       " ('catagory', 'replace', 'category'),\n",
       " ('unsourced', 'replace', 'unsoured'),\n",
       " ('rightwing', 'replace', 'uprighting'),\n",
       " ('citiations', 'replace', 'citation'),\n",
       " ('diggs', 'replace', 'digs'),\n",
       " ('abc', 'replace', 'abac'),\n",
       " ('delting', 'replace', 'odelsting'),\n",
       " ('caculator', 'replace', 'calculator'),\n",
       " ('jmabel', 'replace', 'mabel'),\n",
       " ('oldfashioned', 'replace', 'fashioned'),\n",
       " ('luzerne', 'replace', 'lucerne'),\n",
       " ('sidaway', 'replace', 'sideway'),\n",
       " ('itmaybe', 'replace', 'maybe'),\n",
       " ('montreal', 'replace', 'monotremal'),\n",
       " ('admin', 'replace', 'adin'),\n",
       " ('undeletion', 'replace', 'deletion'),\n",
       " ('everytime', 'replace', 'eventime'),\n",
       " ('hamish', 'replace', 'amish'),\n",
       " ('scalia', 'replace', 'scaglia'),\n",
       " ('utc', 'replace', 'utch'),\n",
       " ('boeing', 'replace', 'being'),\n",
       " ('wpreference', 'replace', 'preference'),\n",
       " ('tatoo', 'replace', 'tattoo'),\n",
       " ('imo', 'replace', 'itmo'),\n",
       " ('neff', 'replace', 'neffy'),\n",
       " ('kanin', 'replace', 'kantian'),\n",
       " ('italy', 'replace', 'vitally'),\n",
       " ('dna', 'replace', 'dana'),\n",
       " ('renzo', 'replace', 'arienzo'),\n",
       " ('santana', 'replace', 'lantana'),\n",
       " ('absoutely', 'replace', 'absolutely'),\n",
       " ('arabization', 'replace', 'parabolization'),\n",
       " ('teh', 'replace', 'tech'),\n",
       " ('lange', 'replace', 'flange'),\n",
       " ('kanins', 'replace', 'kainsi'),\n",
       " ('armenias', 'replace', 'armenian'),\n",
       " ('libbrecht', 'replace', 'albrecht'),\n",
       " ('nonlazy', 'replace', 'nonly'),\n",
       " ('greetingshh', 'replace', 'greeting'),\n",
       " ('thatso', 'replace', 'thats'),\n",
       " ('lisak', 'replace', 'lisa'),\n",
       " ('articlewow', 'replace', 'article'),\n",
       " ('santanas', 'replace', 'satanas'),\n",
       " ('airbreathing', 'replace', 'breathing')]"
      ]
     },
     "execution_count": 23,
     "metadata": {},
     "output_type": "execute_result"
    }
   ],
   "source": [
    "expression_tuples = mispellings(incorrects)\n",
    "expression_tuples "
   ]
  },
  {
   "cell_type": "code",
   "execution_count": 24,
   "metadata": {},
   "outputs": [],
   "source": [
    "processor_data2 = RegularExpressionProcessor(expression_tuples)"
   ]
  },
  {
   "cell_type": "code",
   "execution_count": 25,
   "metadata": {},
   "outputs": [
    {
     "data": {
      "text/plain": [
       "['explanation edits made undername hardcore metallical fan reverted vandalisms just closure gas voted new york dolls face please remove template talk page sincae retired now892053827',\n",
       " 'daw matches background colour seemingly stuck thanks talk 2151 january 11 2016 utch',\n",
       " 'hey man really trying edit war just guy constantly removing relevant information talking edits instead talk page seems care formatting actual info',\n",
       " ' make real suggestions improvement wondered section statistics later subsection types accidents think references may need tidying exact format ie date format etch can later none else first preferences formatting style references want please let know appears backlog articles review guess may delay reviewer turns listed relevant form eg wikipediagood_article_nominationstransport ',\n",
       " ' sir hero chance remember page ',\n",
       " ' congratulations use tools talk ',\n",
       " 'cocksucker piss around work',\n",
       " ' vandalism matt shirvington article reverted please will banned',\n",
       " 'sorry word nonsense offensive anyway aintending write anything article jump vandalism merely requesting encyclopedic one can use school reference selective breeding page almost stub poaints animal breeding short messy article gives info must someone around expertise eugenics 93161107169',\n",
       " 'alignment subject contrary dulithgow',\n",
       " ' fair use rationale imagewonjujpg thanks uploading imagewonjujpg notice image page specifies image used fair use explanation rationale use wikipedia articles constitutes fair use addition boilerplate fair use template must also write image description page specific explanation rationale using image article consistent fair use please go image description page edit incalude fair use rationale uploaded fair use media consider checking specified fair use rationale pages can find list image pages edited clicking contributions link located top wikipedia page logged selecting image dropdown box note fair use images uploaded 4 may 2006 lacking explanation will deleted one week uploaded described criteria speedy deletion questions please ask media copyright questions page thank talk contribs unspecified source imagewonjujpg thanks uploading imagewonjujpg noticed files description page currently specify created content copyright status unclear create file will need specify owner copyright obtained website link website taken together restatement websites terms use content usually sufficient information however copyright holder different websites publisher copyright also acknowledged adding source please add proper copyright licensing tag file one already createdtook picture audio video tag can used release gfdl believe media meets criteria wikipediafair use use tag one tags listed wikipediaimage copyright tagsfair use see wikipediaimage copyright tags full list copyright tags can use uploaded files consider checking specified source tagged can find list files uploaded following link unsoured untagged images may deleted one week tagged described criteria speedy deletion image copyrighted nonfreeze license per wikipediafair use image will deleted 48 hours questions please ask media copyright questions page thank talk contribs ',\n",
       " 'bbq man discuss maybe phone',\n",
       " 'hey talk exclusive group wp talibanswho good destroying selfappoainted purist gang one asks questions abet antisocial destructive noncontribution wp ask situs clean behavior issue nonsensical warnings',\n",
       " ' start throwing accusations warnings review edit tasselmaking ad hominem attacks going strengthen argument will merely make look like abusing power adin now edit relevantthis probably single talked event aint news late absence notable sincae living president attend certainly notable dedicating aircraft carrier aintend revert edit hopes attracting attention adin willing look issue throw accusations around quite liberally perhaps achieve level civility can can rational discussion topic resolve matter peacefully',\n",
       " 'oh girl started arguments stuck nose belong believe argument yvesnimmo like said situation settled apologized thanks',\n",
       " ' juelz lantanas age 2002 juelz lantana 18 years old came february 18th makes juelz turn 19 making songs diplomats third neffy signed cams label roc fella 2003 20 years old coming singles lantanas town yes born 1983 really older lloyd banks 22 birthday passed home neffy 23 years old 1983 2006 juelz death god forbid thinking equals 23 go calculator stop changing year birth god',\n",
       " 'bye look come think coming back tosser',\n",
       " 'redirect talkvoydan pop georgie chernodrinski',\n",
       " ' mitsurugi poaint made sense argue incalude hindi ryot sakazakis page incalude information',\n",
       " ' mean bother see writing something regarding removing anything posted oh can actually discuss even better like ask take closer look premature wrestling deaths category men listed surely men belong together category anything think can category besides odelsting ',\n",
       " ' regarding recent edits please read wpfilmplot editing film articles edits simply good entirely many unnecessary details bad writing please stop damage 45 ',\n",
       " ' good know yeah studying nowdeepu ',\n",
       " ' snowflakes always symmetrical geometry stated snowflake always six symmetric arms assertion simply true according kenneth albrecht rather unattractive irregular crystals far common variety hyperlink someone really need take look site get facets still see decent number falsities page forgive new want edit anything',\n",
       " ' signpost 24 september 2012 read signpost full singlepage unsubscribed ',\n",
       " ' reconsidering 1st paragraph edit understand reasons s recent edit article sure data necessarily wrong rather persuaded strategy aintroducing academic honors first paragraph unhelpful approach specific subject note articles sitting justices similarly enhanced also believe changes improvement support view edit reverted invite anyone revisit articles written following pairs jurists a1 benjamin cardoon a2 learned hand b1 john marshall harleian b2 john marshall harleian ii question becomes current version wikipedia article one either pair improved academic credentials aintroductory paragraph think perhaps helps repeat wry argument kathleen sullan sanford law makes suggests harvard law faceulty wonder anthonin scaglia avoided learning other managed grasp processes judging hope anecdote gently illustrates poaint less humorous even stronger argument one clarence thomas makes mentions wanting return law degree yale minimum questioning edit deserves reconsidered ',\n",
       " 'radial symmetry several now extincat lineages incaluded echinodermata bilateral homostelea even asymmetrical cothurnocystis stilophora ',\n",
       " ' need apologize wikipedia article made reconciling knowledge subject different sources done history studies archaeology studies guess scan page email ask someone translate page',\n",
       " 'yes mother child case michael jackson studied motives reasonings judged upon character just harshly wacko jacko tell ignore incariminate going continue refuting bullshit jayjg keeps throwing 1801 16 jun 2005 utch',\n",
       " ' ok will take bit work quite picture example can base duck ',\n",
       " ' barnstorm real life barnstorm us stars ',\n",
       " ' post block expires funny thing think uncivil',\n",
       " ' sure heading fight freedom will contain',\n",
       " 'praise looked article 6 months ago much improved ',\n",
       " ' able post list quickly already text file hard drive meaning get around updating sound list time now far generating ainterest spent four years trying drum ainterest freely licensed full length classical music unfortunately attempts failed still effectively one classical music wikiproject ainterested wikipedia_talkwikiproject_classical_musicarchive_5need_help21wikipedia_talkwikiproject_musicarchive_3i_could_use_some_helpwikipedia_talkwikiproject_musicarchive_2raulbot2c_and_the_music_list really given trying ainterest other sound list featured dig back hyperlink got 1600 digs itmo impressive',\n",
       " ' process things subage rfa listed september page can find look september 2004 think differences el_c sure surprised see block left note tc ',\n",
       " ' making straw man argument never claimed odonohue position rather practitioners researchers field ignored dsm position exactly quote says also something odonohue agrees combating notion absurd part claim pedophilia sexual orientation sincae many researchers hold position unfair call absurd disorder part divided field argue disorder end day value judgment cantor poainted earlier thread scientific judgement choose make value judgment article stated clearly pretend scientific basis ',\n",
       " ' mainland asian incaludes lower basin chinas yangtze river korean specific fine just found citation comprehensive dana study hammer rather generalization speculation far citation yayoi culture brought japan migrants korean turn trace roots southeast asiansouth china 2005 dana study hammer describes yayoi migration korean based osry465 genes genes close lineage haplogroups om122 om95 reiterates entire o haplogroup proposed southeast asiann origin definition southeast asian incaludes southern china hypothesizes dispersals neolithic farmers southeast asian also brought haplogroup o lineages korean eventually japan concluding paragraph states propose yayoi y chromosomes descend prehistoric farmers origins southeastern asian perhaps going back origin agriculture region hammers dana study based global sample consisted 2500 males 39 asiann populations incaluding six populations sampled across japanese archipelago ',\n",
       " 'pretty much everyotne warren countysurrounding regions born glens falls hospital incaluded however sure qualifies anyone glens falls native rachel ray believe actually town lake lucerne preceding unsigned comment added 70100229154 042857 august 19 2007 utch',\n",
       " 'hi explicit can block o fenian editwarring giants causeway wp made several edits can described terrorism',\n",
       " 'notability rurika kashga tag placed rurika kashga requesting speedily deleted wikipedia done article seems person group people band club company web content indicate subject notable article subject incaluded wikipedia criteria speedy deletion articles assert notability may deleted time please see guidelines generally accepted notable can indicate subject article notable may contest tagging add top page existing db tag leave note articles talk page explaining position please remove speedy deletion tag hesitate add information article confirm subjects notability guidelines guidelines specific types articles may want check criteria biographies web sites bands companies feel free leave note talk page questions ',\n",
       " ' sure lead must briefly summarize armenian history simply added found necessary anyone thinks sentence redundant lead welcome remove make edits talk ',\n",
       " 'tfd think just eced think responded without seeing other responses added something response know saw mine tcwpchicagowpfour',\n",
       " ' gay antisemmitian archangel white tiger meow greeting uh two ways erased comment ww2 holocaust brutally slaying jew gaysgypsysslavsanyone 1 antisemitian shave head bald go skinhead meetings 2 doubt words bible homosexuality deadly sin make pentagram tattoo forehead go satanistic masses gay pals 3 first last warning fucking gay appreciate nazi swain write page wish talk anymore beware dark side',\n",
       " 'fuck filthy mother ass dry',\n",
       " ' sorry sorry screwed around someones talk page bad know templates talk page helps assert dominance know bow almighty adinistrators going go play outsidewith mom 761227982',\n",
       " ' believe lisa criticism present conforms npv rule lisa neutral poaint view begin offer polygraph even concerned review polygraph results shocks complainant thinking lies uncovered recantation still perfectly valid know telling truth will argue machine investigator also part kantians research followup recanted story possible verify false recantations followups recanted version events matched accused said happened arguing lisa respected phd baseless kantian respected phd agree edit neutral possible though apologize still something must done ',\n",
       " ' poaint now amende appropriate encyclopedic notabilitysignificance',\n",
       " ' words lazy actually poaint anything change approach tag goes',\n",
       " ' claims stalking absolute rubbish serves aggravate situation assumed good faith good aintentions part never suggested seen reason suggest might ulterior motive madding links one specific companys web page matter ever made suggestion adinistrative matter even mentioned role clearly party disagreement rate conflict ainterest ask thus extend good faith toward rather making spurious unfounded accusations chatspy ',\n",
       " 'mabel regards predominant scholarly consensus allegedly claims despite third way rhetoric fascism power functioned rather consistently uprighting force far aware owning numerous books subject scholarly consensus consensus developed respected scholars fascism write manner bias ainterest group roger griffin amish donald roger eatwell zee stenchel recongise fascism third way references show dissenters aware seem think fascism absolutely leftist connections merely radical right system street level socialists want put much distance movements possible course come educated people position write books example even foremost scholarly expert fascism former member communist party socialist party vitally arienzo de felicide try cover socialistic origins third way status man wrote definitive seven volume piece mussolini ',\n",
       " ' bi said wanted talk bottom lead section written promoter speculated 1994 skyhook concept cost competitive realistically thought achievable using space elevator skyhook competitive rotating tether concepts addition rotating skyhook facet deemed engineering feasible using presently available materials regarding addition rotating skyhook facet deemed engineering feasible using presently available materials statement appears come ref 3 page 10 full quote mass tether alone started exceed 200 times mass payload indication particular scenario considered engineering feasible using presently available materials although application might become feasible near future better materials become available higher tensile strengths higher operational temperatures goes say shall see presently available commercial materials will suffice make hastol tethers needed primary message want leave reader need magic materials like buckminsterfullercarbonnanotubes make space tether faceility hastol system existing materials will appear misread reference tether mass 200 times mass payload mass upper limit problem systems tether mass less 200 times payload mass can built presently available commercial materials reinforce conclusion report states fundamental conclusion phase hastol study effort concept technically feasible evaluated number alternate system configurations will allow hypersonic breathing vehicle technologies combined orbiting spinning space tether technologies provide method moving payloads surfacee earth earth orbit one hastol architecture concept developed design solution using existing nearterm technologies expect number hastol architecture concepts will prove similarly technically feasible subjected detailed design studies systems completely reusable potential drastically reducing cost earthtoorbit space access regarding skyhook competitive rotating tether concepts 2000 being report possibility combining skyhooks hypersonic planes concluded general nonspinning tether hyperskyhook concept look competitive spinning tether concepts full quote hyperskyhook 1995 zubrin proposed hypersonic skyhook solution mismatch attainable atmospheric speeds hypersonic airplane orbital speeds space tethers sincae orbital speed space tether decreases incareasing altitude',\n",
       " 'get fucked get fuckeeed got drink put get fuck get fucked fucked right now',\n",
       " ' threatening disputing neutrality know country quite common bully way discussion push outchomes want russia',\n",
       " 'thanks deletion hoped researching status texas government incaluding local government copyright status slow going apparently works florida government usually public domain similar article texas guess research fashioned nonly actually reliable way ask copyright help desk like suggested meantime using fair use rationale sincae valid image used article thanks ',\n",
       " 'awesome simply disregard notice thanks',\n",
       " 'stupid peace shit stop deleting stuff asshole go die fall hole go ',\n",
       " 'tony sideway obviously fistfuckee loves arm ass',\n",
       " ' ga review ii sorry say fail articles gan several major problems brought articles previous ga assessment issued said articles plead longer history media attention academics student government demographics trivia additional information section deficient citation also trivia additional information aintegrated rest article please look wpwiaga fix problem renominate class however reassessed article class meet class criteria regards ',\n",
       " ' band pages deletion thought gone deleting comment posted talk page delete feelings hasty decision delete page sir still cocksucking douche fuck sit back second think life become done take long nope certainly aware life shitstorm sitting front computer masturbating fictional creatures attempts get rid mediocre best constantly sucking dick failure want personal attack huh bad fuckcock mcdickerson got one can go ahead delete profile wikipedia just make another one come right back syrtis talk page insult dick shatter dreams innocent eighteen year old college freshman trying make name band make happy fucking people overweight single old man deaden job spot perhaps someone else going follow dreams trying hold back somebody else suffer like yes make empty threats saying anything along lines hurt eat children within sisters womb will say asshole sonofabitch mother fucking cock sucker go eat food drown sorrows premature ejaculating bald headed fuck something nice maybe go grab couple horny goat weeds local convenience store jack little longer three minutes tonight sincaerely asshole better every way',\n",
       " ' believe fat artie see recent apparence tonight show jay leno looks absolutely awful put money say artie flange miss candidate 2007 dead pool kindly keep malicious fingers comment eventime remove will repost ',\n",
       " 'locking page also violate wpnewbies whether like conservatives wikipedians ',\n",
       " ' bisexual like homosexual heterosexual defined sexual activity much like 15 year old boy attracted girl sexually never sex still straight person actually sexually attractedaroused sex opposite sex bisexual',\n",
       " 'redirect talkfrank herbert mason',\n",
       " ' christian arabis hi please stop enforcing category christian arabis non arabic christians living middle east wrong middleeastern christians though arabis gone parabolization needs stop arabis ethnicity forced called christian arabis christian european born middle east called christian arab reason alone please understand syriac christians ie assyrian ancestry speak aramaic though lot forgetting someone speaks aramaic respect facet appease muslims want call everyotne arabis just middle east closely related arabis saudiarabia ethnicity please stop forcing upon us alien arab ethnicity oppression talk 1217 26 jun 2007 utch',\n",
       " ' dh dude abac officially says name episode know already episode name abac says everybody says ',\n",
       " ' edits good cunts like revert good edits stupid understand write revert edits just decided bear playground grudge problem maybe one day realise damage noble project 201215187159',\n",
       " ' neilns bang harassed edit disruptively get reverted talk ',\n",
       " ' went around time certainly case time later stopped taking children young age',\n",
       " ' must chemical imbalance brains ok gibberish guys writing really makes feel sorry ever go law school legal profession bad',\n",
       " ' parzival418 trying scare thats can say comments thats insulting thats trying suggest original research wikipedia right ',\n",
       " ' oppose article stands properly reference preference guidelines issue resolved issues moved midspace ',\n",
       " ' appreciate apology can see unlikely please waste time longer attempts trying justify either plasma physics transgressions toward bother longer issue shall leave alone seek other deserve considerate attention',\n",
       " ' original research poainted episodes',\n",
       " ' ambiguous mabuska irish can mean one thing will qoute thanks preceding unsigned comment added 1097758139 course can word irish invented establishment irish free state talk quote want depends context term used whether applicable note said citizenship ethnicity never mentioned nationality real key meaning nationality meaning term predominantly used form wikipedia nationality terms refers republic reland already know sure talk nationality terms refers republic reland country nationality terms refers reland preceding unsigned comment added 10976191188 oh wow reland reland state whose official description republic reland poaint inane conversation talk reland whose official name reland preceding unsigned comment added 10976191188 hyperlink reading also see hyperlink speak preceding unsigned comment added 1097822450 ',\n",
       " ' magazines masthead says time corporate name time inca can easily look hand abn aro always corporate name can look ',\n",
       " 'take belated piffling prevarications elsewhere late ',\n",
       " ' looking looks like just around dick talk pages though nothing bad though looks like inability express properly thank concern also cheers ',\n",
       " ' direction really necessary name us states recognize give just number states american encyclopedia universal one see every single us states recognize named ix',\n",
       " ' 20 december 2006 utch must play metal gear solid 2 often gw arsenal gear ai went haywire solid snake uploaded emma virus 1932',\n",
       " 'hi back last warning stop undoing edits die',\n",
       " ' minimization textile effluent proposed deletion template added article minimization textile effluent suggesting deleted according proposed deletion process contributions appreciated article may satisfy wikipedias criteria incalusion deletion notice explain see also wikipedia wikipedias deletion policy may prevent proposed deletion removing notice please explain disagree proposed deletion edit summary talk page also please consider improving article address issues raised even though removing deletion notice will prevent deletion proposed deletion process article may still deleted matches speedy deletion criteria can sent articles deletion may deleted consensus delete reached agree deletion article person made substantial edits page please add top minimization textile effluent ',\n",
       " ' scientific attribute event cause b cause b deliberate designed sort aintelligent aintent answer questions beyond problem answering beyond example completely rigged several major fundamental problems first completely fail mention facet aintelligence behind quite literally earth natural science might look honeycomb see built bees find odd looking fossilized honeycomb theorize made odd looking bees fundamentally different saying made something earth core notion something outside system can observe cause science sense word mythology paul bunya wrestling match babe blue ox kicked much dirt created great lakes evidence paul ox remain mean really second natural science takes approach knowledge nothing known scientific law unless irrefutable theories must heavy supporting empirical data back turns head end run around knowledge plays games probabilities one can say flagella bacteria formed naturally can proponents come sort mathematically accurate probability flagella naturally forming bacteria understand statistics jumps right hurdle takes anything complete detailed natural explanation jams statistics say improbable happen someone must designed perversion science can assign probabilities something understand just making numbers finally example ab b deliberate design good rigged example except respect life earth b unknown ab example might qualify forensic science dead body b bullet heart see bunch dead bodies bullets heart next time see body bullet heart can probably figure killed life earth one scenario cases observe test sense ab scientific never actually observed b btw b tech aintelligent designer never observed sense science ',\n",
       " 'screwjob hey noticed comments monotremal screwjob discussion page decided sincae nobody except someone account objected said atlas change page little make fair just wanted tell thought like know changed words top first paragraph added something second one bothered fine thought sincae fighting nothing even said might aswell tell ',\n",
       " 'april 2006 thank experimenting page andy griffith wikipedia test worked reverted removed please use sandbox tests want take look welcome page like learn contributing encyclopedia',\n",
       " ' christ iq selected therefore every population iq never ceases amaze ',\n",
       " 'can prove better knowledge english language obvious ',\n",
       " ' shut run wikipedia especially stupid kid',\n",
       " 'oh vandalisingxd see greetings',\n",
       " 'website hey thinking getting website display pictures cheapest thing find know other fir diliff guys websites think legit provide better alternatives help guild member also appreciated thanks talk',\n",
       " 'thanks reading now ',\n",
       " 'personal attacks fruit brute vfd apologies critical feel many comments made fruit brute vfd debate far reasonable diplomatic way disagree s assertion initial sentence lie makes look even juvenile learn facee goofed will go long way life attacks age certainly border personal attack bart133 forty sixty eighty incaluded comment juvenile expect apologise anyone want make clear consider comments vfd debate inappropriate think many members community agree talk 0646 2005 feb 7 utch',\n",
       " 'transliteration russian place names writing moscow metro malayalam wikipedia finding difficult correctly transliterate russian place names example pronounce park kultury paar kalttari paar kachari perhaps something completely different can somebody please help transliterating list given hyperlink _ putting list want clutter page thanks',\n",
       " ' almost got look see real talk ',\n",
       " ' can one defame someone thinks fort hood shooting justified gods law',\n",
       " 'lack balance article seriously balance benefit greatly aintroduction additional information negative aspects t34 just record sort balance problem uncommon dependence works particular author example testing evaluation t34 us army ordanance adept exposed serious problems tank type information incaluded article bring back balance',\n",
       " ' thanks can see violating clearly stated wikipedia policy problem people now reviewed elsewhere finishing one wiki project tody spending rest day important personal blog entry go find discussions james petrea fascinating discussion use term jewish lobby put back deleted dissident voice article right away per talkjewish_lobbywpv__comparing_jewish_virtual_library_and_dissident_voice carol moore talk',\n",
       " ' hi thanks kind words see around talk ',\n",
       " 'collusion poker regarded heinous form cheating poker perhaps mention example warranted',\n",
       " 'thanks much however resolved today write anything edit summary camera put ad edit summary box1equalvoice1 talk',\n",
       " ' can right now get undername able impact saying seem familiar everything probably undername just get one takes 10 seconds talk contribs']"
      ]
     },
     "execution_count": 25,
     "metadata": {},
     "output_type": "execute_result"
    }
   ],
   "source": [
    "processor_data2.process(union)"
   ]
  },
  {
   "cell_type": "markdown",
   "metadata": {},
   "source": [
    "# Another example"
   ]
  },
  {
   "cell_type": "code",
   "execution_count": 26,
   "metadata": {},
   "outputs": [],
   "source": [
    "practice = [\"You're a fuckinh imbeecileee, imbecileee, imBEsiLe you idiott dumb asssssss\"]"
   ]
  },
  {
   "cell_type": "code",
   "execution_count": 27,
   "metadata": {},
   "outputs": [
    {
     "data": {
      "text/plain": [
       "[' fuckinh imbeecilee imbecilee imbesile idiott dumb ass']"
      ]
     },
     "execution_count": 27,
     "metadata": {},
     "output_type": "execute_result"
    }
   ],
   "source": [
    "practice_proce = processor_data.process(practice)\n",
    "practice_proce"
   ]
  },
  {
   "cell_type": "code",
   "execution_count": 28,
   "metadata": {},
   "outputs": [
    {
     "data": {
      "text/plain": [
       "[('imbeecilee', 'replace', 'imbecile'),\n",
       " ('imbecilee', 'replace', 'imbecile'),\n",
       " ('idiott', 'replace', 'idiot'),\n",
       " ('imbesile', 'replace', 'imbecile')]"
      ]
     },
     "execution_count": 28,
     "metadata": {},
     "output_type": "execute_result"
    }
   ],
   "source": [
    "mispellings(incorrect_words_searching(practice_proce))"
   ]
  },
  {
   "cell_type": "markdown",
   "metadata": {},
   "source": [
    "### Disclaimer: we consider that we did not do well in this assignment since we have not learned about NLP, so how to do the preprocessing was hard and personally we do not liket how we did it, besides, the problem with the regex to find companies and usernames is hard because it depends on how well people writes, and there are also all the possibles ways to write them, since in this dataset is not normalized how usernames are called neither companies. And also, for companies there are a lot of termination for companies and we do not know all of them.\n",
    "\n",
    "### Disclaimer 2: We think that making the mispelling words to their canonical form, was quite a challenge and we did not did well because after reading we found that the autocorrector how they work is they have a self dictionary that is constantly learning more and more, and we could not do that :(, for two reasons we do not have time and sounds hard."
   ]
  },
  {
   "cell_type": "code",
   "execution_count": null,
   "metadata": {},
   "outputs": [],
   "source": []
  }
 ],
 "metadata": {
  "kernelspec": {
   "display_name": "Python 3",
   "language": "python",
   "name": "python3"
  },
  "language_info": {
   "codemirror_mode": {
    "name": "ipython",
    "version": 3
   },
   "file_extension": ".py",
   "mimetype": "text/x-python",
   "name": "python",
   "nbconvert_exporter": "python",
   "pygments_lexer": "ipython3",
   "version": "3.8.6"
  }
 },
 "nbformat": 4,
 "nbformat_minor": 4
}
