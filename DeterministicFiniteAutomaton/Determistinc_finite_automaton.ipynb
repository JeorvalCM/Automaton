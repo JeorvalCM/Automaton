{
 "cells": [
  {
   "cell_type": "markdown",
   "metadata": {},
   "source": [
    "# Deterministic finite Automaton"
   ]
  },
  {
   "cell_type": "code",
   "execution_count": 1,
   "metadata": {},
   "outputs": [],
   "source": [
    "import networkx as nx\n",
    "import matplotlib.pyplot as plt"
   ]
  },
  {
   "cell_type": "code",
   "execution_count": 2,
   "metadata": {},
   "outputs": [],
   "source": [
    "class Automaton:\n",
    "    \"\"\"\n",
    "    Class Automaton which simultaes how a deterministic finite accepter works\n",
    "    \"\"\"\n",
    "    \n",
    "    def __init__(self, q = None, sigma = None, delta = None, q0 = None, f = None):\n",
    "        \"\"\"\n",
    "        Class initializar\n",
    "        \n",
    "        self.q receives all the states that conform the dfa\n",
    "        \n",
    "        self.sigma are all the variables defined in the dfa\n",
    "        \n",
    "        self.delta all are the operation defined, i.e- is a dictionary contating a tuple as key\n",
    "        where the left values of the tuple is the current state and the right value the variable pass and the value obtain by\n",
    "        accessing to with the key is to which state goes.\n",
    "        \n",
    "        self.q0 is the initial state\n",
    "        \n",
    "        self.f are all the final states\n",
    "        \n",
    "        self.actual_state is the state which the dfa finish after proccessing a word, if no word proccess the actual state is q0\n",
    "        and it is reset at start proccessing a new word\n",
    "        \"\"\"\n",
    "        self.q = q\n",
    "        self.sigma = sigma\n",
    "        self.delta = delta\n",
    "        self.q0 = q0\n",
    "        self.f = f\n",
    "        self.actual_state = q0\n",
    "        \n",
    "    def load_from_file(self, path, delta_separator = \"-\"):\n",
    "        \"\"\"\n",
    "        Function to read a file that contains an automaton\n",
    "        \n",
    "        path: path file\n",
    "        \"\"\"\n",
    "        \n",
    "        #dictionary to save the parts of the automaton\n",
    "        variables = {\"q\": None,\n",
    "             \"sigma\": None,\n",
    "             \"delta\": None,\n",
    "             \"q0\": None,\n",
    "             \"f\": None    \n",
    "        }\n",
    "\n",
    "        with open(path) as file:\n",
    "            #parsing the document\n",
    "            for line, variable in zip(file, variables):\n",
    "                    line = line.replace(\"{\", \"\")\n",
    "                    line = line.replace(\"}\", \"\")\n",
    "                    line = line.replace(\"\\n\", \"\")\n",
    "                    line = line.replace(\" \", \"\")\n",
    "                    value = list(line.split(\",\"))\n",
    "                    variables[variable] = value\n",
    "                    \n",
    "            #conditional to verify there is only one initial state        \n",
    "            if len(variables[\"q0\"]) > 1 or len(variables[\"q0\"]) == 0:\n",
    "                raise Exception('There are more than one initial state')\n",
    "\n",
    "            \n",
    "            #getting delta\n",
    "            variables[\"delta\"] = [values.split(delta_separator) for values in variables[\"delta\"]]\n",
    "            \n",
    "            #memory to check there in not repited transiction\n",
    "            Memory = [(value[0],value[1]) for value in variables[\"delta\"]]\n",
    "            \n",
    "            Aux_memory = []\n",
    "            \n",
    "            for var in Memory:\n",
    "                if var not in Aux_memory:\n",
    "                    Aux_memory.append(var)                    \n",
    "                else:\n",
    "                    raise TypeError(\"There is a transiction repited\")\n",
    "                    \n",
    "            #Memory to check that within the transictions there is no variable with more than one variable\n",
    "            Memory = [True for value in variables[\"delta\"] if len(value[1]) > 1]\n",
    "            \n",
    "            if sum(Memory) >= 1:\n",
    "                raise TypeError(\"At least One variable within a transictions contains more than 1 variable\")\n",
    "            \n",
    "            \n",
    "            \n",
    "            variables[\"delta\"] = {(value[0],value[1]): value[2] for value in variables[\"delta\"]}\n",
    "            \n",
    "            #getting q0\n",
    "            variables[\"q0\"] = variables[\"q0\"][0]\n",
    "            \n",
    "            #assigning the attributos of the class to the values obtained from the file\n",
    "            self.q = variables[\"q\"]\n",
    "            self.sigma = variables[\"sigma\"]\n",
    "            self.delta = variables[\"delta\"]\n",
    "            self.q0 = variables[\"q0\"] \n",
    "            self.f = variables[\"f\"]\n",
    "            self.actual_state = variables[\"q0\"]\n",
    "            \n",
    "        #conditional to verify the dfa is valid\n",
    "        if self.is_valid():\n",
    "            pass\n",
    "        else:\n",
    "            raise Exception('Is not a valid automaton')\n",
    "            \n",
    "            \n",
    "        \n",
    "    def proccess_word(self, word):\n",
    "        \"\"\"\n",
    "        Function to determine if a word belong to the language of the dfa\n",
    "        \"\"\"\n",
    "        \n",
    "        #restarting the actual state to the initial state\n",
    "        self.actual_state = self.q0 \n",
    "        \n",
    "        #loop to make our dfa proccess the word\n",
    "        for (letter) in str(word):\n",
    "            try:\n",
    "                #changing the current state of the dfa by using a tuple as a key for our dictionary of delta\n",
    "                self.actual_state = self.delta[(self.actual_state,letter)]\n",
    "            except:\n",
    "                raise Exception('That transiction is not defined, so no valid word')\n",
    "                \n",
    "        if self.actual_state in self.f:\n",
    "            print(\"Valid word\")\n",
    "            \n",
    "        else:\n",
    "            print(\"Unvalid word\")\n",
    "                 \n",
    "                \n",
    "    def __str__(self):\n",
    "        cadena = \"Grammar: \\n q: {} \\n sigma: {}, delta: {}, q0: {}, f: {}, current_sate: {}\".format(\n",
    "        self.q , self.sigma, self.delta, self.q0, self.f, self.actual_state) \n",
    "        return cadena\n",
    "    \n",
    "    def is_valid(self):\n",
    "        \n",
    "        \"\"\"\n",
    "        Funtion to validate whether the dfa is valid or not\n",
    "        \n",
    "        Uses the attributes of the class\n",
    "        \"\"\"\n",
    "        \n",
    "        #gets the tuples which are the deltas defined\n",
    "        all_defined_oper = list(self.delta.keys())\n",
    "        \n",
    "        #get the values of the deltas\n",
    "        all_to_go_states = list(self.delta.values())\n",
    "        \n",
    "        #gets the left value of the tuple\n",
    "        all_states_to_receive = [state[0] for state in list(self.delta.keys())]\n",
    "        \n",
    "        #gets the right value of the tuple\n",
    "        all_variables_to_receive = [state[1] for state in list(self.delta.keys())]\n",
    "        \n",
    "        \n",
    "        #conditional to check if the final states are subsets of q, which is the variable containing all the states\n",
    "        if set(self.f).issubset(set(self.q)):\n",
    "            pass\n",
    "        \n",
    "        else:\n",
    "            raise TypeError(\"States of F are not a subset of states q\")\n",
    "            \n",
    "        \n",
    "        #conditional to check if the inital state is a subsets of q, which is the variable containing all the states    \n",
    "        if set([self.q0]).issubset(set(self.q)):\n",
    "            pass\n",
    "        \n",
    "        else:\n",
    "            raise TypeError(\"q0 is not a subset of states q\")\n",
    "        \n",
    "        \n",
    "        #checking if all the transictions of delta are subsets of q\n",
    "        if set(all_to_go_states).issubset(set(self.q)):\n",
    "            pass\n",
    "        \n",
    "        else:\n",
    "            raise TypeError(\"The state resultant of a transiction is not a subset of states q\")\n",
    "        \n",
    "        #checking if the left value of the tuple is subset of q and the right value is subset of sigma\n",
    "        if set(all_states_to_receive).issubset(set(self.q)):\n",
    "            pass\n",
    "        \n",
    "        else:\n",
    "            raise TypeError(\"The state before a applying the transiction is not a subset of q\")\n",
    "            \n",
    "        if set(all_variables_to_receive).issubset(set(self.sigma)):\n",
    "            pass\n",
    "        \n",
    "        else:\n",
    "            raise TypeError(\"The variable which is apply to the transiction is not a subset of sigma\")\n",
    "        \n",
    "        \n",
    "        #checking that each variable have defined a transition on each state\n",
    "        for state in self.q:\n",
    "            for variable in self.sigma:\n",
    "                if (state,variable) in all_defined_oper:\n",
    "                    pass\n",
    "                else:\n",
    "                    raise TypeError(\"At least one variable has not a defined transiction in a state\")\n",
    "                \n",
    "        \n",
    "        return 1 \n",
    "    \n",
    "        \n",
    "              "
   ]
  },
  {
   "cell_type": "markdown",
   "metadata": {},
   "source": [
    "## Implementation explanation"
   ]
  },
  {
   "cell_type": "markdown",
   "metadata": {},
   "source": [
    "#### Explaining the parsing"
   ]
  },
  {
   "cell_type": "markdown",
   "metadata": {},
   "source": [
    "```\n",
    "for line, variable in zip(file, variables):\n",
    "                    line = line.replace(\"{\", \"\")\n",
    "                    line = line.replace(\"}\", \"\")\n",
    "                    line = line.replace(\"\\n\", \"\")\n",
    "                    line = line.replace(\" \", \"\")\n",
    "                    value = list(line.split(\",\"))\n",
    "                    variables[variable] = value\n",
    "```"
   ]
  },
  {
   "cell_type": "markdown",
   "metadata": {},
   "source": [
    "That code eliminates all the characters that are not neccesarry and then split the values of each line into a list, follow by saving the values on a dictionary"
   ]
  },
  {
   "cell_type": "markdown",
   "metadata": {},
   "source": [
    "```\n",
    "variables[\"delta\"] = [values.split(\"-\") for values in variables[\"delta\"]]\n",
    "variables[\"delta\"] = {(value[0],value[1]): value[2] for value in variables[\"delta\"]}\n",
    "```"
   ]
  },
  {
   "cell_type": "markdown",
   "metadata": {},
   "source": [
    "here we separate the values of delta into tuplet key and the state it goes after receiving that key"
   ]
  },
  {
   "cell_type": "markdown",
   "metadata": {},
   "source": [
    "#### Explaining the method proccess_word"
   ]
  },
  {
   "cell_type": "markdown",
   "metadata": {},
   "source": [
    "```\n",
    "for (letter) in str(word):\n",
    "            try:\n",
    "                self.actual_state = self.delta[(self.actual_state,letter)]\n",
    "            except:\n",
    "                raise Exception('That transiction is not defined, so no valid word')\n",
    "                \n",
    "```"
   ]
  },
  {
   "cell_type": "markdown",
   "metadata": {},
   "source": [
    "the loop works to get one character of the string one by one, and using try we check that the transictions is especified and since we know that our automata is valid thanks to the method is_valid(), we know that an error is because receive a letter that does not exist in sigma"
   ]
  },
  {
   "cell_type": "markdown",
   "metadata": {},
   "source": [
    "```\n",
    "if self.actual_state in self.f:\n",
    "            print(\"Valid word\")\n",
    "            \n",
    "        else:\n",
    "            print(\"Unvalid word\")\n",
    "            \n",
    "```"
   ]
  },
  {
   "cell_type": "markdown",
   "metadata": {},
   "source": [
    "So, in the last state of the proccess words if is a subset of the set of final states, so is a valid word, in other way is not."
   ]
  },
  {
   "cell_type": "markdown",
   "metadata": {},
   "source": [
    "## Implementation Example"
   ]
  },
  {
   "cell_type": "markdown",
   "metadata": {},
   "source": [
    "#### Creating an object of the class Automaton"
   ]
  },
  {
   "cell_type": "code",
   "execution_count": 3,
   "metadata": {},
   "outputs": [],
   "source": [
    "Automata = Automaton()"
   ]
  },
  {
   "cell_type": "markdown",
   "metadata": {},
   "source": [
    "#### Using one of its public method to read an automata from a file"
   ]
  },
  {
   "cell_type": "code",
   "execution_count": 4,
   "metadata": {},
   "outputs": [],
   "source": [
    "Automata.load_from_file(\"data/automata.txt\")"
   ]
  },
  {
   "cell_type": "markdown",
   "metadata": {},
   "source": [
    "#### Accesing to its attributes"
   ]
  },
  {
   "cell_type": "markdown",
   "metadata": {},
   "source": [
    "$q$"
   ]
  },
  {
   "cell_type": "code",
   "execution_count": 5,
   "metadata": {},
   "outputs": [
    {
     "data": {
      "text/plain": [
       "['q0', 'q1', 'q2', 'q3']"
      ]
     },
     "execution_count": 5,
     "metadata": {},
     "output_type": "execute_result"
    }
   ],
   "source": [
    "Automata.q"
   ]
  },
  {
   "cell_type": "markdown",
   "metadata": {},
   "source": [
    " $\\delta$"
   ]
  },
  {
   "cell_type": "code",
   "execution_count": 6,
   "metadata": {},
   "outputs": [
    {
     "data": {
      "text/plain": [
       "{('q0', '0'): 'q3',\n",
       " ('q0', '1'): 'q1',\n",
       " ('q1', '0'): 'q2',\n",
       " ('q1', '1'): 'q1',\n",
       " ('q2', '0'): 'q2',\n",
       " ('q2', '1'): 'q1',\n",
       " ('q3', '0'): 'q3',\n",
       " ('q3', '1'): 'q3'}"
      ]
     },
     "execution_count": 6,
     "metadata": {},
     "output_type": "execute_result"
    }
   ],
   "source": [
    "Automata.delta"
   ]
  },
  {
   "cell_type": "markdown",
   "metadata": {},
   "source": [
    "$\\Sigma$"
   ]
  },
  {
   "cell_type": "code",
   "execution_count": 7,
   "metadata": {},
   "outputs": [
    {
     "data": {
      "text/plain": [
       "['0', '1']"
      ]
     },
     "execution_count": 7,
     "metadata": {},
     "output_type": "execute_result"
    }
   ],
   "source": [
    "Automata.sigma"
   ]
  },
  {
   "cell_type": "markdown",
   "metadata": {},
   "source": [
    "$q_{0}$"
   ]
  },
  {
   "cell_type": "code",
   "execution_count": 8,
   "metadata": {},
   "outputs": [
    {
     "data": {
      "text/plain": [
       "'q0'"
      ]
     },
     "execution_count": 8,
     "metadata": {},
     "output_type": "execute_result"
    }
   ],
   "source": [
    "Automata.q0"
   ]
  },
  {
   "cell_type": "markdown",
   "metadata": {},
   "source": [
    "$f$"
   ]
  },
  {
   "cell_type": "code",
   "execution_count": 9,
   "metadata": {},
   "outputs": [
    {
     "data": {
      "text/plain": [
       "['q2']"
      ]
     },
     "execution_count": 9,
     "metadata": {},
     "output_type": "execute_result"
    }
   ],
   "source": [
    "Automata.f"
   ]
  },
  {
   "cell_type": "markdown",
   "metadata": {},
   "source": [
    "#### Examples of proccessing words"
   ]
  },
  {
   "cell_type": "code",
   "execution_count": 10,
   "metadata": {},
   "outputs": [
    {
     "name": "stdout",
     "output_type": "stream",
     "text": [
      "Unvalid word\n"
     ]
    }
   ],
   "source": [
    "Automata.proccess_word(\"01\")"
   ]
  },
  {
   "cell_type": "code",
   "execution_count": 11,
   "metadata": {},
   "outputs": [
    {
     "name": "stdout",
     "output_type": "stream",
     "text": [
      "Valid word\n"
     ]
    }
   ],
   "source": [
    "Automata.proccess_word(\"100000\")"
   ]
  },
  {
   "cell_type": "markdown",
   "metadata": {},
   "source": [
    "#### Using the method str"
   ]
  },
  {
   "cell_type": "code",
   "execution_count": 12,
   "metadata": {},
   "outputs": [
    {
     "data": {
      "text/plain": [
       "\"Grammar: \\n q: ['q0', 'q1', 'q2', 'q3'] \\n sigma: ['0', '1'], delta: {('q0', '0'): 'q3', ('q0', '1'): 'q1', ('q1', '0'): 'q2', ('q1', '1'): 'q1', ('q2', '0'): 'q2', ('q2', '1'): 'q1', ('q3', '0'): 'q3', ('q3', '1'): 'q3'}, q0: q0, f: ['q2'], current_sate: q2\""
      ]
     },
     "execution_count": 12,
     "metadata": {},
     "output_type": "execute_result"
    }
   ],
   "source": [
    "str(Automata)"
   ]
  },
  {
   "cell_type": "markdown",
   "metadata": {},
   "source": [
    "### Implementation 2"
   ]
  },
  {
   "cell_type": "code",
   "execution_count": 13,
   "metadata": {},
   "outputs": [],
   "source": [
    "Automata2 = Automaton()"
   ]
  },
  {
   "cell_type": "code",
   "execution_count": 14,
   "metadata": {},
   "outputs": [],
   "source": [
    "Automata2.load_from_file(\"data/automata2.txt\")"
   ]
  },
  {
   "cell_type": "code",
   "execution_count": 15,
   "metadata": {},
   "outputs": [
    {
     "data": {
      "text/plain": [
       "['a', 'b']"
      ]
     },
     "execution_count": 15,
     "metadata": {},
     "output_type": "execute_result"
    }
   ],
   "source": [
    "Automata2.sigma"
   ]
  },
  {
   "cell_type": "code",
   "execution_count": 16,
   "metadata": {},
   "outputs": [
    {
     "data": {
      "text/plain": [
       "{('A', 'a'): 'B',\n",
       " ('A', 'b'): 'A',\n",
       " ('B', 'a'): 'C',\n",
       " ('B', 'b'): 'A',\n",
       " ('C', 'a'): 'C',\n",
       " ('C', 'b'): 'A'}"
      ]
     },
     "execution_count": 16,
     "metadata": {},
     "output_type": "execute_result"
    }
   ],
   "source": [
    "Automata2.delta"
   ]
  },
  {
   "cell_type": "code",
   "execution_count": 17,
   "metadata": {},
   "outputs": [
    {
     "data": {
      "text/plain": [
       "['C']"
      ]
     },
     "execution_count": 17,
     "metadata": {},
     "output_type": "execute_result"
    }
   ],
   "source": [
    "Automata2.f"
   ]
  },
  {
   "cell_type": "code",
   "execution_count": 18,
   "metadata": {},
   "outputs": [
    {
     "name": "stdout",
     "output_type": "stream",
     "text": [
      "Unvalid word\n"
     ]
    }
   ],
   "source": [
    "Automata2.proccess_word(\"ab\")"
   ]
  },
  {
   "cell_type": "code",
   "execution_count": 19,
   "metadata": {},
   "outputs": [
    {
     "name": "stdout",
     "output_type": "stream",
     "text": [
      "Valid word\n"
     ]
    }
   ],
   "source": [
    "Automata2.proccess_word(\"aaaaaaa\")"
   ]
  },
  {
   "cell_type": "markdown",
   "metadata": {},
   "source": [
    "# Implementation 3"
   ]
  },
  {
   "cell_type": "code",
   "execution_count": 20,
   "metadata": {},
   "outputs": [],
   "source": [
    "Automata3 = Automaton()"
   ]
  },
  {
   "cell_type": "code",
   "execution_count": 21,
   "metadata": {},
   "outputs": [],
   "source": [
    "Automata3.load_from_file(\"data/automata3.txt\")"
   ]
  },
  {
   "cell_type": "code",
   "execution_count": 22,
   "metadata": {},
   "outputs": [
    {
     "data": {
      "text/plain": [
       "['a', 'b']"
      ]
     },
     "execution_count": 22,
     "metadata": {},
     "output_type": "execute_result"
    }
   ],
   "source": [
    "Automata3.sigma"
   ]
  },
  {
   "cell_type": "code",
   "execution_count": 23,
   "metadata": {},
   "outputs": [
    {
     "data": {
      "text/plain": [
       "{('0', 'a'): '1',\n",
       " ('0', 'b'): '2',\n",
       " ('1', 'a'): '3',\n",
       " ('1', 'b'): '2',\n",
       " ('3', 'a'): '3',\n",
       " ('3', 'b'): '4',\n",
       " ('4', 'a'): '2',\n",
       " ('4', 'b'): '4',\n",
       " ('2', 'a'): '2',\n",
       " ('2', 'b'): '2'}"
      ]
     },
     "execution_count": 23,
     "metadata": {},
     "output_type": "execute_result"
    }
   ],
   "source": [
    "Automata3.delta"
   ]
  },
  {
   "cell_type": "code",
   "execution_count": 24,
   "metadata": {},
   "outputs": [
    {
     "data": {
      "text/plain": [
       "['4']"
      ]
     },
     "execution_count": 24,
     "metadata": {},
     "output_type": "execute_result"
    }
   ],
   "source": [
    "Automata3.f"
   ]
  },
  {
   "cell_type": "code",
   "execution_count": 25,
   "metadata": {},
   "outputs": [
    {
     "name": "stdout",
     "output_type": "stream",
     "text": [
      "Valid word\n"
     ]
    }
   ],
   "source": [
    "Automata3.proccess_word(\"aaaabbbbb\")"
   ]
  },
  {
   "cell_type": "code",
   "execution_count": 26,
   "metadata": {},
   "outputs": [
    {
     "name": "stdout",
     "output_type": "stream",
     "text": [
      "Unvalid word\n"
     ]
    }
   ],
   "source": [
    "Automata3.proccess_word(\"aaaababbbb\")"
   ]
  },
  {
   "cell_type": "markdown",
   "metadata": {},
   "source": [
    "# Implementation 4"
   ]
  },
  {
   "cell_type": "code",
   "execution_count": 27,
   "metadata": {},
   "outputs": [],
   "source": [
    "Automata4 = Automaton()"
   ]
  },
  {
   "cell_type": "code",
   "execution_count": 28,
   "metadata": {},
   "outputs": [],
   "source": [
    "Automata4.load_from_file(\"data/automata4.txt\")"
   ]
  },
  {
   "cell_type": "code",
   "execution_count": 29,
   "metadata": {},
   "outputs": [
    {
     "data": {
      "text/plain": [
       "['a', 'b']"
      ]
     },
     "execution_count": 29,
     "metadata": {},
     "output_type": "execute_result"
    }
   ],
   "source": [
    "Automata4.sigma"
   ]
  },
  {
   "cell_type": "code",
   "execution_count": 30,
   "metadata": {},
   "outputs": [
    {
     "data": {
      "text/plain": [
       "{('0', 'a'): '1',\n",
       " ('0', 'b'): '3',\n",
       " ('1', 'a'): '1',\n",
       " ('1', 'b'): '2',\n",
       " ('3', 'a'): '2',\n",
       " ('3', 'b'): '4',\n",
       " ('4', 'a'): '2',\n",
       " ('4', 'b'): '4',\n",
       " ('2', 'a'): '5',\n",
       " ('2', 'b'): '5',\n",
       " ('5', 'a'): '5',\n",
       " ('5', 'b'): '5'}"
      ]
     },
     "execution_count": 30,
     "metadata": {},
     "output_type": "execute_result"
    }
   ],
   "source": [
    "Automata4.delta"
   ]
  },
  {
   "cell_type": "code",
   "execution_count": 31,
   "metadata": {},
   "outputs": [
    {
     "data": {
      "text/plain": [
       "['2', '3']"
      ]
     },
     "execution_count": 31,
     "metadata": {},
     "output_type": "execute_result"
    }
   ],
   "source": [
    "Automata4.f"
   ]
  },
  {
   "cell_type": "code",
   "execution_count": 32,
   "metadata": {},
   "outputs": [
    {
     "name": "stdout",
     "output_type": "stream",
     "text": [
      "Valid word\n"
     ]
    }
   ],
   "source": [
    "Automata4.proccess_word(\"aaaab\")"
   ]
  },
  {
   "cell_type": "code",
   "execution_count": 33,
   "metadata": {},
   "outputs": [
    {
     "name": "stdout",
     "output_type": "stream",
     "text": [
      "Unvalid word\n"
     ]
    }
   ],
   "source": [
    "Automata4.proccess_word(\"aaaabbbb\")"
   ]
  },
  {
   "cell_type": "markdown",
   "metadata": {},
   "source": [
    "# Implementation 5"
   ]
  },
  {
   "cell_type": "code",
   "execution_count": 34,
   "metadata": {},
   "outputs": [],
   "source": [
    "Automata5 = Automaton()"
   ]
  },
  {
   "cell_type": "code",
   "execution_count": 35,
   "metadata": {},
   "outputs": [],
   "source": [
    "Automata5.load_from_file(\"data/automata5.txt\")"
   ]
  },
  {
   "cell_type": "code",
   "execution_count": 36,
   "metadata": {},
   "outputs": [
    {
     "data": {
      "text/plain": [
       "['a', 'b']"
      ]
     },
     "execution_count": 36,
     "metadata": {},
     "output_type": "execute_result"
    }
   ],
   "source": [
    "Automata5.sigma"
   ]
  },
  {
   "cell_type": "code",
   "execution_count": 37,
   "metadata": {},
   "outputs": [
    {
     "data": {
      "text/plain": [
       "{('0', 'a'): '1',\n",
       " ('0', 'b'): '5',\n",
       " ('1', 'a'): '2',\n",
       " ('1', 'b'): '5',\n",
       " ('3', 'a'): '4',\n",
       " ('3', 'b'): '5',\n",
       " ('4', 'a'): '4',\n",
       " ('4', 'b'): '5',\n",
       " ('2', 'a'): '3',\n",
       " ('2', 'b'): '5',\n",
       " ('5', 'a'): '5',\n",
       " ('5', 'b'): '5'}"
      ]
     },
     "execution_count": 37,
     "metadata": {},
     "output_type": "execute_result"
    }
   ],
   "source": [
    "Automata5.delta"
   ]
  },
  {
   "cell_type": "code",
   "execution_count": 38,
   "metadata": {},
   "outputs": [
    {
     "data": {
      "text/plain": [
       "['0', '1', '2', '4']"
      ]
     },
     "execution_count": 38,
     "metadata": {},
     "output_type": "execute_result"
    }
   ],
   "source": [
    "Automata5.f"
   ]
  },
  {
   "cell_type": "code",
   "execution_count": 39,
   "metadata": {},
   "outputs": [
    {
     "name": "stdout",
     "output_type": "stream",
     "text": [
      "Valid word\n"
     ]
    }
   ],
   "source": [
    "Automata5.proccess_word(\"a\")"
   ]
  },
  {
   "cell_type": "code",
   "execution_count": 40,
   "metadata": {},
   "outputs": [
    {
     "name": "stdout",
     "output_type": "stream",
     "text": [
      "Unvalid word\n"
     ]
    }
   ],
   "source": [
    "Automata5.proccess_word(\"aaaabbbb\")"
   ]
  },
  {
   "cell_type": "markdown",
   "metadata": {},
   "source": [
    "# Implementation 6"
   ]
  },
  {
   "cell_type": "code",
   "execution_count": 41,
   "metadata": {},
   "outputs": [],
   "source": [
    "Automata6 = Automaton()"
   ]
  },
  {
   "cell_type": "code",
   "execution_count": 42,
   "metadata": {},
   "outputs": [],
   "source": [
    "Automata6.load_from_file(\"data/automata6.txt\")"
   ]
  },
  {
   "cell_type": "code",
   "execution_count": 43,
   "metadata": {},
   "outputs": [
    {
     "data": {
      "text/plain": [
       "['a', 'b']"
      ]
     },
     "execution_count": 43,
     "metadata": {},
     "output_type": "execute_result"
    }
   ],
   "source": [
    "Automata6.sigma"
   ]
  },
  {
   "cell_type": "code",
   "execution_count": 44,
   "metadata": {},
   "outputs": [
    {
     "data": {
      "text/plain": [
       "{('0', 'a'): '1',\n",
       " ('0', 'b'): '6',\n",
       " ('1', 'a'): '2',\n",
       " ('1', 'b'): '6',\n",
       " ('2', 'a'): '3',\n",
       " ('2', 'b'): '6',\n",
       " ('3', 'a'): '4',\n",
       " ('3', 'b'): '6',\n",
       " ('4', 'a'): '5',\n",
       " ('4', 'b'): '6',\n",
       " ('5', 'a'): '5',\n",
       " ('5', 'b'): '6',\n",
       " ('6', 'a'): '6',\n",
       " ('6', 'b'): '6'}"
      ]
     },
     "execution_count": 44,
     "metadata": {},
     "output_type": "execute_result"
    }
   ],
   "source": [
    "Automata6.delta"
   ]
  },
  {
   "cell_type": "code",
   "execution_count": 45,
   "metadata": {},
   "outputs": [
    {
     "data": {
      "text/plain": [
       "['0', '1', '3', '5']"
      ]
     },
     "execution_count": 45,
     "metadata": {},
     "output_type": "execute_result"
    }
   ],
   "source": [
    "Automata6.f"
   ]
  },
  {
   "cell_type": "code",
   "execution_count": 46,
   "metadata": {},
   "outputs": [
    {
     "name": "stdout",
     "output_type": "stream",
     "text": [
      "Valid word\n"
     ]
    }
   ],
   "source": [
    "Automata6.proccess_word(\"aaa\")"
   ]
  },
  {
   "cell_type": "code",
   "execution_count": 47,
   "metadata": {},
   "outputs": [
    {
     "name": "stdout",
     "output_type": "stream",
     "text": [
      "Unvalid word\n"
     ]
    }
   ],
   "source": [
    "Automata6.proccess_word(\"aa\")"
   ]
  },
  {
   "cell_type": "markdown",
   "metadata": {},
   "source": [
    "# Implementation 7"
   ]
  },
  {
   "cell_type": "code",
   "execution_count": 48,
   "metadata": {},
   "outputs": [],
   "source": [
    "Automata7 = Automaton()"
   ]
  },
  {
   "cell_type": "code",
   "execution_count": 49,
   "metadata": {},
   "outputs": [
    {
     "ename": "TypeError",
     "evalue": "q0 is not a subset of states q",
     "output_type": "error",
     "traceback": [
      "\u001b[1;31m---------------------------------------------------------------------------\u001b[0m",
      "\u001b[1;31mTypeError\u001b[0m                                 Traceback (most recent call last)",
      "\u001b[1;32m<ipython-input-49-5c576baf1bfd>\u001b[0m in \u001b[0;36m<module>\u001b[1;34m\u001b[0m\n\u001b[1;32m----> 1\u001b[1;33m \u001b[0mAutomata7\u001b[0m\u001b[1;33m.\u001b[0m\u001b[0mload_from_file\u001b[0m\u001b[1;33m(\u001b[0m\u001b[1;34m\"automata7.txt\"\u001b[0m\u001b[1;33m)\u001b[0m\u001b[1;33m\u001b[0m\u001b[1;33m\u001b[0m\u001b[0m\n\u001b[0m",
      "\u001b[1;32m<ipython-input-2-92c0960e9336>\u001b[0m in \u001b[0;36mload_from_file\u001b[1;34m(self, path, delta_separator)\u001b[0m\n\u001b[0;32m     96\u001b[0m \u001b[1;33m\u001b[0m\u001b[0m\n\u001b[0;32m     97\u001b[0m         \u001b[1;31m#conditional to verify the dfa is valid\u001b[0m\u001b[1;33m\u001b[0m\u001b[1;33m\u001b[0m\u001b[1;33m\u001b[0m\u001b[0m\n\u001b[1;32m---> 98\u001b[1;33m         \u001b[1;32mif\u001b[0m \u001b[0mself\u001b[0m\u001b[1;33m.\u001b[0m\u001b[0mis_valid\u001b[0m\u001b[1;33m(\u001b[0m\u001b[1;33m)\u001b[0m\u001b[1;33m:\u001b[0m\u001b[1;33m\u001b[0m\u001b[1;33m\u001b[0m\u001b[0m\n\u001b[0m\u001b[0;32m     99\u001b[0m             \u001b[1;32mpass\u001b[0m\u001b[1;33m\u001b[0m\u001b[1;33m\u001b[0m\u001b[0m\n\u001b[0;32m    100\u001b[0m         \u001b[1;32melse\u001b[0m\u001b[1;33m:\u001b[0m\u001b[1;33m\u001b[0m\u001b[1;33m\u001b[0m\u001b[0m\n",
      "\u001b[1;32m<ipython-input-2-92c0960e9336>\u001b[0m in \u001b[0;36mis_valid\u001b[1;34m(self)\u001b[0m\n\u001b[0;32m    165\u001b[0m \u001b[1;33m\u001b[0m\u001b[0m\n\u001b[0;32m    166\u001b[0m         \u001b[1;32melse\u001b[0m\u001b[1;33m:\u001b[0m\u001b[1;33m\u001b[0m\u001b[1;33m\u001b[0m\u001b[0m\n\u001b[1;32m--> 167\u001b[1;33m             \u001b[1;32mraise\u001b[0m \u001b[0mTypeError\u001b[0m\u001b[1;33m(\u001b[0m\u001b[1;34m\"q0 is not a subset of states q\"\u001b[0m\u001b[1;33m)\u001b[0m\u001b[1;33m\u001b[0m\u001b[1;33m\u001b[0m\u001b[0m\n\u001b[0m\u001b[0;32m    168\u001b[0m \u001b[1;33m\u001b[0m\u001b[0m\n\u001b[0;32m    169\u001b[0m \u001b[1;33m\u001b[0m\u001b[0m\n",
      "\u001b[1;31mTypeError\u001b[0m: q0 is not a subset of states q"
     ]
    }
   ],
   "source": [
    "Automata7.load_from_file(\"data/automata7.txt\")"
   ]
  },
  {
   "cell_type": "code",
   "execution_count": null,
   "metadata": {},
   "outputs": [],
   "source": [
    "Automata8 = Automaton()"
   ]
  },
  {
   "cell_type": "code",
   "execution_count": null,
   "metadata": {},
   "outputs": [],
   "source": [
    "Automata8.load_from_file(\"data/automata8.txt\")"
   ]
  },
  {
   "cell_type": "code",
   "execution_count": null,
   "metadata": {},
   "outputs": [],
   "source": []
  }
 ],
 "metadata": {
  "kernelspec": {
   "display_name": "Python 3",
   "language": "python",
   "name": "python3"
  },
  "language_info": {
   "codemirror_mode": {
    "name": "ipython",
    "version": 3
   },
   "file_extension": ".py",
   "mimetype": "text/x-python",
   "name": "python",
   "nbconvert_exporter": "python",
   "pygments_lexer": "ipython3",
   "version": "3.8.6"
  }
 },
 "nbformat": 4,
 "nbformat_minor": 4
}
